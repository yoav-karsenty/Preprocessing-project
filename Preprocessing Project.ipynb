{
 "cells": [
  {
   "cell_type": "markdown",
   "metadata": {},
   "source": [
    "# Analyzing borrowers’ risk of defaulting\n",
    "\n",
    "In this project, I am going to prepare a report for a bank’s loan division. The purpose of this project is to find out if a customer’s marital status and number of children has an impact on whether they will default on a loan. \n",
    "Here is my workplan for this project:\n",
    "\n",
    "1. Exploring the data \n",
    "2. Detecting what's needs to be fixed in the data and fixing it (missing values, duplicates...)\n",
    "3. Create categoris to help analys to data better (if necessary)\n",
    "4. Checking the hypotheses\n",
    "5. conclude the evidance found\n"
   ]
  },
  {
   "cell_type": "markdown",
   "metadata": {},
   "source": [
    "IMPORTED:\n"
   ]
  },
  {
   "cell_type": "code",
   "execution_count": 1,
   "metadata": {},
   "outputs": [
    {
     "data": {
      "text/html": [
       "<div>\n",
       "<style scoped>\n",
       "    .dataframe tbody tr th:only-of-type {\n",
       "        vertical-align: middle;\n",
       "    }\n",
       "\n",
       "    .dataframe tbody tr th {\n",
       "        vertical-align: top;\n",
       "    }\n",
       "\n",
       "    .dataframe thead th {\n",
       "        text-align: right;\n",
       "    }\n",
       "</style>\n",
       "<table border=\"1\" class=\"dataframe\">\n",
       "  <thead>\n",
       "    <tr style=\"text-align: right;\">\n",
       "      <th></th>\n",
       "      <th>children</th>\n",
       "      <th>days_employed</th>\n",
       "      <th>dob_years</th>\n",
       "      <th>education</th>\n",
       "      <th>education_id</th>\n",
       "      <th>family_status</th>\n",
       "      <th>family_status_id</th>\n",
       "      <th>gender</th>\n",
       "      <th>income_type</th>\n",
       "      <th>debt</th>\n",
       "      <th>total_income</th>\n",
       "      <th>purpose</th>\n",
       "    </tr>\n",
       "  </thead>\n",
       "  <tbody>\n",
       "    <tr>\n",
       "      <th>0</th>\n",
       "      <td>1</td>\n",
       "      <td>-8437.673028</td>\n",
       "      <td>42</td>\n",
       "      <td>bachelor's degree</td>\n",
       "      <td>0</td>\n",
       "      <td>married</td>\n",
       "      <td>0</td>\n",
       "      <td>F</td>\n",
       "      <td>employee</td>\n",
       "      <td>0</td>\n",
       "      <td>40620.102</td>\n",
       "      <td>purchase of the house</td>\n",
       "    </tr>\n",
       "    <tr>\n",
       "      <th>1</th>\n",
       "      <td>1</td>\n",
       "      <td>-4024.803754</td>\n",
       "      <td>36</td>\n",
       "      <td>secondary education</td>\n",
       "      <td>1</td>\n",
       "      <td>married</td>\n",
       "      <td>0</td>\n",
       "      <td>F</td>\n",
       "      <td>employee</td>\n",
       "      <td>0</td>\n",
       "      <td>17932.802</td>\n",
       "      <td>car purchase</td>\n",
       "    </tr>\n",
       "    <tr>\n",
       "      <th>2</th>\n",
       "      <td>0</td>\n",
       "      <td>-5623.422610</td>\n",
       "      <td>33</td>\n",
       "      <td>Secondary Education</td>\n",
       "      <td>1</td>\n",
       "      <td>married</td>\n",
       "      <td>0</td>\n",
       "      <td>M</td>\n",
       "      <td>employee</td>\n",
       "      <td>0</td>\n",
       "      <td>23341.752</td>\n",
       "      <td>purchase of the house</td>\n",
       "    </tr>\n",
       "    <tr>\n",
       "      <th>3</th>\n",
       "      <td>3</td>\n",
       "      <td>-4124.747207</td>\n",
       "      <td>32</td>\n",
       "      <td>secondary education</td>\n",
       "      <td>1</td>\n",
       "      <td>married</td>\n",
       "      <td>0</td>\n",
       "      <td>M</td>\n",
       "      <td>employee</td>\n",
       "      <td>0</td>\n",
       "      <td>42820.568</td>\n",
       "      <td>supplementary education</td>\n",
       "    </tr>\n",
       "    <tr>\n",
       "      <th>4</th>\n",
       "      <td>0</td>\n",
       "      <td>340266.072047</td>\n",
       "      <td>53</td>\n",
       "      <td>secondary education</td>\n",
       "      <td>1</td>\n",
       "      <td>civil partnership</td>\n",
       "      <td>1</td>\n",
       "      <td>F</td>\n",
       "      <td>retiree</td>\n",
       "      <td>0</td>\n",
       "      <td>25378.572</td>\n",
       "      <td>to have a wedding</td>\n",
       "    </tr>\n",
       "  </tbody>\n",
       "</table>\n",
       "</div>"
      ],
      "text/plain": [
       "   children  days_employed  dob_years            education  education_id  \\\n",
       "0         1   -8437.673028         42    bachelor's degree             0   \n",
       "1         1   -4024.803754         36  secondary education             1   \n",
       "2         0   -5623.422610         33  Secondary Education             1   \n",
       "3         3   -4124.747207         32  secondary education             1   \n",
       "4         0  340266.072047         53  secondary education             1   \n",
       "\n",
       "       family_status  family_status_id gender income_type  debt  total_income  \\\n",
       "0            married                 0      F    employee     0     40620.102   \n",
       "1            married                 0      F    employee     0     17932.802   \n",
       "2            married                 0      M    employee     0     23341.752   \n",
       "3            married                 0      M    employee     0     42820.568   \n",
       "4  civil partnership                 1      F     retiree     0     25378.572   \n",
       "\n",
       "                   purpose  \n",
       "0    purchase of the house  \n",
       "1             car purchase  \n",
       "2    purchase of the house  \n",
       "3  supplementary education  \n",
       "4        to have a wedding  "
      ]
     },
     "execution_count": 1,
     "metadata": {},
     "output_type": "execute_result"
    }
   ],
   "source": [
    "import pandas as pd\n",
    "import numpy as np\n",
    "import nltk\n",
    "\n",
    "from nltk import WordNetLemmatizer\n",
    "wordnet_lemma = WordNetLemmatizer()\n",
    "\n",
    "import matplotlib.pyplot as plt\n",
    "from collections import Counter\n",
    "\n",
    "import warnings\n",
    "warnings.filterwarnings(\"ignore\")\n",
    "import requests\n",
    "import io\n",
    "    \n",
    "# Downloading the csv file from my GitHub account\n",
    "\n",
    "url = \"https://raw.githubusercontent.com/yoav-karsenty/Preprocessing-project/main/credit_scoring_eng%20(1).csv\" # Make sure the url is the raw version of the file on GitHub\n",
    "download = requests.get(url).content\n",
    "\n",
    "# Reading the downloaded content and turning it into a pandas dataframe\n",
    "\n",
    "df = pd.read_csv(io.StringIO(download.decode('utf-8')))\n",
    "\n",
    "# Printing out the first 5 rows of the dataframe\n",
    "df.head()"
   ]
  },
  {
   "cell_type": "markdown",
   "metadata": {},
   "source": [
    "\n",
    "\n",
    "**Description of the data**\n",
    "- `children` - the number of children in the family\n",
    "- `days_employed` - work experience in days\n",
    "- `dob_years` - client's age in years\n",
    "- `education` - client's education\n",
    "- `education_id` - education identifier\n",
    "- `family_status` - marital status\n",
    "- `family_status_id` - marital status identifier\n",
    "- `gender` - gender of the client\n",
    "- `income_type` - type of employment\n",
    "- `debt` - was there any debt on loan repayment\n",
    "- `total_income` - monthly income\n",
    "- `purpose` - the purpose of obtaining a loan\n",
    "\n",
    "In the next part i will start exploring the data.Some of what I am looking for:\n",
    "\n",
    "-how many columns and rows it has\n",
    "\n",
    "-looking at a few rows to check for potential issues with the data."
   ]
  },
  {
   "cell_type": "code",
   "execution_count": 2,
   "metadata": {},
   "outputs": [
    {
     "data": {
      "text/plain": [
       "(21525, 12)"
      ]
     },
     "execution_count": 2,
     "metadata": {},
     "output_type": "execute_result"
    }
   ],
   "source": [
    "df.shape\n",
    "\n"
   ]
  },
  {
   "cell_type": "code",
   "execution_count": 3,
   "metadata": {
    "scrolled": true
   },
   "outputs": [
    {
     "data": {
      "text/html": [
       "<div>\n",
       "<style scoped>\n",
       "    .dataframe tbody tr th:only-of-type {\n",
       "        vertical-align: middle;\n",
       "    }\n",
       "\n",
       "    .dataframe tbody tr th {\n",
       "        vertical-align: top;\n",
       "    }\n",
       "\n",
       "    .dataframe thead th {\n",
       "        text-align: right;\n",
       "    }\n",
       "</style>\n",
       "<table border=\"1\" class=\"dataframe\">\n",
       "  <thead>\n",
       "    <tr style=\"text-align: right;\">\n",
       "      <th></th>\n",
       "      <th>children</th>\n",
       "      <th>days_employed</th>\n",
       "      <th>dob_years</th>\n",
       "      <th>education</th>\n",
       "      <th>education_id</th>\n",
       "      <th>family_status</th>\n",
       "      <th>family_status_id</th>\n",
       "      <th>gender</th>\n",
       "      <th>income_type</th>\n",
       "      <th>debt</th>\n",
       "      <th>total_income</th>\n",
       "      <th>purpose</th>\n",
       "    </tr>\n",
       "  </thead>\n",
       "  <tbody>\n",
       "    <tr>\n",
       "      <th>0</th>\n",
       "      <td>1</td>\n",
       "      <td>-8437.673028</td>\n",
       "      <td>42</td>\n",
       "      <td>bachelor's degree</td>\n",
       "      <td>0</td>\n",
       "      <td>married</td>\n",
       "      <td>0</td>\n",
       "      <td>F</td>\n",
       "      <td>employee</td>\n",
       "      <td>0</td>\n",
       "      <td>40620.102</td>\n",
       "      <td>purchase of the house</td>\n",
       "    </tr>\n",
       "    <tr>\n",
       "      <th>1</th>\n",
       "      <td>1</td>\n",
       "      <td>-4024.803754</td>\n",
       "      <td>36</td>\n",
       "      <td>secondary education</td>\n",
       "      <td>1</td>\n",
       "      <td>married</td>\n",
       "      <td>0</td>\n",
       "      <td>F</td>\n",
       "      <td>employee</td>\n",
       "      <td>0</td>\n",
       "      <td>17932.802</td>\n",
       "      <td>car purchase</td>\n",
       "    </tr>\n",
       "    <tr>\n",
       "      <th>2</th>\n",
       "      <td>0</td>\n",
       "      <td>-5623.422610</td>\n",
       "      <td>33</td>\n",
       "      <td>Secondary Education</td>\n",
       "      <td>1</td>\n",
       "      <td>married</td>\n",
       "      <td>0</td>\n",
       "      <td>M</td>\n",
       "      <td>employee</td>\n",
       "      <td>0</td>\n",
       "      <td>23341.752</td>\n",
       "      <td>purchase of the house</td>\n",
       "    </tr>\n",
       "    <tr>\n",
       "      <th>3</th>\n",
       "      <td>3</td>\n",
       "      <td>-4124.747207</td>\n",
       "      <td>32</td>\n",
       "      <td>secondary education</td>\n",
       "      <td>1</td>\n",
       "      <td>married</td>\n",
       "      <td>0</td>\n",
       "      <td>M</td>\n",
       "      <td>employee</td>\n",
       "      <td>0</td>\n",
       "      <td>42820.568</td>\n",
       "      <td>supplementary education</td>\n",
       "    </tr>\n",
       "    <tr>\n",
       "      <th>4</th>\n",
       "      <td>0</td>\n",
       "      <td>340266.072047</td>\n",
       "      <td>53</td>\n",
       "      <td>secondary education</td>\n",
       "      <td>1</td>\n",
       "      <td>civil partnership</td>\n",
       "      <td>1</td>\n",
       "      <td>F</td>\n",
       "      <td>retiree</td>\n",
       "      <td>0</td>\n",
       "      <td>25378.572</td>\n",
       "      <td>to have a wedding</td>\n",
       "    </tr>\n",
       "  </tbody>\n",
       "</table>\n",
       "</div>"
      ],
      "text/plain": [
       "   children  days_employed  dob_years            education  education_id  \\\n",
       "0         1   -8437.673028         42    bachelor's degree             0   \n",
       "1         1   -4024.803754         36  secondary education             1   \n",
       "2         0   -5623.422610         33  Secondary Education             1   \n",
       "3         3   -4124.747207         32  secondary education             1   \n",
       "4         0  340266.072047         53  secondary education             1   \n",
       "\n",
       "       family_status  family_status_id gender income_type  debt  total_income  \\\n",
       "0            married                 0      F    employee     0     40620.102   \n",
       "1            married                 0      F    employee     0     17932.802   \n",
       "2            married                 0      M    employee     0     23341.752   \n",
       "3            married                 0      M    employee     0     42820.568   \n",
       "4  civil partnership                 1      F     retiree     0     25378.572   \n",
       "\n",
       "                   purpose  \n",
       "0    purchase of the house  \n",
       "1             car purchase  \n",
       "2    purchase of the house  \n",
       "3  supplementary education  \n",
       "4        to have a wedding  "
      ]
     },
     "execution_count": 3,
     "metadata": {},
     "output_type": "execute_result"
    }
   ],
   "source": [
    "df.head()\n"
   ]
  },
  {
   "cell_type": "markdown",
   "metadata": {},
   "source": [
    " \n",
    "From the first look on the data, it seems like there is data that doesn't correspond to reality - negative values in the days_employed column. Also we can see already there are missing values that we'll need to address later on."
   ]
  },
  {
   "cell_type": "code",
   "execution_count": 4,
   "metadata": {
    "scrolled": false
   },
   "outputs": [
    {
     "name": "stdout",
     "output_type": "stream",
     "text": [
      "<class 'pandas.core.frame.DataFrame'>\n",
      "RangeIndex: 21525 entries, 0 to 21524\n",
      "Data columns (total 12 columns):\n",
      " #   Column            Non-Null Count  Dtype  \n",
      "---  ------            --------------  -----  \n",
      " 0   children          21525 non-null  int64  \n",
      " 1   days_employed     19351 non-null  float64\n",
      " 2   dob_years         21525 non-null  int64  \n",
      " 3   education         21525 non-null  object \n",
      " 4   education_id      21525 non-null  int64  \n",
      " 5   family_status     21525 non-null  object \n",
      " 6   family_status_id  21525 non-null  int64  \n",
      " 7   gender            21525 non-null  object \n",
      " 8   income_type       21525 non-null  object \n",
      " 9   debt              21525 non-null  int64  \n",
      " 10  total_income      19351 non-null  float64\n",
      " 11  purpose           21525 non-null  object \n",
      "dtypes: float64(2), int64(5), object(5)\n",
      "memory usage: 2.0+ MB\n"
     ]
    }
   ],
   "source": [
    "df.info()"
   ]
  },
  {
   "cell_type": "markdown",
   "metadata": {},
   "source": [
    "\n",
    "We can see there are missing values in the dataset across two columns :total_income and days_employed. we can tell that because each column supposed to have 21525 non nulls in it, and these two columns have less. "
   ]
  },
  {
   "cell_type": "code",
   "execution_count": 5,
   "metadata": {
    "scrolled": true
   },
   "outputs": [
    {
     "data": {
      "text/html": [
       "<div>\n",
       "<style scoped>\n",
       "    .dataframe tbody tr th:only-of-type {\n",
       "        vertical-align: middle;\n",
       "    }\n",
       "\n",
       "    .dataframe tbody tr th {\n",
       "        vertical-align: top;\n",
       "    }\n",
       "\n",
       "    .dataframe thead th {\n",
       "        text-align: right;\n",
       "    }\n",
       "</style>\n",
       "<table border=\"1\" class=\"dataframe\">\n",
       "  <thead>\n",
       "    <tr style=\"text-align: right;\">\n",
       "      <th></th>\n",
       "      <th>children</th>\n",
       "      <th>days_employed</th>\n",
       "      <th>dob_years</th>\n",
       "      <th>education</th>\n",
       "      <th>education_id</th>\n",
       "      <th>family_status</th>\n",
       "      <th>family_status_id</th>\n",
       "      <th>gender</th>\n",
       "      <th>income_type</th>\n",
       "      <th>debt</th>\n",
       "      <th>total_income</th>\n",
       "      <th>purpose</th>\n",
       "    </tr>\n",
       "  </thead>\n",
       "  <tbody>\n",
       "    <tr>\n",
       "      <th>12</th>\n",
       "      <td>0</td>\n",
       "      <td>NaN</td>\n",
       "      <td>65</td>\n",
       "      <td>secondary education</td>\n",
       "      <td>1</td>\n",
       "      <td>civil partnership</td>\n",
       "      <td>1</td>\n",
       "      <td>M</td>\n",
       "      <td>retiree</td>\n",
       "      <td>0</td>\n",
       "      <td>NaN</td>\n",
       "      <td>to have a wedding</td>\n",
       "    </tr>\n",
       "    <tr>\n",
       "      <th>26</th>\n",
       "      <td>0</td>\n",
       "      <td>NaN</td>\n",
       "      <td>41</td>\n",
       "      <td>secondary education</td>\n",
       "      <td>1</td>\n",
       "      <td>married</td>\n",
       "      <td>0</td>\n",
       "      <td>M</td>\n",
       "      <td>civil servant</td>\n",
       "      <td>0</td>\n",
       "      <td>NaN</td>\n",
       "      <td>education</td>\n",
       "    </tr>\n",
       "    <tr>\n",
       "      <th>29</th>\n",
       "      <td>0</td>\n",
       "      <td>NaN</td>\n",
       "      <td>63</td>\n",
       "      <td>secondary education</td>\n",
       "      <td>1</td>\n",
       "      <td>unmarried</td>\n",
       "      <td>4</td>\n",
       "      <td>F</td>\n",
       "      <td>retiree</td>\n",
       "      <td>0</td>\n",
       "      <td>NaN</td>\n",
       "      <td>building a real estate</td>\n",
       "    </tr>\n",
       "    <tr>\n",
       "      <th>41</th>\n",
       "      <td>0</td>\n",
       "      <td>NaN</td>\n",
       "      <td>50</td>\n",
       "      <td>secondary education</td>\n",
       "      <td>1</td>\n",
       "      <td>married</td>\n",
       "      <td>0</td>\n",
       "      <td>F</td>\n",
       "      <td>civil servant</td>\n",
       "      <td>0</td>\n",
       "      <td>NaN</td>\n",
       "      <td>second-hand car purchase</td>\n",
       "    </tr>\n",
       "    <tr>\n",
       "      <th>55</th>\n",
       "      <td>0</td>\n",
       "      <td>NaN</td>\n",
       "      <td>54</td>\n",
       "      <td>secondary education</td>\n",
       "      <td>1</td>\n",
       "      <td>civil partnership</td>\n",
       "      <td>1</td>\n",
       "      <td>F</td>\n",
       "      <td>retiree</td>\n",
       "      <td>1</td>\n",
       "      <td>NaN</td>\n",
       "      <td>to have a wedding</td>\n",
       "    </tr>\n",
       "    <tr>\n",
       "      <th>...</th>\n",
       "      <td>...</td>\n",
       "      <td>...</td>\n",
       "      <td>...</td>\n",
       "      <td>...</td>\n",
       "      <td>...</td>\n",
       "      <td>...</td>\n",
       "      <td>...</td>\n",
       "      <td>...</td>\n",
       "      <td>...</td>\n",
       "      <td>...</td>\n",
       "      <td>...</td>\n",
       "      <td>...</td>\n",
       "    </tr>\n",
       "    <tr>\n",
       "      <th>21489</th>\n",
       "      <td>2</td>\n",
       "      <td>NaN</td>\n",
       "      <td>47</td>\n",
       "      <td>Secondary Education</td>\n",
       "      <td>1</td>\n",
       "      <td>married</td>\n",
       "      <td>0</td>\n",
       "      <td>M</td>\n",
       "      <td>business</td>\n",
       "      <td>0</td>\n",
       "      <td>NaN</td>\n",
       "      <td>purchase of a car</td>\n",
       "    </tr>\n",
       "    <tr>\n",
       "      <th>21495</th>\n",
       "      <td>1</td>\n",
       "      <td>NaN</td>\n",
       "      <td>50</td>\n",
       "      <td>secondary education</td>\n",
       "      <td>1</td>\n",
       "      <td>civil partnership</td>\n",
       "      <td>1</td>\n",
       "      <td>F</td>\n",
       "      <td>employee</td>\n",
       "      <td>0</td>\n",
       "      <td>NaN</td>\n",
       "      <td>wedding ceremony</td>\n",
       "    </tr>\n",
       "    <tr>\n",
       "      <th>21497</th>\n",
       "      <td>0</td>\n",
       "      <td>NaN</td>\n",
       "      <td>48</td>\n",
       "      <td>BACHELOR'S DEGREE</td>\n",
       "      <td>0</td>\n",
       "      <td>married</td>\n",
       "      <td>0</td>\n",
       "      <td>F</td>\n",
       "      <td>business</td>\n",
       "      <td>0</td>\n",
       "      <td>NaN</td>\n",
       "      <td>building a property</td>\n",
       "    </tr>\n",
       "    <tr>\n",
       "      <th>21502</th>\n",
       "      <td>1</td>\n",
       "      <td>NaN</td>\n",
       "      <td>42</td>\n",
       "      <td>secondary education</td>\n",
       "      <td>1</td>\n",
       "      <td>married</td>\n",
       "      <td>0</td>\n",
       "      <td>F</td>\n",
       "      <td>employee</td>\n",
       "      <td>0</td>\n",
       "      <td>NaN</td>\n",
       "      <td>building a real estate</td>\n",
       "    </tr>\n",
       "    <tr>\n",
       "      <th>21510</th>\n",
       "      <td>2</td>\n",
       "      <td>NaN</td>\n",
       "      <td>28</td>\n",
       "      <td>secondary education</td>\n",
       "      <td>1</td>\n",
       "      <td>married</td>\n",
       "      <td>0</td>\n",
       "      <td>F</td>\n",
       "      <td>employee</td>\n",
       "      <td>0</td>\n",
       "      <td>NaN</td>\n",
       "      <td>car purchase</td>\n",
       "    </tr>\n",
       "  </tbody>\n",
       "</table>\n",
       "<p>2174 rows × 12 columns</p>\n",
       "</div>"
      ],
      "text/plain": [
       "       children  days_employed  dob_years            education  education_id  \\\n",
       "12            0            NaN         65  secondary education             1   \n",
       "26            0            NaN         41  secondary education             1   \n",
       "29            0            NaN         63  secondary education             1   \n",
       "41            0            NaN         50  secondary education             1   \n",
       "55            0            NaN         54  secondary education             1   \n",
       "...         ...            ...        ...                  ...           ...   \n",
       "21489         2            NaN         47  Secondary Education             1   \n",
       "21495         1            NaN         50  secondary education             1   \n",
       "21497         0            NaN         48    BACHELOR'S DEGREE             0   \n",
       "21502         1            NaN         42  secondary education             1   \n",
       "21510         2            NaN         28  secondary education             1   \n",
       "\n",
       "           family_status  family_status_id gender    income_type  debt  \\\n",
       "12     civil partnership                 1      M        retiree     0   \n",
       "26               married                 0      M  civil servant     0   \n",
       "29             unmarried                 4      F        retiree     0   \n",
       "41               married                 0      F  civil servant     0   \n",
       "55     civil partnership                 1      F        retiree     1   \n",
       "...                  ...               ...    ...            ...   ...   \n",
       "21489            married                 0      M       business     0   \n",
       "21495  civil partnership                 1      F       employee     0   \n",
       "21497            married                 0      F       business     0   \n",
       "21502            married                 0      F       employee     0   \n",
       "21510            married                 0      F       employee     0   \n",
       "\n",
       "       total_income                   purpose  \n",
       "12              NaN         to have a wedding  \n",
       "26              NaN                 education  \n",
       "29              NaN    building a real estate  \n",
       "41              NaN  second-hand car purchase  \n",
       "55              NaN         to have a wedding  \n",
       "...             ...                       ...  \n",
       "21489           NaN         purchase of a car  \n",
       "21495           NaN          wedding ceremony  \n",
       "21497           NaN       building a property  \n",
       "21502           NaN    building a real estate  \n",
       "21510           NaN              car purchase  \n",
       "\n",
       "[2174 rows x 12 columns]"
      ]
     },
     "execution_count": 5,
     "metadata": {},
     "output_type": "execute_result"
    }
   ],
   "source": [
    "\n",
    "df[df.days_employed.isnull()]\n"
   ]
  },
  {
   "cell_type": "markdown",
   "metadata": {},
   "source": [
    "\n",
    "From this first investigation of the Data, it seems like the missing values in the 'days_employed' column and the 'total_income' column are symetric, but we cant be sure of this assumption until we'll cheack the missing values in those columns against eachother and confirm that the missing samples are of the same size"
   ]
  },
  {
   "cell_type": "code",
   "execution_count": 6,
   "metadata": {},
   "outputs": [
    {
     "data": {
      "text/plain": [
       "True"
      ]
     },
     "execution_count": 6,
     "metadata": {},
     "output_type": "execute_result"
    }
   ],
   "source": [
    "df[(df.total_income.isnull()) & (df.days_employed.isnull())].shape[0] == df[(df.total_income.isnull())].shape[0]\n",
    "\n"
   ]
  },
  {
   "cell_type": "code",
   "execution_count": 7,
   "metadata": {},
   "outputs": [
    {
     "data": {
      "text/plain": [
       "0.10099883855981417"
      ]
     },
     "execution_count": 7,
     "metadata": {},
     "output_type": "execute_result"
    }
   ],
   "source": [
    "df.total_income.isnull().sum() / df.shape[0]"
   ]
  },
  {
   "cell_type": "markdown",
   "metadata": {},
   "source": [
    "**Intermediate conclusion**\n",
    "\n",
    "Now we can say that the missing values in the missing values in the 'days_employed' column and the 'total_income' column are symetric. \n",
    "\n",
    "After calculating the percentage of the missing values compared to the whole dataset, we can see the missing data in these columns is 10% of the whole dataset, wich is a considerably large piece of data.\n",
    "\n",
    "Later in the project i will address both columns to try and fill the missing values in those columns, but first i want to check whether the missing data could be due to the specific client characteristic, such as employment type or education.\n",
    "\n",
    "I will do so by checking the distribution of the missing values across the unique values of the employment type and education, in order to find out wether the missing values are missing randomly or if there is a pattern.\n"
   ]
  },
  {
   "cell_type": "code",
   "execution_count": 8,
   "metadata": {},
   "outputs": [
    {
     "data": {
      "text/plain": [
       "employee         1105\n",
       "business          508\n",
       "retiree           413\n",
       "civil servant     147\n",
       "entrepreneur        1\n",
       "Name: income_type, dtype: int64"
      ]
     },
     "execution_count": 8,
     "metadata": {},
     "output_type": "execute_result"
    }
   ],
   "source": [
    "df[df.total_income.isnull()]['income_type'].value_counts()\n"
   ]
  },
  {
   "cell_type": "code",
   "execution_count": 62,
   "metadata": {},
   "outputs": [
    {
     "data": {
      "text/plain": [
       "employee                       11084\n",
       "business                        5078\n",
       "retiree                         3829\n",
       "civil servant                   1457\n",
       "unemployed                         2\n",
       "entrepreneur                       2\n",
       "student                            1\n",
       "paternity / maternity leave        1\n",
       "Name: income_type, dtype: int64"
      ]
     },
     "execution_count": 62,
     "metadata": {},
     "output_type": "execute_result"
    }
   ],
   "source": [
    "df['income_type'].value_counts()\n"
   ]
  },
  {
   "cell_type": "code",
   "execution_count": 10,
   "metadata": {},
   "outputs": [
    {
     "name": "stdout",
     "output_type": "stream",
     "text": [
      "Nan dataframe. Income type normalized distribution:\n"
     ]
    },
    {
     "data": {
      "text/plain": [
       "employee         0.508280\n",
       "business         0.233671\n",
       "retiree          0.189972\n",
       "civil servant    0.067617\n",
       "entrepreneur     0.000460\n",
       "Name: income_type, dtype: float64"
      ]
     },
     "metadata": {},
     "output_type": "display_data"
    },
    {
     "name": "stdout",
     "output_type": "stream",
     "text": [
      "Not Nan dataframe. Income type normalized distribution:\n"
     ]
    },
    {
     "data": {
      "text/plain": [
       "employee                       0.517493\n",
       "business                       0.236525\n",
       "retiree                        0.177924\n",
       "civil servant                  0.067800\n",
       "unemployed                     0.000103\n",
       "student                        0.000052\n",
       "paternity / maternity leave    0.000052\n",
       "entrepreneur                   0.000052\n",
       "Name: income_type, dtype: float64"
      ]
     },
     "metadata": {},
     "output_type": "display_data"
    }
   ],
   "source": [
    "# Reviewer's code\n",
    "\n",
    "print('Nan dataframe. Income type normalized distribution:')\n",
    "display(df[df.total_income.isna()]['income_type'].value_counts(normalize=True))\n",
    "\n",
    "print('Not Nan dataframe. Income type normalized distribution:')\n",
    "display(df[~df.total_income.isna()]['income_type'].value_counts(normalize=True))"
   ]
  },
  {
   "cell_type": "code",
   "execution_count": 11,
   "metadata": {},
   "outputs": [
    {
     "data": {
      "text/plain": [
       "secondary education    1408\n",
       "bachelor's degree       496\n",
       "SECONDARY EDUCATION      67\n",
       "Secondary Education      65\n",
       "some college             55\n",
       "Bachelor's Degree        25\n",
       "BACHELOR'S DEGREE        23\n",
       "primary education        19\n",
       "Some College              7\n",
       "SOME COLLEGE              7\n",
       "PRIMARY EDUCATION         1\n",
       "Primary Education         1\n",
       "Name: education, dtype: int64"
      ]
     },
     "execution_count": 11,
     "metadata": {},
     "output_type": "execute_result"
    }
   ],
   "source": [
    "df[df.total_income.isnull()]['education'].value_counts()\n"
   ]
  },
  {
   "cell_type": "code",
   "execution_count": 12,
   "metadata": {},
   "outputs": [
    {
     "data": {
      "text/plain": [
       "secondary education    13750\n",
       "bachelor's degree       4718\n",
       "SECONDARY EDUCATION      772\n",
       "Secondary Education      711\n",
       "some college             668\n",
       "BACHELOR'S DEGREE        274\n",
       "Bachelor's Degree        268\n",
       "primary education        250\n",
       "Some College              47\n",
       "SOME COLLEGE              29\n",
       "PRIMARY EDUCATION         17\n",
       "Primary Education         15\n",
       "graduate degree            4\n",
       "GRADUATE DEGREE            1\n",
       "Graduate Degree            1\n",
       "Name: education, dtype: int64"
      ]
     },
     "execution_count": 12,
     "metadata": {},
     "output_type": "execute_result"
    }
   ],
   "source": [
    "df['education'].value_counts()\n"
   ]
  },
  {
   "cell_type": "markdown",
   "metadata": {},
   "source": [
    "**conclusions**\n"
   ]
  },
  {
   "cell_type": "markdown",
   "metadata": {
    "scrolled": true
   },
   "source": [
    "After cheacking all of the columns that could have an impcat on missing values in the total_income column, i can confirm that the missing values in the total_income column are random.\n",
    "\n",
    "I didnt find any patterns that could have explaind the missing values, after checking the distribution of the missing values across all of the columns that could have an impact on them (the distribution check showed that the missing values are spread across the columns in the same way - slightly  more than 10% of each unique value are nissing)\n",
    "\n",
    "Later on, i will replace the missing values with the avrege of total income, considering the categories: education and income_type, but first \n",
    "i need to make sure there are not any other errors that could effect my actions -    i already witnessed some different registers in the 'education column' that needs to be fixed. \n",
    "\n",
    "Next i will address the problems i mentioned:\n",
    "- duplicates\n",
    "- different registers\n",
    "- incorrect artifacts\n",
    "- missing values"
   ]
  },
  {
   "cell_type": "markdown",
   "metadata": {},
   "source": [
    "## Data transformation\n",
    "\n",
    "first i will check every column to see what issues we may have in them."
   ]
  },
  {
   "cell_type": "markdown",
   "metadata": {},
   "source": [
    "**Education**"
   ]
  },
  {
   "cell_type": "code",
   "execution_count": 13,
   "metadata": {},
   "outputs": [
    {
     "name": "stdout",
     "output_type": "stream",
     "text": [
      "secondary education    13750\n",
      "bachelor's degree       4718\n",
      "SECONDARY EDUCATION      772\n",
      "Secondary Education      711\n",
      "some college             668\n",
      "BACHELOR'S DEGREE        274\n",
      "Bachelor's Degree        268\n",
      "primary education        250\n",
      "Some College              47\n",
      "SOME COLLEGE              29\n",
      "PRIMARY EDUCATION         17\n",
      "Primary Education         15\n",
      "graduate degree            4\n",
      "GRADUATE DEGREE            1\n",
      "Graduate Degree            1\n",
      "Name: education, dtype: int64\n"
     ]
    }
   ],
   "source": [
    "print(df['education'].value_counts())"
   ]
  },
  {
   "cell_type": "markdown",
   "metadata": {},
   "source": [
    "I can see there are different registers in this column thats need to be fixed:\n"
   ]
  },
  {
   "cell_type": "code",
   "execution_count": 14,
   "metadata": {
    "scrolled": true
   },
   "outputs": [],
   "source": [
    "df['education'] = df['education'].str.lower() "
   ]
  },
  {
   "cell_type": "code",
   "execution_count": 15,
   "metadata": {},
   "outputs": [
    {
     "name": "stdout",
     "output_type": "stream",
     "text": [
      "secondary education    15233\n",
      "bachelor's degree       5260\n",
      "some college             744\n",
      "primary education        282\n",
      "graduate degree            6\n",
      "Name: education, dtype: int64\n"
     ]
    }
   ],
   "source": [
    "print(df['education'].value_counts())\n"
   ]
  },
  {
   "cell_type": "markdown",
   "metadata": {},
   "source": [
    "**Children**"
   ]
  },
  {
   "cell_type": "code",
   "execution_count": 16,
   "metadata": {},
   "outputs": [
    {
     "name": "stdout",
     "output_type": "stream",
     "text": [
      " 0     14149\n",
      " 1      4818\n",
      " 2      2055\n",
      " 3       330\n",
      " 20       76\n",
      "-1        47\n",
      " 4        41\n",
      " 5         9\n",
      "Name: children, dtype: int64\n"
     ]
    }
   ],
   "source": [
    "print(df['children'].value_counts())\n",
    "\n"
   ]
  },
  {
   "cell_type": "markdown",
   "metadata": {},
   "source": [
    "Based on the distribution of values in the `children` column, we can see that there are 2 values that seem strange,-1 and 20. it is not possible to have -1 childern and unlikely to have 20.This is probably the effect of humen type errors the percentage of this problematic data is very low, so we can just replace it with the value 0. "
   ]
  },
  {
   "cell_type": "code",
   "execution_count": 17,
   "metadata": {},
   "outputs": [
    {
     "name": "stdout",
     "output_type": "stream",
     "text": [
      "Total number of rows in the children column:  21525\n",
      "The percentage of problematic data:  0.5714285714285714 %\n"
     ]
    }
   ],
   "source": [
    "\n",
    "TOO_MANY = 20\n",
    "\n",
    "print(\"Total number of rows in the children column: \", df['children'].value_counts().sum())\n",
    "print(\"The percentage of problematic data: \", 100*(df[df['children']<0].shape[0]+df[df['children']>=TOO_MANY].shape[0])/df.shape[0], '%')\n"
   ]
  },
  {
   "cell_type": "code",
   "execution_count": 18,
   "metadata": {},
   "outputs": [],
   "source": [
    "df['children'] = df['children'].replace([-1,20],0)\n"
   ]
  },
  {
   "cell_type": "code",
   "execution_count": 19,
   "metadata": {},
   "outputs": [
    {
     "data": {
      "text/plain": [
       "0    14272\n",
       "1     4818\n",
       "2     2055\n",
       "3      330\n",
       "4       41\n",
       "5        9\n",
       "Name: children, dtype: int64"
      ]
     },
     "execution_count": 19,
     "metadata": {},
     "output_type": "execute_result"
    }
   ],
   "source": [
    "df['children'].value_counts()\n"
   ]
  },
  {
   "cell_type": "markdown",
   "metadata": {},
   "source": [
    "days_employed column:\n",
    "\n",
    "From the first look at the days_employed column, we could see there is data that doesn't correspond to reality - negative values and way to high values. Next i will check the distribution and decide if he data in this column is not too corrupted"
   ]
  },
  {
   "cell_type": "code",
   "execution_count": 20,
   "metadata": {},
   "outputs": [
    {
     "data": {
      "image/png": "[encoded data removed]",
      "text/plain": [
       "<Figure size 432x288 with 1 Axes>"
      ]
     },
     "metadata": {
      "needs_background": "light"
     },
     "output_type": "display_data"
    }
   ],
   "source": [
    "plt.hist(df['days_employed'], bins=50)\n",
    "plt.xlabel('days_employed')\n",
    "plt.ylabel('Frequency')\n",
    "None"
   ]
  },
  {
   "cell_type": "markdown",
   "metadata": {},
   "source": [
    "We can see that the'days_employed'column have a high percentage of unusable data. We need to inform the data Engenderes and delete this column."
   ]
  },
  {
   "cell_type": "code",
   "execution_count": 21,
   "metadata": {},
   "outputs": [],
   "source": [
    "df = df.drop(['days_employed'],axis = 1)\n",
    "\n"
   ]
  },
  {
   "cell_type": "code",
   "execution_count": 22,
   "metadata": {},
   "outputs": [
    {
     "name": "stdout",
     "output_type": "stream",
     "text": [
      "<class 'pandas.core.frame.DataFrame'>\n",
      "RangeIndex: 21525 entries, 0 to 21524\n",
      "Data columns (total 11 columns):\n",
      " #   Column            Non-Null Count  Dtype  \n",
      "---  ------            --------------  -----  \n",
      " 0   children          21525 non-null  int64  \n",
      " 1   dob_years         21525 non-null  int64  \n",
      " 2   education         21525 non-null  object \n",
      " 3   education_id      21525 non-null  int64  \n",
      " 4   family_status     21525 non-null  object \n",
      " 5   family_status_id  21525 non-null  int64  \n",
      " 6   gender            21525 non-null  object \n",
      " 7   income_type       21525 non-null  object \n",
      " 8   debt              21525 non-null  int64  \n",
      " 9   total_income      19351 non-null  float64\n",
      " 10  purpose           21525 non-null  object \n",
      "dtypes: float64(1), int64(5), object(5)\n",
      "memory usage: 1.8+ MB\n"
     ]
    }
   ],
   "source": [
    "df.info()\n"
   ]
  },
  {
   "cell_type": "markdown",
   "metadata": {},
   "source": [
    "**Clients age:**\n"
   ]
  },
  {
   "cell_type": "code",
   "execution_count": 23,
   "metadata": {
    "scrolled": true
   },
   "outputs": [
    {
     "name": "stdout",
     "output_type": "stream",
     "text": [
      "35    617\n",
      "40    609\n",
      "41    607\n",
      "34    603\n",
      "38    598\n",
      "42    597\n",
      "33    581\n",
      "39    573\n",
      "31    560\n",
      "36    555\n",
      "44    547\n",
      "29    545\n",
      "30    540\n",
      "48    538\n",
      "37    537\n",
      "50    514\n",
      "43    513\n",
      "32    510\n",
      "49    508\n",
      "28    503\n",
      "45    497\n",
      "27    493\n",
      "56    487\n",
      "52    484\n",
      "47    480\n",
      "54    479\n",
      "46    475\n",
      "58    461\n",
      "57    460\n",
      "53    459\n",
      "51    448\n",
      "59    444\n",
      "55    443\n",
      "26    408\n",
      "60    377\n",
      "25    357\n",
      "61    355\n",
      "62    352\n",
      "63    269\n",
      "64    265\n",
      "24    264\n",
      "23    254\n",
      "65    194\n",
      "66    183\n",
      "22    183\n",
      "67    167\n",
      "21    111\n",
      "0     101\n",
      "68     99\n",
      "69     85\n",
      "70     65\n",
      "71     58\n",
      "20     51\n",
      "72     33\n",
      "19     14\n",
      "73      8\n",
      "74      6\n",
      "75      1\n",
      "Name: dob_years, dtype: int64\n"
     ]
    }
   ],
   "source": [
    "print(df['dob_years'].value_counts())\n"
   ]
  },
  {
   "cell_type": "markdown",
   "metadata": {},
   "source": [
    "The problem in the dob_years column is that we have 101 rows that the value of age is 0. This is not possible because no one can have 0 years as his age. This error is probably a typo (presssing 0 insted of 60 for example). The solution for this problem is to change all the 0s to the average age.  "
   ]
  },
  {
   "cell_type": "code",
   "execution_count": 24,
   "metadata": {},
   "outputs": [],
   "source": [
    "\n",
    "age_avg = df['dob_years'].mean()\n",
    "df.loc[(df.dob_years == 0),'dob_years']=age_avg"
   ]
  },
  {
   "cell_type": "code",
   "execution_count": 25,
   "metadata": {},
   "outputs": [
    {
     "name": "stdout",
     "output_type": "stream",
     "text": [
      "35.00000    617\n",
      "40.00000    609\n",
      "41.00000    607\n",
      "34.00000    603\n",
      "38.00000    598\n",
      "42.00000    597\n",
      "33.00000    581\n",
      "39.00000    573\n",
      "31.00000    560\n",
      "36.00000    555\n",
      "44.00000    547\n",
      "29.00000    545\n",
      "30.00000    540\n",
      "48.00000    538\n",
      "37.00000    537\n",
      "50.00000    514\n",
      "43.00000    513\n",
      "32.00000    510\n",
      "49.00000    508\n",
      "28.00000    503\n",
      "45.00000    497\n",
      "27.00000    493\n",
      "56.00000    487\n",
      "52.00000    484\n",
      "47.00000    480\n",
      "54.00000    479\n",
      "46.00000    475\n",
      "58.00000    461\n",
      "57.00000    460\n",
      "53.00000    459\n",
      "51.00000    448\n",
      "59.00000    444\n",
      "55.00000    443\n",
      "26.00000    408\n",
      "60.00000    377\n",
      "25.00000    357\n",
      "61.00000    355\n",
      "62.00000    352\n",
      "63.00000    269\n",
      "64.00000    265\n",
      "24.00000    264\n",
      "23.00000    254\n",
      "65.00000    194\n",
      "22.00000    183\n",
      "66.00000    183\n",
      "67.00000    167\n",
      "21.00000    111\n",
      "43.29338    101\n",
      "68.00000     99\n",
      "69.00000     85\n",
      "70.00000     65\n",
      "71.00000     58\n",
      "20.00000     51\n",
      "72.00000     33\n",
      "19.00000     14\n",
      "73.00000      8\n",
      "74.00000      6\n",
      "75.00000      1\n",
      "Name: dob_years, dtype: int64\n"
     ]
    }
   ],
   "source": [
    "print(df['dob_years'].value_counts())\n"
   ]
  },
  {
   "cell_type": "markdown",
   "metadata": {},
   "source": [
    "**family_status**"
   ]
  },
  {
   "cell_type": "code",
   "execution_count": 26,
   "metadata": {},
   "outputs": [
    {
     "name": "stdout",
     "output_type": "stream",
     "text": [
      "married              12380\n",
      "civil partnership     4177\n",
      "unmarried             2813\n",
      "divorced              1195\n",
      "widow / widower        960\n",
      "Name: family_status, dtype: int64\n",
      "21525\n"
     ]
    }
   ],
   "source": [
    "print(df['family_status'].value_counts())\n",
    "print(df['family_status'].value_counts().sum())\n",
    "\n"
   ]
  },
  {
   "cell_type": "markdown",
   "metadata": {},
   "source": [
    " No problems in the family_status column\n"
   ]
  },
  {
   "cell_type": "markdown",
   "metadata": {},
   "source": [
    "**gender**"
   ]
  },
  {
   "cell_type": "code",
   "execution_count": 27,
   "metadata": {},
   "outputs": [
    {
     "name": "stdout",
     "output_type": "stream",
     "text": [
      "F      14236\n",
      "M       7288\n",
      "XNA        1\n",
      "Name: gender, dtype: int64\n"
     ]
    }
   ],
   "source": [
    "print(df['gender'].value_counts())\n"
   ]
  },
  {
   "cell_type": "markdown",
   "metadata": {},
   "source": [
    "There is only one value that is \"Problematic\" - 'XNA'.In this specific column, i think it is probably the result of someone not willing to expose Their gender, and not a typo. Anyway, it is not significant because it is only one entry out of the whole data, so we can just ignore it"
   ]
  },
  {
   "cell_type": "markdown",
   "metadata": {},
   "source": [
    "**income_type**"
   ]
  },
  {
   "cell_type": "code",
   "execution_count": 28,
   "metadata": {},
   "outputs": [
    {
     "name": "stdout",
     "output_type": "stream",
     "text": [
      "employee                       11119\n",
      "business                        5085\n",
      "retiree                         3856\n",
      "civil servant                   1459\n",
      "unemployed                         2\n",
      "entrepreneur                       2\n",
      "student                            1\n",
      "paternity / maternity leave        1\n",
      "Name: income_type, dtype: int64\n"
     ]
    }
   ],
   "source": [
    "print(df['income_type'].value_counts())\n"
   ]
  },
  {
   "cell_type": "markdown",
   "metadata": {},
   "source": [
    " No problems in the income_type column"
   ]
  },
  {
   "cell_type": "markdown",
   "metadata": {},
   "source": [
    "Next i will check if there are any duplicates in the data. If there are, ill drop them. "
   ]
  },
  {
   "cell_type": "code",
   "execution_count": 29,
   "metadata": {},
   "outputs": [
    {
     "data": {
      "text/plain": [
       "71"
      ]
     },
     "execution_count": 29,
     "metadata": {},
     "output_type": "execute_result"
    }
   ],
   "source": [
    "\n",
    "df.duplicated().sum()"
   ]
  },
  {
   "cell_type": "code",
   "execution_count": 30,
   "metadata": {},
   "outputs": [],
   "source": [
    "df.drop_duplicates(inplace=True) "
   ]
  },
  {
   "cell_type": "code",
   "execution_count": 31,
   "metadata": {},
   "outputs": [
    {
     "data": {
      "text/plain": [
       "0"
      ]
     },
     "execution_count": 31,
     "metadata": {},
     "output_type": "execute_result"
    }
   ],
   "source": [
    "df.duplicated().sum()"
   ]
  },
  {
   "cell_type": "code",
   "execution_count": 32,
   "metadata": {},
   "outputs": [
    {
     "data": {
      "text/plain": [
       "(21454, 11)"
      ]
     },
     "execution_count": 32,
     "metadata": {},
     "output_type": "execute_result"
    }
   ],
   "source": [
    "df.shape"
   ]
  },
  {
   "cell_type": "markdown",
   "metadata": {},
   "source": [
    "\n",
    "\n",
    "The new dataset has 21454 rows. Before we had 21525 rows with 71 duplicates. I droped the duplicated data and made the dataset smaller by 0.3%"
   ]
  },
  {
   "cell_type": "markdown",
   "metadata": {},
   "source": [
    "### Restoring missing values in `total_income`"
   ]
  },
  {
   "cell_type": "markdown",
   "metadata": {},
   "source": [
    "Fron previous Investigations, I can say there are missing values in the 'total_income' column thats need to be filled. in order to do that i am going use data from other columns that could impact how i should fill the missing values in 'total_income' (for example, age, income type and education can impact the total income of a client)\n"
   ]
  },
  {
   "cell_type": "code",
   "execution_count": 33,
   "metadata": {},
   "outputs": [],
   "source": [
    "\n",
    "def age_group(age):\n",
    "\n",
    "    if age <= 21:\n",
    "        return 'minor'\n",
    "    if age <= 64:\n",
    "        return 'adult'\n",
    "    return 'retired' \n",
    "    "
   ]
  },
  {
   "cell_type": "code",
   "execution_count": 34,
   "metadata": {},
   "outputs": [
    {
     "data": {
      "text/plain": [
       "'adult'"
      ]
     },
     "execution_count": 34,
     "metadata": {},
     "output_type": "execute_result"
    }
   ],
   "source": [
    "\n",
    "age_group(27)"
   ]
  },
  {
   "cell_type": "code",
   "execution_count": 35,
   "metadata": {},
   "outputs": [],
   "source": [
    "\n",
    "df['age_group'] = df['dob_years'].apply(age_group)\n"
   ]
  },
  {
   "cell_type": "code",
   "execution_count": 36,
   "metadata": {},
   "outputs": [
    {
     "data": {
      "text/plain": [
       "adult      20383\n",
       "retired      895\n",
       "minor        176\n",
       "Name: age_group, dtype: int64"
      ]
     },
     "execution_count": 36,
     "metadata": {},
     "output_type": "execute_result"
    }
   ],
   "source": [
    "\n",
    "df['age_group'].value_counts()\n"
   ]
  },
  {
   "cell_type": "code",
   "execution_count": 37,
   "metadata": {},
   "outputs": [
    {
     "data": {
      "text/html": [
       "<div>\n",
       "<style scoped>\n",
       "    .dataframe tbody tr th:only-of-type {\n",
       "        vertical-align: middle;\n",
       "    }\n",
       "\n",
       "    .dataframe tbody tr th {\n",
       "        vertical-align: top;\n",
       "    }\n",
       "\n",
       "    .dataframe thead th {\n",
       "        text-align: right;\n",
       "    }\n",
       "</style>\n",
       "<table border=\"1\" class=\"dataframe\">\n",
       "  <thead>\n",
       "    <tr style=\"text-align: right;\">\n",
       "      <th></th>\n",
       "      <th>children</th>\n",
       "      <th>dob_years</th>\n",
       "      <th>education</th>\n",
       "      <th>education_id</th>\n",
       "      <th>family_status</th>\n",
       "      <th>family_status_id</th>\n",
       "      <th>gender</th>\n",
       "      <th>income_type</th>\n",
       "      <th>debt</th>\n",
       "      <th>total_income</th>\n",
       "      <th>purpose</th>\n",
       "      <th>age_group</th>\n",
       "    </tr>\n",
       "  </thead>\n",
       "  <tbody>\n",
       "    <tr>\n",
       "      <th>21520</th>\n",
       "      <td>1</td>\n",
       "      <td>43.0</td>\n",
       "      <td>secondary education</td>\n",
       "      <td>1</td>\n",
       "      <td>civil partnership</td>\n",
       "      <td>1</td>\n",
       "      <td>F</td>\n",
       "      <td>business</td>\n",
       "      <td>0</td>\n",
       "      <td>35966.698</td>\n",
       "      <td>housing transactions</td>\n",
       "      <td>adult</td>\n",
       "    </tr>\n",
       "    <tr>\n",
       "      <th>21521</th>\n",
       "      <td>0</td>\n",
       "      <td>67.0</td>\n",
       "      <td>secondary education</td>\n",
       "      <td>1</td>\n",
       "      <td>married</td>\n",
       "      <td>0</td>\n",
       "      <td>F</td>\n",
       "      <td>retiree</td>\n",
       "      <td>0</td>\n",
       "      <td>24959.969</td>\n",
       "      <td>purchase of a car</td>\n",
       "      <td>retired</td>\n",
       "    </tr>\n",
       "    <tr>\n",
       "      <th>21522</th>\n",
       "      <td>1</td>\n",
       "      <td>38.0</td>\n",
       "      <td>secondary education</td>\n",
       "      <td>1</td>\n",
       "      <td>civil partnership</td>\n",
       "      <td>1</td>\n",
       "      <td>M</td>\n",
       "      <td>employee</td>\n",
       "      <td>1</td>\n",
       "      <td>14347.610</td>\n",
       "      <td>property</td>\n",
       "      <td>adult</td>\n",
       "    </tr>\n",
       "    <tr>\n",
       "      <th>21523</th>\n",
       "      <td>3</td>\n",
       "      <td>38.0</td>\n",
       "      <td>secondary education</td>\n",
       "      <td>1</td>\n",
       "      <td>married</td>\n",
       "      <td>0</td>\n",
       "      <td>M</td>\n",
       "      <td>employee</td>\n",
       "      <td>1</td>\n",
       "      <td>39054.888</td>\n",
       "      <td>buying my own car</td>\n",
       "      <td>adult</td>\n",
       "    </tr>\n",
       "    <tr>\n",
       "      <th>21524</th>\n",
       "      <td>2</td>\n",
       "      <td>40.0</td>\n",
       "      <td>secondary education</td>\n",
       "      <td>1</td>\n",
       "      <td>married</td>\n",
       "      <td>0</td>\n",
       "      <td>F</td>\n",
       "      <td>employee</td>\n",
       "      <td>0</td>\n",
       "      <td>13127.587</td>\n",
       "      <td>to buy a car</td>\n",
       "      <td>adult</td>\n",
       "    </tr>\n",
       "  </tbody>\n",
       "</table>\n",
       "</div>"
      ],
      "text/plain": [
       "       children  dob_years            education  education_id  \\\n",
       "21520         1       43.0  secondary education             1   \n",
       "21521         0       67.0  secondary education             1   \n",
       "21522         1       38.0  secondary education             1   \n",
       "21523         3       38.0  secondary education             1   \n",
       "21524         2       40.0  secondary education             1   \n",
       "\n",
       "           family_status  family_status_id gender income_type  debt  \\\n",
       "21520  civil partnership                 1      F    business     0   \n",
       "21521            married                 0      F     retiree     0   \n",
       "21522  civil partnership                 1      M    employee     1   \n",
       "21523            married                 0      M    employee     1   \n",
       "21524            married                 0      F    employee     0   \n",
       "\n",
       "       total_income               purpose age_group  \n",
       "21520     35966.698  housing transactions     adult  \n",
       "21521     24959.969     purchase of a car   retired  \n",
       "21522     14347.610              property     adult  \n",
       "21523     39054.888     buying my own car     adult  \n",
       "21524     13127.587          to buy a car     adult  "
      ]
     },
     "execution_count": 37,
     "metadata": {},
     "output_type": "execute_result"
    }
   ],
   "source": [
    "\n",
    "table_no_missing = df[df.notna()]\n",
    "\n",
    "table_no_missing.tail()"
   ]
  },
  {
   "cell_type": "markdown",
   "metadata": {},
   "source": [
    "Next, i want to check wether i should use mean or median to fill the missing values. in order to do that, i am going to check wether there are outlires in the tota_income column that could effect the resuts. "
   ]
  },
  {
   "cell_type": "code",
   "execution_count": 38,
   "metadata": {},
   "outputs": [
    {
     "data": {
      "image/png": "[encoded data removed]",
      "text/plain": [
       "<Figure size 432x288 with 1 Axes>"
      ]
     },
     "metadata": {
      "needs_background": "light"
     },
     "output_type": "display_data"
    }
   ],
   "source": [
    "plt.hist(df.total_income, bins=30)\n",
    "None\n"
   ]
  },
  {
   "cell_type": "code",
   "execution_count": 39,
   "metadata": {},
   "outputs": [
    {
     "data": {
      "text/plain": [
       "count     19351.000000\n",
       "mean      26787.568355\n",
       "std       16475.450632\n",
       "min        3306.762000\n",
       "25%       16488.504500\n",
       "50%       23202.870000\n",
       "75%       32549.611000\n",
       "max      362496.645000\n",
       "Name: total_income, dtype: float64"
      ]
     },
     "execution_count": 39,
     "metadata": {},
     "output_type": "execute_result"
    }
   ],
   "source": [
    "df['total_income'].describe()"
   ]
  },
  {
   "cell_type": "code",
   "execution_count": 40,
   "metadata": {},
   "outputs": [
    {
     "data": {
      "text/plain": [
       "23202.87"
      ]
     },
     "execution_count": 40,
     "metadata": {},
     "output_type": "execute_result"
    }
   ],
   "source": [
    "df['total_income'].median()"
   ]
  },
  {
   "cell_type": "code",
   "execution_count": 41,
   "metadata": {
    "scrolled": true
   },
   "outputs": [
    {
     "data": {
      "text/plain": [
       "education_id\n",
       "0    28054.5310\n",
       "1    21836.5830\n",
       "2    25618.4640\n",
       "3    18741.9760\n",
       "4    25161.5835\n",
       "Name: total_income, dtype: float64"
      ]
     },
     "execution_count": 41,
     "metadata": {},
     "output_type": "execute_result"
    }
   ],
   "source": [
    "df.groupby('education_id')['total_income'].median()"
   ]
  },
  {
   "cell_type": "markdown",
   "metadata": {},
   "source": [
    "Based on this investigation, we can see that the nean and the median are supposed to be relatively close, so we can use to mean to fill the missing values, but we will do that based on other important categories that should come to consideration when filling the missing valued."
   ]
  },
  {
   "cell_type": "code",
   "execution_count": 42,
   "metadata": {},
   "outputs": [],
   "source": [
    "df['total_income'] = df.groupby(['education_id','income_type'])['total_income'].transform(\n",
    "lambda grp:grp.fillna(np.mean(grp)))"
   ]
  },
  {
   "cell_type": "code",
   "execution_count": 43,
   "metadata": {},
   "outputs": [
    {
     "data": {
      "text/html": [
       "<div>\n",
       "<style scoped>\n",
       "    .dataframe tbody tr th:only-of-type {\n",
       "        vertical-align: middle;\n",
       "    }\n",
       "\n",
       "    .dataframe tbody tr th {\n",
       "        vertical-align: top;\n",
       "    }\n",
       "\n",
       "    .dataframe thead th {\n",
       "        text-align: right;\n",
       "    }\n",
       "</style>\n",
       "<table border=\"1\" class=\"dataframe\">\n",
       "  <thead>\n",
       "    <tr style=\"text-align: right;\">\n",
       "      <th></th>\n",
       "      <th>children</th>\n",
       "      <th>dob_years</th>\n",
       "      <th>education</th>\n",
       "      <th>education_id</th>\n",
       "      <th>family_status</th>\n",
       "      <th>family_status_id</th>\n",
       "      <th>gender</th>\n",
       "      <th>income_type</th>\n",
       "      <th>debt</th>\n",
       "      <th>total_income</th>\n",
       "      <th>purpose</th>\n",
       "      <th>age_group</th>\n",
       "    </tr>\n",
       "  </thead>\n",
       "  <tbody>\n",
       "  </tbody>\n",
       "</table>\n",
       "</div>"
      ],
      "text/plain": [
       "Empty DataFrame\n",
       "Columns: [children, dob_years, education, education_id, family_status, family_status_id, gender, income_type, debt, total_income, purpose, age_group]\n",
       "Index: []"
      ]
     },
     "execution_count": 43,
     "metadata": {},
     "output_type": "execute_result"
    }
   ],
   "source": [
    "df[df['total_income'].isnull()]"
   ]
  },
  {
   "cell_type": "code",
   "execution_count": 44,
   "metadata": {},
   "outputs": [
    {
     "name": "stdout",
     "output_type": "stream",
     "text": [
      "<class 'pandas.core.frame.DataFrame'>\n",
      "Int64Index: 21454 entries, 0 to 21524\n",
      "Data columns (total 12 columns):\n",
      " #   Column            Non-Null Count  Dtype  \n",
      "---  ------            --------------  -----  \n",
      " 0   children          21454 non-null  int64  \n",
      " 1   dob_years         21454 non-null  float64\n",
      " 2   education         21454 non-null  object \n",
      " 3   education_id      21454 non-null  int64  \n",
      " 4   family_status     21454 non-null  object \n",
      " 5   family_status_id  21454 non-null  int64  \n",
      " 6   gender            21454 non-null  object \n",
      " 7   income_type       21454 non-null  object \n",
      " 8   debt              21454 non-null  int64  \n",
      " 9   total_income      21454 non-null  float64\n",
      " 10  purpose           21454 non-null  object \n",
      " 11  age_group         21454 non-null  object \n",
      "dtypes: float64(2), int64(4), object(6)\n",
      "memory usage: 2.1+ MB\n"
     ]
    }
   ],
   "source": [
    "df.info()"
   ]
  },
  {
   "cell_type": "markdown",
   "metadata": {},
   "source": [
    "## Categorization of data\n",
    "\n",
    "In order to test the hypotheses, i will work with categorized data. This will help me compare the data in a wider way and bythat i could draw conections and undserstand the correlation between different types of clients and paying back their loans on time. In order to do that, i will categorize the data in the next columns: 'purpose' and 'total_income'. These columns contain a lot of unique values so it will be much easier to work with the categorised version of their data."
   ]
  },
  {
   "cell_type": "code",
   "execution_count": 45,
   "metadata": {
    "scrolled": true
   },
   "outputs": [
    {
     "data": {
      "text/plain": [
       "array(['purchase of the house', 'car purchase', 'supplementary education',\n",
       "       'to have a wedding', 'housing transactions', 'education',\n",
       "       'having a wedding', 'purchase of the house for my family',\n",
       "       'buy real estate', 'buy commercial real estate',\n",
       "       'buy residential real estate', 'construction of own property',\n",
       "       'property', 'building a property', 'buying a second-hand car',\n",
       "       'buying my own car', 'transactions with commercial real estate',\n",
       "       'building a real estate', 'housing',\n",
       "       'transactions with my real estate', 'cars', 'to become educated',\n",
       "       'second-hand car purchase', 'getting an education', 'car',\n",
       "       'wedding ceremony', 'to get a supplementary education',\n",
       "       'purchase of my own house', 'real estate transactions',\n",
       "       'getting higher education', 'to own a car', 'purchase of a car',\n",
       "       'profile education', 'university education',\n",
       "       'buying property for renting out', 'to buy a car',\n",
       "       'housing renovation', 'going to university'], dtype=object)"
      ]
     },
     "execution_count": 45,
     "metadata": {},
     "output_type": "execute_result"
    }
   ],
   "source": [
    "\n",
    "df['purpose'].unique()\n"
   ]
  },
  {
   "cell_type": "code",
   "execution_count": 46,
   "metadata": {},
   "outputs": [],
   "source": [
    "house_category = ['house','real','estate','property','housing','residential']\n",
    "wedding_category = ['wedding']\n",
    "education_category = ['education','university','educated']\n",
    "car_category = ['car','cars',]"
   ]
  },
  {
   "cell_type": "code",
   "execution_count": 47,
   "metadata": {},
   "outputs": [
    {
     "data": {
      "text/plain": [
       "0        real_estate\n",
       "1                car\n",
       "2        real_estate\n",
       "3          education\n",
       "4            wedding\n",
       "            ...     \n",
       "21520    real_estate\n",
       "21521            car\n",
       "21522    real_estate\n",
       "21523            car\n",
       "21524            car\n",
       "Name: purpose, Length: 21454, dtype: object"
      ]
     },
     "execution_count": 47,
     "metadata": {},
     "output_type": "execute_result"
    }
   ],
   "source": [
    "# Reviewer's code\n",
    "\n",
    "from nltk.stem import SnowballStemmer\n",
    "\n",
    "english_stemmer = SnowballStemmer('english')   \n",
    "\n",
    "# Get the list of stem values.\n",
    "purpose_words = df['purpose'].str.split().apply(lambda x: [english_stemmer.stem(y) for y in x])\n",
    "\n",
    "def purpose_group(purpose_words):\n",
    "\n",
    "    if 'wed' in purpose_words:\n",
    "        return 'wedding'\n",
    "    elif 'estat' in purpose_words or 'hous' in purpose_words or 'properti' in purpose_words:\n",
    "        return 'real_estate'\n",
    "    elif 'car' in purpose_words:\n",
    "        return 'car'\n",
    "    else:# 'educ' or 'uni' in purpose_words:\n",
    "        return 'education'\n",
    "    \n",
    "# Apply function to this list.    \n",
    "purpose_words.apply(purpose_group)\n"
   ]
  },
  {
   "cell_type": "code",
   "execution_count": 48,
   "metadata": {},
   "outputs": [],
   "source": [
    "def lemmatization(line):\n",
    "    words = nltk.word_tokenize(line)\n",
    "    lemmas = [wordnet_lemma.lemmatize(w, pos = 'n') for w in words]\n",
    "    lemmas = [l.lower() for l in lemmas]\n",
    "    if any (word in lemmas for word in house_category):\n",
    "        return 'house'\n",
    "    elif any (word in lemmas for word in wedding_category):\n",
    "        return 'wedding'\n",
    "    elif any (word in lemmas for word in education_category):\n",
    "        return 'education'\n",
    "    elif any (word in lemmas for word in car_category):\n",
    "        return 'car'\n",
    "    else:\n",
    "        return 'other'\n",
    "    \n",
    "\n",
    "    "
   ]
  },
  {
   "cell_type": "code",
   "execution_count": 49,
   "metadata": {
    "scrolled": false
   },
   "outputs": [
    {
     "name": "stdout",
     "output_type": "stream",
     "text": [
      "showing info https://raw.githubusercontent.com/nltk/nltk_data/gh-pages/index.xml\n"
     ]
    },
    {
     "data": {
      "text/plain": [
       "True"
      ]
     },
     "execution_count": 49,
     "metadata": {},
     "output_type": "execute_result"
    }
   ],
   "source": [
    "import nltk\n",
    "import ssl\n",
    "\n",
    "\n",
    "nltk.download()\n",
    "nltk.download('wordnet',quiet=True)\n"
   ]
  },
  {
   "cell_type": "code",
   "execution_count": 50,
   "metadata": {},
   "outputs": [
    {
     "data": {
      "text/plain": [
       "house        10811\n",
       "car           4306\n",
       "education     4013\n",
       "wedding       2324\n",
       "Name: purpose_category, dtype: int64"
      ]
     },
     "execution_count": 50,
     "metadata": {},
     "output_type": "execute_result"
    }
   ],
   "source": [
    "# Create a column with the categories and count the values for them\n",
    "df['purpose_category'] = df['purpose'].apply(lemmatization)\n",
    "df['purpose_category'].value_counts()"
   ]
  },
  {
   "cell_type": "markdown",
   "metadata": {},
   "source": [
    "Next, i will categorize the 'total_income' column. I want to know what ranges i should base the different numerical groups on, so i will use the describe() method to get some info on tota_income"
   ]
  },
  {
   "cell_type": "code",
   "execution_count": 51,
   "metadata": {
    "scrolled": true
   },
   "outputs": [
    {
     "data": {
      "text/plain": [
       "count     21454.000000\n",
       "mean      26797.900567\n",
       "std       15724.532575\n",
       "min        3306.762000\n",
       "25%       17219.817250\n",
       "50%       24379.051500\n",
       "75%       31729.172000\n",
       "max      362496.645000\n",
       "Name: total_income, dtype: float64"
      ]
     },
     "execution_count": 51,
     "metadata": {},
     "output_type": "execute_result"
    }
   ],
   "source": [
    "df['total_income'].describe()\n"
   ]
  },
  {
   "cell_type": "code",
   "execution_count": 52,
   "metadata": {},
   "outputs": [],
   "source": [
    "def incomme_level(income):\n",
    "    \n",
    "    low_income = 16488.504500\n",
    "    avg_income = 26787.568355\n",
    "    high_income = 32549.611000\n",
    "    very_high_income = 100000\n",
    "    if income <= low_income :\n",
    "        return 'low income'\n",
    "    elif income > low_income and income <= avg_income :\n",
    "        return 'med income'\n",
    "    elif income > avg_income and income <= high_income:\n",
    "        return 'high income'\n",
    "    else:\n",
    "        return 'very high income'\n"
   ]
  },
  {
   "cell_type": "code",
   "execution_count": 53,
   "metadata": {},
   "outputs": [],
   "source": [
    "\n",
    "df['income_category'] = df['total_income'].apply(incomme_level)\n"
   ]
  },
  {
   "cell_type": "code",
   "execution_count": 54,
   "metadata": {
    "scrolled": true
   },
   "outputs": [
    {
     "data": {
      "text/plain": [
       "med income          8264\n",
       "very high income    5025\n",
       "low income          4838\n",
       "high income         3327\n",
       "Name: income_category, dtype: int64"
      ]
     },
     "execution_count": 54,
     "metadata": {},
     "output_type": "execute_result"
    }
   ],
   "source": [
    "\n",
    "df['income_category'].value_counts()"
   ]
  },
  {
   "cell_type": "markdown",
   "metadata": {},
   "source": [
    "In addition to the categories i made, we can see that there are columns that are interchangeable so we can make a dictionary out of them- education and education_id and family_status and family_status_id.\n"
   ]
  },
  {
   "cell_type": "code",
   "execution_count": 55,
   "metadata": {},
   "outputs": [
    {
     "data": {
      "text/plain": [
       "{0: 'married',\n",
       " 1: 'civil partnership',\n",
       " 2: 'widow / widower',\n",
       " 3: 'divorced',\n",
       " 4: 'unmarried'}"
      ]
     },
     "execution_count": 55,
     "metadata": {},
     "output_type": "execute_result"
    }
   ],
   "source": [
    "pd.Series(df.family_status.values,index = df.family_status_id).to_dict()\n"
   ]
  },
  {
   "cell_type": "code",
   "execution_count": 56,
   "metadata": {},
   "outputs": [
    {
     "data": {
      "text/plain": [
       "{0: \"bachelor's degree\",\n",
       " 1: 'secondary education',\n",
       " 2: 'some college',\n",
       " 3: 'primary education',\n",
       " 4: 'graduate degree'}"
      ]
     },
     "execution_count": 56,
     "metadata": {},
     "output_type": "execute_result"
    }
   ],
   "source": [
    "\n",
    "\n",
    "\n",
    "pd.Series(df.education.values,index = df.education_id).to_dict()\n"
   ]
  },
  {
   "cell_type": "markdown",
   "metadata": {},
   "source": [
    "## Checking the Hypotheses\n"
   ]
  },
  {
   "cell_type": "markdown",
   "metadata": {},
   "source": [
    "**Is there a correlation between having children and paying back on time?**"
   ]
  },
  {
   "cell_type": "code",
   "execution_count": 57,
   "metadata": {},
   "outputs": [
    {
     "data": {
      "text/html": [
       "<div>\n",
       "<style scoped>\n",
       "    .dataframe tbody tr th:only-of-type {\n",
       "        vertical-align: middle;\n",
       "    }\n",
       "\n",
       "    .dataframe tbody tr th {\n",
       "        vertical-align: top;\n",
       "    }\n",
       "\n",
       "    .dataframe thead th {\n",
       "        text-align: right;\n",
       "    }\n",
       "</style>\n",
       "<table border=\"1\" class=\"dataframe\">\n",
       "  <thead>\n",
       "    <tr style=\"text-align: right;\">\n",
       "      <th></th>\n",
       "      <th>children</th>\n",
       "      <th>debt</th>\n",
       "    </tr>\n",
       "  </thead>\n",
       "  <tbody>\n",
       "    <tr>\n",
       "      <th>0</th>\n",
       "      <td>0</td>\n",
       "      <td>0.075419</td>\n",
       "    </tr>\n",
       "    <tr>\n",
       "      <th>1</th>\n",
       "      <td>1</td>\n",
       "      <td>0.092346</td>\n",
       "    </tr>\n",
       "    <tr>\n",
       "      <th>2</th>\n",
       "      <td>2</td>\n",
       "      <td>0.094542</td>\n",
       "    </tr>\n",
       "    <tr>\n",
       "      <th>3</th>\n",
       "      <td>3</td>\n",
       "      <td>0.081818</td>\n",
       "    </tr>\n",
       "    <tr>\n",
       "      <th>4</th>\n",
       "      <td>4</td>\n",
       "      <td>0.097561</td>\n",
       "    </tr>\n",
       "    <tr>\n",
       "      <th>5</th>\n",
       "      <td>5</td>\n",
       "      <td>0.000000</td>\n",
       "    </tr>\n",
       "  </tbody>\n",
       "</table>\n",
       "</div>"
      ],
      "text/plain": [
       "   children      debt\n",
       "0         0  0.075419\n",
       "1         1  0.092346\n",
       "2         2  0.094542\n",
       "3         3  0.081818\n",
       "4         4  0.097561\n",
       "5         5  0.000000"
      ]
     },
     "execution_count": 57,
     "metadata": {},
     "output_type": "execute_result"
    }
   ],
   "source": [
    "df.groupby('children')['debt'].mean().reset_index().sort_values(by = 'children')\n"
   ]
  },
  {
   "cell_type": "markdown",
   "metadata": {},
   "source": [
    "**Conclusion**\n",
    "\n",
    "Based on the manipulations and observations i made, i can see that there is a slight correlation between having children and paying back on time. There is a 2% difference in the loan default rate between clients who have 4 children, and clients that dont have any. Also we can see that clients that have 5 kids always pay back on time.\n"
   ]
  },
  {
   "cell_type": "code",
   "execution_count": 58,
   "metadata": {},
   "outputs": [
    {
     "data": {
      "text/html": [
       "<div>\n",
       "<style scoped>\n",
       "    .dataframe tbody tr th:only-of-type {\n",
       "        vertical-align: middle;\n",
       "    }\n",
       "\n",
       "    .dataframe tbody tr th {\n",
       "        vertical-align: top;\n",
       "    }\n",
       "\n",
       "    .dataframe thead th {\n",
       "        text-align: right;\n",
       "    }\n",
       "</style>\n",
       "<table border=\"1\" class=\"dataframe\">\n",
       "  <thead>\n",
       "    <tr style=\"text-align: right;\">\n",
       "      <th></th>\n",
       "      <th>count</th>\n",
       "      <th>sum</th>\n",
       "      <th>my_mean</th>\n",
       "    </tr>\n",
       "    <tr>\n",
       "      <th>children</th>\n",
       "      <th></th>\n",
       "      <th></th>\n",
       "      <th></th>\n",
       "    </tr>\n",
       "  </thead>\n",
       "  <tbody>\n",
       "    <tr>\n",
       "      <th>0</th>\n",
       "      <td>14214</td>\n",
       "      <td>1072</td>\n",
       "      <td>7.541860</td>\n",
       "    </tr>\n",
       "    <tr>\n",
       "      <th>1</th>\n",
       "      <td>4808</td>\n",
       "      <td>444</td>\n",
       "      <td>9.234609</td>\n",
       "    </tr>\n",
       "    <tr>\n",
       "      <th>2</th>\n",
       "      <td>2052</td>\n",
       "      <td>194</td>\n",
       "      <td>9.454191</td>\n",
       "    </tr>\n",
       "    <tr>\n",
       "      <th>3</th>\n",
       "      <td>330</td>\n",
       "      <td>27</td>\n",
       "      <td>8.181818</td>\n",
       "    </tr>\n",
       "    <tr>\n",
       "      <th>4</th>\n",
       "      <td>41</td>\n",
       "      <td>4</td>\n",
       "      <td>9.756098</td>\n",
       "    </tr>\n",
       "    <tr>\n",
       "      <th>5</th>\n",
       "      <td>9</td>\n",
       "      <td>0</td>\n",
       "      <td>0.000000</td>\n",
       "    </tr>\n",
       "  </tbody>\n",
       "</table>\n",
       "</div>"
      ],
      "text/plain": [
       "          count   sum   my_mean\n",
       "children                       \n",
       "0         14214  1072  7.541860\n",
       "1          4808   444  9.234609\n",
       "2          2052   194  9.454191\n",
       "3           330    27  8.181818\n",
       "4            41     4  9.756098\n",
       "5             9     0  0.000000"
      ]
     },
     "execution_count": 58,
     "metadata": {},
     "output_type": "execute_result"
    }
   ],
   "source": [
    "# Reviewer's code\n",
    "\n",
    "def my_mean(x): return x.mean()*100\n",
    "\n",
    "# We can you our own function in agg method\n",
    "df.groupby('children')['debt'].agg(['count', 'sum', my_mean])"
   ]
  },
  {
   "cell_type": "markdown",
   "metadata": {},
   "source": [
    "**Is there a correlation between family status and paying back on time?**"
   ]
  },
  {
   "cell_type": "code",
   "execution_count": 59,
   "metadata": {},
   "outputs": [
    {
     "data": {
      "text/html": [
       "<div>\n",
       "<style scoped>\n",
       "    .dataframe tbody tr th:only-of-type {\n",
       "        vertical-align: middle;\n",
       "    }\n",
       "\n",
       "    .dataframe tbody tr th {\n",
       "        vertical-align: top;\n",
       "    }\n",
       "\n",
       "    .dataframe thead th {\n",
       "        text-align: right;\n",
       "    }\n",
       "</style>\n",
       "<table border=\"1\" class=\"dataframe\">\n",
       "  <thead>\n",
       "    <tr style=\"text-align: right;\">\n",
       "      <th></th>\n",
       "      <th>family_status</th>\n",
       "      <th>debt</th>\n",
       "    </tr>\n",
       "  </thead>\n",
       "  <tbody>\n",
       "    <tr>\n",
       "      <th>4</th>\n",
       "      <td>widow / widower</td>\n",
       "      <td>0.065693</td>\n",
       "    </tr>\n",
       "    <tr>\n",
       "      <th>1</th>\n",
       "      <td>divorced</td>\n",
       "      <td>0.071130</td>\n",
       "    </tr>\n",
       "    <tr>\n",
       "      <th>2</th>\n",
       "      <td>married</td>\n",
       "      <td>0.075452</td>\n",
       "    </tr>\n",
       "    <tr>\n",
       "      <th>0</th>\n",
       "      <td>civil partnership</td>\n",
       "      <td>0.093471</td>\n",
       "    </tr>\n",
       "    <tr>\n",
       "      <th>3</th>\n",
       "      <td>unmarried</td>\n",
       "      <td>0.097509</td>\n",
       "    </tr>\n",
       "  </tbody>\n",
       "</table>\n",
       "</div>"
      ],
      "text/plain": [
       "       family_status      debt\n",
       "4    widow / widower  0.065693\n",
       "1           divorced  0.071130\n",
       "2            married  0.075452\n",
       "0  civil partnership  0.093471\n",
       "3          unmarried  0.097509"
      ]
     },
     "execution_count": 59,
     "metadata": {},
     "output_type": "execute_result"
    }
   ],
   "source": [
    "df.groupby('family_status')['debt'].mean().reset_index().sort_values(by = 'debt')"
   ]
  },
  {
   "cell_type": "markdown",
   "metadata": {},
   "source": [
    "\n",
    "**Conclusion**\n",
    "\n",
    "\n",
    "Based on the manipulations and observations i made, i can see that there is a slight correlation between family status and paying back on time. We can see that widows/widowers, divorced and married clients are slightly more likely to pay back their loan on time, than clients that are in a civil partnership\tor unmarried.  \n"
   ]
  },
  {
   "cell_type": "markdown",
   "metadata": {},
   "source": [
    "**Is there a correlation between income level and paying back on time?**"
   ]
  },
  {
   "cell_type": "code",
   "execution_count": 60,
   "metadata": {},
   "outputs": [
    {
     "data": {
      "text/html": [
       "<div>\n",
       "<style scoped>\n",
       "    .dataframe tbody tr th:only-of-type {\n",
       "        vertical-align: middle;\n",
       "    }\n",
       "\n",
       "    .dataframe tbody tr th {\n",
       "        vertical-align: top;\n",
       "    }\n",
       "\n",
       "    .dataframe thead th {\n",
       "        text-align: right;\n",
       "    }\n",
       "</style>\n",
       "<table border=\"1\" class=\"dataframe\">\n",
       "  <thead>\n",
       "    <tr style=\"text-align: right;\">\n",
       "      <th></th>\n",
       "      <th>income_category</th>\n",
       "      <th>debt</th>\n",
       "    </tr>\n",
       "  </thead>\n",
       "  <tbody>\n",
       "    <tr>\n",
       "      <th>3</th>\n",
       "      <td>very high income</td>\n",
       "      <td>0.069453</td>\n",
       "    </tr>\n",
       "    <tr>\n",
       "      <th>1</th>\n",
       "      <td>low income</td>\n",
       "      <td>0.079165</td>\n",
       "    </tr>\n",
       "    <tr>\n",
       "      <th>0</th>\n",
       "      <td>high income</td>\n",
       "      <td>0.080854</td>\n",
       "    </tr>\n",
       "    <tr>\n",
       "      <th>2</th>\n",
       "      <td>med income</td>\n",
       "      <td>0.089545</td>\n",
       "    </tr>\n",
       "  </tbody>\n",
       "</table>\n",
       "</div>"
      ],
      "text/plain": [
       "    income_category      debt\n",
       "3  very high income  0.069453\n",
       "1        low income  0.079165\n",
       "0       high income  0.080854\n",
       "2        med income  0.089545"
      ]
     },
     "execution_count": 60,
     "metadata": {},
     "output_type": "execute_result"
    }
   ],
   "source": [
    "\n",
    "df.groupby('income_category')['debt'].mean().reset_index().sort_values(by = 'debt')\n"
   ]
  },
  {
   "cell_type": "markdown",
   "metadata": {},
   "source": [
    "**Conclusion**\n",
    "\n",
    "\n",
    "Based on the manipulations and observations i made, i can see that there is a slight correlation between income level and paying back on time. We can see that clients that are in the 'very high income' category are slightly more likely to pay back their loan on time, but there is not a line to draw between how high is clients income and wether they will pay their loan on time, because clients in the 'high income' category are still less likely to pay their loan on time then clients in the 'low income' category."
   ]
  },
  {
   "cell_type": "markdown",
   "metadata": {},
   "source": [
    "**How does credit purpose affect the default rate?**"
   ]
  },
  {
   "cell_type": "code",
   "execution_count": 61,
   "metadata": {},
   "outputs": [
    {
     "data": {
      "text/html": [
       "<div>\n",
       "<style scoped>\n",
       "    .dataframe tbody tr th:only-of-type {\n",
       "        vertical-align: middle;\n",
       "    }\n",
       "\n",
       "    .dataframe tbody tr th {\n",
       "        vertical-align: top;\n",
       "    }\n",
       "\n",
       "    .dataframe thead th {\n",
       "        text-align: right;\n",
       "    }\n",
       "</style>\n",
       "<table border=\"1\" class=\"dataframe\">\n",
       "  <thead>\n",
       "    <tr style=\"text-align: right;\">\n",
       "      <th></th>\n",
       "      <th>purpose_category</th>\n",
       "      <th>debt</th>\n",
       "    </tr>\n",
       "  </thead>\n",
       "  <tbody>\n",
       "    <tr>\n",
       "      <th>2</th>\n",
       "      <td>house</td>\n",
       "      <td>0.072334</td>\n",
       "    </tr>\n",
       "    <tr>\n",
       "      <th>3</th>\n",
       "      <td>wedding</td>\n",
       "      <td>0.080034</td>\n",
       "    </tr>\n",
       "    <tr>\n",
       "      <th>1</th>\n",
       "      <td>education</td>\n",
       "      <td>0.092200</td>\n",
       "    </tr>\n",
       "    <tr>\n",
       "      <th>0</th>\n",
       "      <td>car</td>\n",
       "      <td>0.093590</td>\n",
       "    </tr>\n",
       "  </tbody>\n",
       "</table>\n",
       "</div>"
      ],
      "text/plain": [
       "  purpose_category      debt\n",
       "2            house  0.072334\n",
       "3          wedding  0.080034\n",
       "1        education  0.092200\n",
       "0              car  0.093590"
      ]
     },
     "execution_count": 61,
     "metadata": {},
     "output_type": "execute_result"
    }
   ],
   "source": [
    "df.groupby('purpose_category')['debt'].mean().reset_index().sort_values(by = 'debt')\n"
   ]
  },
  {
   "cell_type": "markdown",
   "metadata": {},
   "source": [
    "**Conclusion**\n",
    "Based on the manipulations and observations i made, i can see that there is a slight correlation between the purpose of the loan and paying it back on time. We can see that clients that wanted the loan in order to buy/build a house are slightly more likely to pay back their loan on time, than clients that wanted the loan for an education purpose or a car related purpose (aprox 2 % difference), and using the loan for a weddig is just between clients that wanted the loan in order to buy/build a house and the other two. \n"
   ]
  },
  {
   "cell_type": "markdown",
   "metadata": {},
   "source": [
    "# General Conclusion \n",
    "In this general conclusion , i will decribe the decisions i made through the project and explain how i got to the conclusions i made. \n",
    "\n",
    "After Investigating the data, i noticed there are missing values across two columns - total_income and days_employed. after investigating these columns i decided to drop the days_employed column due to unusable data and filled the missing data in the total_income column, based on other columns that could have impacted its mean (education and income type).Also, i detected the different registers and duplicates that were in the data and fixed them. \n",
    "\n",
    "After all of these actions, meant to clean the data - i categorized the data in order to help me compare the data in a wider way and by that to be able to  draw conections and undserstand the correlation between different types of clients and paying back their loans on time.\n",
    "\n",
    "Based on the categoris i made and the functions i wrote, i was able to check the hypotheses that were in question and reach the following conclusion about the next categories of clients:\n",
    "\n",
    "Based on the loan purpose, we can see that the most reliable clients are the clients wanted the loan in order to buy/build a house with 7.23% chance of not paying back their loan on time.\n",
    "The most irresponsible clients are the clients that wanted the loan for a car related purpose with 9.35% chance of not paying back their loan on time \n",
    "\n",
    "Based on the income of the clients, the most reliable clients are the clients in the \"very high income\" category with 6.94 % chance of not to pay back their loan on time\n",
    "The most irresponsible clients are the clients in the \"med income\" category with 8.95 % chance of not to pay back their loan on time.\n",
    "\n",
    "\n",
    "Regarding  the question if the customer’s marital status and number of children has an impact on whether they will default on a loan, my conclusion is that there is a connection that i will show in the next paragraphs: \n",
    "\n",
    "Based on marital status, the most reliable clients are the clients who have benn married before, with widowed clients at the topof that list with 6.56% chance of not paying their loan on time.\n",
    "he most irresponsible clients are the clients that was never married, with 9.34% for clients in a civil partnership\tand 9.75% for unmarried\tclients.\n",
    "\n",
    "Based on number of children, the most reliable clients are clients with 5 children, with 0% chance of not paying back on time - but we have a very small sample size regarding those clients (9 clients)\n",
    "the next group are clients with 0 children with 7.54 % of not paying back on time. \n",
    "the most irresponsible are clients with 4 children with 9.75 % of not paying back on time.\n"
   ]
  }
 ],
 "metadata": {
  "ExecuteTimeLog": [
   {
    "duration": 2741,
    "start_time": "2021-10-21T01:08:49.480Z"
   },
   {
    "duration": 52,
    "start_time": "2021-10-21T01:08:53.315Z"
   },
   {
    "duration": 49,
    "start_time": "2021-10-21T01:08:57.432Z"
   },
   {
    "duration": 70,
    "start_time": "2021-10-21T01:09:07.706Z"
   },
   {
    "duration": 338,
    "start_time": "2022-01-11T15:30:39.970Z"
   },
   {
    "duration": 99,
    "start_time": "2022-01-11T15:32:49.383Z"
   },
   {
    "duration": 1191,
    "start_time": "2022-01-11T15:32:55.804Z"
   },
   {
    "duration": 20,
    "start_time": "2022-01-11T15:33:17.589Z"
   },
   {
    "duration": 12,
    "start_time": "2022-01-11T15:34:01.435Z"
   },
   {
    "duration": 10,
    "start_time": "2022-01-11T15:34:13.844Z"
   },
   {
    "duration": 13,
    "start_time": "2022-01-11T15:34:31.546Z"
   },
   {
    "duration": 384,
    "start_time": "2022-01-11T15:36:22.873Z"
   },
   {
    "duration": 70,
    "start_time": "2022-01-11T15:37:20.779Z"
   },
   {
    "duration": 370,
    "start_time": "2022-01-11T15:37:22.076Z"
   },
   {
    "duration": 13,
    "start_time": "2022-01-11T15:37:36.745Z"
   },
   {
    "duration": 17,
    "start_time": "2022-01-11T15:37:47.493Z"
   },
   {
    "duration": 16,
    "start_time": "2022-01-11T15:58:04.252Z"
   },
   {
    "duration": 23,
    "start_time": "2022-01-11T15:58:59.738Z"
   },
   {
    "duration": 25,
    "start_time": "2022-01-11T16:06:21.123Z"
   },
   {
    "duration": 31,
    "start_time": "2022-01-11T16:11:54.251Z"
   },
   {
    "duration": 45,
    "start_time": "2022-01-11T16:22:10.146Z"
   },
   {
    "duration": 5,
    "start_time": "2022-01-11T16:23:03.988Z"
   },
   {
    "duration": 91,
    "start_time": "2022-01-11T16:24:21.761Z"
   },
   {
    "duration": 112,
    "start_time": "2022-01-11T16:24:25.048Z"
   },
   {
    "duration": 6,
    "start_time": "2022-01-11T16:24:28.180Z"
   },
   {
    "duration": 127,
    "start_time": "2022-01-11T16:24:39.659Z"
   },
   {
    "duration": 5,
    "start_time": "2022-01-11T16:29:43.930Z"
   },
   {
    "duration": 5,
    "start_time": "2022-01-11T16:29:47.987Z"
   },
   {
    "duration": 120,
    "start_time": "2022-01-11T16:30:00.430Z"
   },
   {
    "duration": 308,
    "start_time": "2022-01-11T16:30:04.493Z"
   },
   {
    "duration": 5,
    "start_time": "2022-01-11T16:30:23.926Z"
   },
   {
    "duration": 303,
    "start_time": "2022-01-11T16:33:45.720Z"
   },
   {
    "duration": 12,
    "start_time": "2022-01-11T16:33:49.176Z"
   },
   {
    "duration": 55,
    "start_time": "2022-01-11T16:36:39.575Z"
   },
   {
    "duration": 49,
    "start_time": "2022-01-11T16:37:48.016Z"
   },
   {
    "duration": 22,
    "start_time": "2022-01-11T16:38:20.443Z"
   },
   {
    "duration": 23,
    "start_time": "2022-01-11T16:38:25.093Z"
   },
   {
    "duration": 14,
    "start_time": "2022-01-11T16:38:38.795Z"
   },
   {
    "duration": 13,
    "start_time": "2022-01-11T16:39:57.405Z"
   },
   {
    "duration": 16,
    "start_time": "2022-01-11T16:40:20.766Z"
   },
   {
    "duration": 24,
    "start_time": "2022-01-11T16:40:41.007Z"
   },
   {
    "duration": 981,
    "start_time": "2022-01-11T17:02:59.483Z"
   },
   {
    "duration": 13,
    "start_time": "2022-01-11T17:03:02.683Z"
   },
   {
    "duration": 15,
    "start_time": "2022-01-11T17:03:04.114Z"
   },
   {
    "duration": 89,
    "start_time": "2022-01-13T08:51:07.277Z"
   },
   {
    "duration": 806,
    "start_time": "2022-01-13T08:51:12.351Z"
   },
   {
    "duration": 254,
    "start_time": "2022-01-13T08:51:18.023Z"
   },
   {
    "duration": 663,
    "start_time": "2022-01-13T08:51:22.132Z"
   },
   {
    "duration": 9,
    "start_time": "2022-01-13T08:51:22.797Z"
   },
   {
    "duration": 32,
    "start_time": "2022-01-13T08:51:22.808Z"
   },
   {
    "duration": 12,
    "start_time": "2022-01-13T08:51:23.136Z"
   },
   {
    "duration": 20,
    "start_time": "2022-01-13T08:51:23.697Z"
   },
   {
    "duration": 278,
    "start_time": "2022-01-13T08:51:24.614Z"
   },
   {
    "duration": 255,
    "start_time": "2022-01-13T08:51:25.885Z"
   },
   {
    "duration": 5,
    "start_time": "2022-01-13T08:52:54.697Z"
   },
   {
    "duration": 5,
    "start_time": "2022-01-13T08:53:06.383Z"
   },
   {
    "duration": 10,
    "start_time": "2022-01-13T08:53:27.309Z"
   },
   {
    "duration": 281,
    "start_time": "2022-01-13T08:53:45.150Z"
   },
   {
    "duration": 376,
    "start_time": "2022-01-13T08:54:09.449Z"
   },
   {
    "duration": 18,
    "start_time": "2022-01-13T08:54:25.049Z"
   },
   {
    "duration": 13,
    "start_time": "2022-01-13T08:54:46.651Z"
   },
   {
    "duration": 884,
    "start_time": "2022-01-13T08:55:22.517Z"
   },
   {
    "duration": 286,
    "start_time": "2022-01-13T08:55:25.294Z"
   },
   {
    "duration": 15,
    "start_time": "2022-01-13T09:03:16.279Z"
   },
   {
    "duration": 8,
    "start_time": "2022-01-13T09:05:15.848Z"
   },
   {
    "duration": 10,
    "start_time": "2022-01-13T09:08:02.996Z"
   },
   {
    "duration": 86,
    "start_time": "2022-01-13T09:08:34.325Z"
   },
   {
    "duration": 10,
    "start_time": "2022-01-13T09:13:06.082Z"
   },
   {
    "duration": 17,
    "start_time": "2022-01-13T09:13:32.657Z"
   },
   {
    "duration": 12,
    "start_time": "2022-01-13T09:13:41.022Z"
   },
   {
    "duration": 10,
    "start_time": "2022-01-13T09:14:08.769Z"
   },
   {
    "duration": 4,
    "start_time": "2022-01-13T09:21:42.637Z"
   },
   {
    "duration": 5,
    "start_time": "2022-01-13T09:21:52.912Z"
   },
   {
    "duration": 287,
    "start_time": "2022-01-13T09:22:09.981Z"
   },
   {
    "duration": 5,
    "start_time": "2022-01-13T09:22:14.099Z"
   },
   {
    "duration": 6,
    "start_time": "2022-01-13T09:22:58.435Z"
   },
   {
    "duration": 9,
    "start_time": "2022-01-13T09:23:06.164Z"
   },
   {
    "duration": 17,
    "start_time": "2022-01-13T09:24:40.860Z"
   },
   {
    "duration": 6,
    "start_time": "2022-01-13T09:24:45.958Z"
   },
   {
    "duration": 9,
    "start_time": "2022-01-13T09:24:51.635Z"
   },
   {
    "duration": 7,
    "start_time": "2022-01-13T09:25:02.610Z"
   },
   {
    "duration": 5,
    "start_time": "2022-01-13T09:30:55.141Z"
   },
   {
    "duration": 10,
    "start_time": "2022-01-13T09:31:09.946Z"
   },
   {
    "duration": 4,
    "start_time": "2022-01-13T09:33:00.546Z"
   },
   {
    "duration": 88,
    "start_time": "2022-01-13T09:33:23.253Z"
   },
   {
    "duration": 14,
    "start_time": "2022-01-13T09:33:30.783Z"
   },
   {
    "duration": 13,
    "start_time": "2022-01-13T09:33:45.482Z"
   },
   {
    "duration": 5,
    "start_time": "2022-01-13T09:34:25.175Z"
   },
   {
    "duration": 8,
    "start_time": "2022-01-13T09:39:37.774Z"
   },
   {
    "duration": 7,
    "start_time": "2022-01-13T09:50:40.397Z"
   },
   {
    "duration": 277,
    "start_time": "2022-01-13T09:51:37.580Z"
   },
   {
    "duration": 12,
    "start_time": "2022-01-13T09:52:16.993Z"
   },
   {
    "duration": 9,
    "start_time": "2022-01-13T09:52:24.388Z"
   },
   {
    "duration": 6,
    "start_time": "2022-01-13T09:52:51.294Z"
   },
   {
    "duration": 6,
    "start_time": "2022-01-13T09:53:34.327Z"
   },
   {
    "duration": 9,
    "start_time": "2022-01-13T09:53:59.706Z"
   },
   {
    "duration": 86,
    "start_time": "2022-01-13T10:01:33.068Z"
   },
   {
    "duration": 81,
    "start_time": "2022-01-13T10:02:00.624Z"
   },
   {
    "duration": 8,
    "start_time": "2022-01-13T10:02:08.191Z"
   },
   {
    "duration": 17,
    "start_time": "2022-01-13T10:05:43.006Z"
   },
   {
    "duration": 6,
    "start_time": "2022-01-13T10:06:00.333Z"
   },
   {
    "duration": 6,
    "start_time": "2022-01-13T10:06:17.574Z"
   },
   {
    "duration": 715,
    "start_time": "2022-01-13T10:06:56.628Z"
   },
   {
    "duration": 8,
    "start_time": "2022-01-13T10:06:57.345Z"
   },
   {
    "duration": 13,
    "start_time": "2022-01-13T10:06:57.355Z"
   },
   {
    "duration": 20,
    "start_time": "2022-01-13T10:06:57.370Z"
   },
   {
    "duration": 13,
    "start_time": "2022-01-13T10:06:57.392Z"
   },
   {
    "duration": 7,
    "start_time": "2022-01-13T10:06:57.406Z"
   },
   {
    "duration": 5,
    "start_time": "2022-01-13T10:06:57.414Z"
   },
   {
    "duration": 3,
    "start_time": "2022-01-13T10:06:57.421Z"
   },
   {
    "duration": 7,
    "start_time": "2022-01-13T10:06:57.426Z"
   },
   {
    "duration": 27,
    "start_time": "2022-01-13T10:06:57.434Z"
   },
   {
    "duration": 14,
    "start_time": "2022-01-13T10:06:57.463Z"
   },
   {
    "duration": 14,
    "start_time": "2022-01-13T10:06:57.479Z"
   },
   {
    "duration": 16,
    "start_time": "2022-01-13T10:06:57.495Z"
   },
   {
    "duration": 14,
    "start_time": "2022-01-13T10:06:57.513Z"
   },
   {
    "duration": 8,
    "start_time": "2022-01-13T10:06:57.529Z"
   },
   {
    "duration": 95,
    "start_time": "2022-01-13T10:06:57.538Z"
   },
   {
    "duration": -169,
    "start_time": "2022-01-13T10:06:57.805Z"
   },
   {
    "duration": -170,
    "start_time": "2022-01-13T10:06:57.807Z"
   },
   {
    "duration": -171,
    "start_time": "2022-01-13T10:06:57.809Z"
   },
   {
    "duration": -172,
    "start_time": "2022-01-13T10:06:57.811Z"
   },
   {
    "duration": -174,
    "start_time": "2022-01-13T10:06:57.814Z"
   },
   {
    "duration": -175,
    "start_time": "2022-01-13T10:06:57.816Z"
   },
   {
    "duration": -176,
    "start_time": "2022-01-13T10:06:57.818Z"
   },
   {
    "duration": -199,
    "start_time": "2022-01-13T10:06:57.841Z"
   },
   {
    "duration": -201,
    "start_time": "2022-01-13T10:06:57.844Z"
   },
   {
    "duration": -204,
    "start_time": "2022-01-13T10:06:57.848Z"
   },
   {
    "duration": -206,
    "start_time": "2022-01-13T10:06:57.851Z"
   },
   {
    "duration": -208,
    "start_time": "2022-01-13T10:06:57.854Z"
   },
   {
    "duration": -210,
    "start_time": "2022-01-13T10:06:57.857Z"
   },
   {
    "duration": -212,
    "start_time": "2022-01-13T10:06:57.859Z"
   },
   {
    "duration": -215,
    "start_time": "2022-01-13T10:06:57.863Z"
   },
   {
    "duration": -217,
    "start_time": "2022-01-13T10:06:57.866Z"
   },
   {
    "duration": -219,
    "start_time": "2022-01-13T10:06:57.869Z"
   },
   {
    "duration": -220,
    "start_time": "2022-01-13T10:06:57.871Z"
   },
   {
    "duration": -221,
    "start_time": "2022-01-13T10:06:57.873Z"
   },
   {
    "duration": -224,
    "start_time": "2022-01-13T10:06:57.876Z"
   },
   {
    "duration": -226,
    "start_time": "2022-01-13T10:06:57.879Z"
   },
   {
    "duration": -229,
    "start_time": "2022-01-13T10:06:57.883Z"
   },
   {
    "duration": -231,
    "start_time": "2022-01-13T10:06:57.886Z"
   },
   {
    "duration": -233,
    "start_time": "2022-01-13T10:06:57.889Z"
   },
   {
    "duration": -234,
    "start_time": "2022-01-13T10:06:57.891Z"
   },
   {
    "duration": -236,
    "start_time": "2022-01-13T10:06:57.894Z"
   },
   {
    "duration": -240,
    "start_time": "2022-01-13T10:06:57.898Z"
   },
   {
    "duration": -242,
    "start_time": "2022-01-13T10:06:57.901Z"
   },
   {
    "duration": -241,
    "start_time": "2022-01-13T10:06:57.903Z"
   },
   {
    "duration": -242,
    "start_time": "2022-01-13T10:06:57.906Z"
   },
   {
    "duration": -243,
    "start_time": "2022-01-13T10:06:57.908Z"
   },
   {
    "duration": -245,
    "start_time": "2022-01-13T10:06:57.911Z"
   },
   {
    "duration": -247,
    "start_time": "2022-01-13T10:06:57.914Z"
   },
   {
    "duration": -249,
    "start_time": "2022-01-13T10:06:57.917Z"
   },
   {
    "duration": -250,
    "start_time": "2022-01-13T10:06:57.919Z"
   },
   {
    "duration": -251,
    "start_time": "2022-01-13T10:06:57.921Z"
   },
   {
    "duration": -253,
    "start_time": "2022-01-13T10:06:57.924Z"
   },
   {
    "duration": -254,
    "start_time": "2022-01-13T10:06:57.926Z"
   },
   {
    "duration": -256,
    "start_time": "2022-01-13T10:06:57.929Z"
   },
   {
    "duration": -257,
    "start_time": "2022-01-13T10:06:57.931Z"
   },
   {
    "duration": -259,
    "start_time": "2022-01-13T10:06:57.934Z"
   },
   {
    "duration": -260,
    "start_time": "2022-01-13T10:06:57.936Z"
   },
   {
    "duration": -262,
    "start_time": "2022-01-13T10:06:57.938Z"
   },
   {
    "duration": -274,
    "start_time": "2022-01-13T10:06:57.951Z"
   },
   {
    "duration": -275,
    "start_time": "2022-01-13T10:06:57.953Z"
   },
   {
    "duration": -278,
    "start_time": "2022-01-13T10:06:57.956Z"
   },
   {
    "duration": -279,
    "start_time": "2022-01-13T10:06:57.958Z"
   },
   {
    "duration": -282,
    "start_time": "2022-01-13T10:06:57.961Z"
   },
   {
    "duration": -289,
    "start_time": "2022-01-13T10:06:57.970Z"
   },
   {
    "duration": -292,
    "start_time": "2022-01-13T10:06:57.974Z"
   },
   {
    "duration": -295,
    "start_time": "2022-01-13T10:06:57.977Z"
   },
   {
    "duration": -297,
    "start_time": "2022-01-13T10:06:57.981Z"
   },
   {
    "duration": -298,
    "start_time": "2022-01-13T10:06:57.983Z"
   },
   {
    "duration": -301,
    "start_time": "2022-01-13T10:06:57.986Z"
   },
   {
    "duration": -302,
    "start_time": "2022-01-13T10:06:57.988Z"
   },
   {
    "duration": 8,
    "start_time": "2022-01-13T10:07:24.196Z"
   },
   {
    "duration": 9,
    "start_time": "2022-01-13T10:07:34.932Z"
   },
   {
    "duration": 7,
    "start_time": "2022-01-13T10:07:48.188Z"
   },
   {
    "duration": 6,
    "start_time": "2022-01-13T10:07:51.045Z"
   },
   {
    "duration": 18,
    "start_time": "2022-01-13T10:08:39.540Z"
   },
   {
    "duration": 6,
    "start_time": "2022-01-13T10:08:45.493Z"
   },
   {
    "duration": 16,
    "start_time": "2022-01-13T10:09:05.737Z"
   },
   {
    "duration": 21,
    "start_time": "2022-01-13T10:09:15.167Z"
   },
   {
    "duration": 17,
    "start_time": "2022-01-13T10:09:29.633Z"
   },
   {
    "duration": 6,
    "start_time": "2022-01-13T10:09:30.592Z"
   },
   {
    "duration": 7,
    "start_time": "2022-01-13T10:09:44.557Z"
   },
   {
    "duration": 19,
    "start_time": "2022-01-13T10:09:45.819Z"
   },
   {
    "duration": 752,
    "start_time": "2022-01-13T10:09:57.025Z"
   },
   {
    "duration": 8,
    "start_time": "2022-01-13T10:09:57.780Z"
   },
   {
    "duration": 23,
    "start_time": "2022-01-13T10:09:57.790Z"
   },
   {
    "duration": 18,
    "start_time": "2022-01-13T10:09:57.815Z"
   },
   {
    "duration": 16,
    "start_time": "2022-01-13T10:09:57.835Z"
   },
   {
    "duration": 16,
    "start_time": "2022-01-13T10:09:57.853Z"
   },
   {
    "duration": 7,
    "start_time": "2022-01-13T10:09:57.871Z"
   },
   {
    "duration": 6,
    "start_time": "2022-01-13T10:09:57.880Z"
   },
   {
    "duration": 4,
    "start_time": "2022-01-13T10:09:57.889Z"
   },
   {
    "duration": 4,
    "start_time": "2022-01-13T10:09:57.895Z"
   },
   {
    "duration": 6,
    "start_time": "2022-01-13T10:09:57.901Z"
   },
   {
    "duration": 10,
    "start_time": "2022-01-13T10:09:57.908Z"
   },
   {
    "duration": 20,
    "start_time": "2022-01-13T10:09:57.920Z"
   },
   {
    "duration": 13,
    "start_time": "2022-01-13T10:09:57.960Z"
   },
   {
    "duration": 16,
    "start_time": "2022-01-13T10:09:57.975Z"
   },
   {
    "duration": 32,
    "start_time": "2022-01-13T10:09:57.993Z"
   },
   {
    "duration": 41,
    "start_time": "2022-01-13T10:09:58.027Z"
   },
   {
    "duration": 14,
    "start_time": "2022-01-13T10:09:58.070Z"
   },
   {
    "duration": 21,
    "start_time": "2022-01-13T10:09:58.086Z"
   },
   {
    "duration": 13,
    "start_time": "2022-01-13T10:09:58.109Z"
   },
   {
    "duration": 6,
    "start_time": "2022-01-13T10:09:58.124Z"
   },
   {
    "duration": 5,
    "start_time": "2022-01-13T10:09:58.132Z"
   },
   {
    "duration": 7,
    "start_time": "2022-01-13T10:09:58.139Z"
   },
   {
    "duration": 3,
    "start_time": "2022-01-13T10:09:58.148Z"
   },
   {
    "duration": 13,
    "start_time": "2022-01-13T10:09:58.153Z"
   },
   {
    "duration": 8,
    "start_time": "2022-01-13T10:09:58.169Z"
   },
   {
    "duration": 4,
    "start_time": "2022-01-13T10:09:58.181Z"
   },
   {
    "duration": 7,
    "start_time": "2022-01-13T10:09:58.188Z"
   },
   {
    "duration": 6,
    "start_time": "2022-01-13T10:09:58.196Z"
   },
   {
    "duration": 5,
    "start_time": "2022-01-13T10:09:58.204Z"
   },
   {
    "duration": 10,
    "start_time": "2022-01-13T10:09:58.211Z"
   },
   {
    "duration": 16,
    "start_time": "2022-01-13T10:09:58.223Z"
   },
   {
    "duration": 6,
    "start_time": "2022-01-13T10:09:58.241Z"
   },
   {
    "duration": 7,
    "start_time": "2022-01-13T10:09:58.248Z"
   },
   {
    "duration": 9,
    "start_time": "2022-01-13T10:09:58.256Z"
   },
   {
    "duration": 17,
    "start_time": "2022-01-13T10:09:58.267Z"
   },
   {
    "duration": 5,
    "start_time": "2022-01-13T10:09:58.286Z"
   },
   {
    "duration": 6,
    "start_time": "2022-01-13T10:09:58.293Z"
   },
   {
    "duration": 7,
    "start_time": "2022-01-13T10:09:58.300Z"
   },
   {
    "duration": 9,
    "start_time": "2022-01-13T10:09:58.308Z"
   },
   {
    "duration": 7,
    "start_time": "2022-01-13T10:09:58.318Z"
   },
   {
    "duration": 5,
    "start_time": "2022-01-13T10:09:58.327Z"
   },
   {
    "duration": 7,
    "start_time": "2022-01-13T10:09:58.333Z"
   },
   {
    "duration": 5,
    "start_time": "2022-01-13T10:09:58.342Z"
   },
   {
    "duration": 6,
    "start_time": "2022-01-13T10:09:58.348Z"
   },
   {
    "duration": 13,
    "start_time": "2022-01-13T10:09:58.356Z"
   },
   {
    "duration": 11,
    "start_time": "2022-01-13T10:09:58.372Z"
   },
   {
    "duration": 7,
    "start_time": "2022-01-13T10:09:58.385Z"
   },
   {
    "duration": 5,
    "start_time": "2022-01-13T10:09:58.394Z"
   },
   {
    "duration": 11,
    "start_time": "2022-01-13T10:09:58.401Z"
   },
   {
    "duration": 6,
    "start_time": "2022-01-13T10:09:58.414Z"
   },
   {
    "duration": 6,
    "start_time": "2022-01-13T10:09:58.422Z"
   },
   {
    "duration": 12,
    "start_time": "2022-01-13T10:09:58.430Z"
   },
   {
    "duration": 8,
    "start_time": "2022-01-13T10:09:58.444Z"
   },
   {
    "duration": 8,
    "start_time": "2022-01-13T10:09:58.454Z"
   },
   {
    "duration": 20,
    "start_time": "2022-01-13T10:09:58.465Z"
   },
   {
    "duration": 6,
    "start_time": "2022-01-13T10:09:58.486Z"
   },
   {
    "duration": 13,
    "start_time": "2022-01-13T10:09:58.494Z"
   },
   {
    "duration": 15,
    "start_time": "2022-01-13T10:09:58.509Z"
   },
   {
    "duration": 36,
    "start_time": "2022-01-13T10:09:58.526Z"
   },
   {
    "duration": 29,
    "start_time": "2022-01-13T10:09:58.565Z"
   },
   {
    "duration": 16,
    "start_time": "2022-01-13T10:09:58.595Z"
   },
   {
    "duration": 14,
    "start_time": "2022-01-13T10:09:58.613Z"
   },
   {
    "duration": 8,
    "start_time": "2022-01-13T10:09:58.629Z"
   },
   {
    "duration": 9,
    "start_time": "2022-01-13T10:09:58.639Z"
   },
   {
    "duration": 16,
    "start_time": "2022-01-13T10:09:58.650Z"
   },
   {
    "duration": 13,
    "start_time": "2022-01-13T10:09:58.669Z"
   },
   {
    "duration": 20,
    "start_time": "2022-01-13T10:09:58.684Z"
   },
   {
    "duration": 20,
    "start_time": "2022-01-13T10:09:58.705Z"
   },
   {
    "duration": 11,
    "start_time": "2022-01-13T10:09:58.727Z"
   },
   {
    "duration": 13,
    "start_time": "2022-01-13T10:09:58.740Z"
   },
   {
    "duration": 430,
    "start_time": "2022-01-13T10:10:34.169Z"
   },
   {
    "duration": 82,
    "start_time": "2022-01-13T10:11:24.105Z"
   },
   {
    "duration": 677,
    "start_time": "2022-01-13T10:11:28.552Z"
   },
   {
    "duration": 88,
    "start_time": "2022-01-13T10:14:23.989Z"
   },
   {
    "duration": 83,
    "start_time": "2022-01-13T10:14:36.382Z"
   },
   {
    "duration": 257,
    "start_time": "2022-01-13T10:14:44.653Z"
   },
   {
    "duration": 18,
    "start_time": "2022-01-13T10:14:52.506Z"
   },
   {
    "duration": 6,
    "start_time": "2022-01-13T10:14:57.007Z"
   },
   {
    "duration": 6,
    "start_time": "2022-01-13T10:15:18.156Z"
   },
   {
    "duration": 7,
    "start_time": "2022-01-13T10:20:48.731Z"
   },
   {
    "duration": 8,
    "start_time": "2022-01-13T10:20:59.260Z"
   },
   {
    "duration": 6772,
    "start_time": "2022-01-13T10:23:21.905Z"
   },
   {
    "duration": -181,
    "start_time": "2022-01-13T10:23:28.864Z"
   },
   {
    "duration": 8,
    "start_time": "2022-01-13T10:23:34.269Z"
   },
   {
    "duration": 686,
    "start_time": "2022-01-13T10:23:45.103Z"
   },
   {
    "duration": 9,
    "start_time": "2022-01-13T10:23:45.791Z"
   },
   {
    "duration": 39,
    "start_time": "2022-01-13T10:23:45.802Z"
   },
   {
    "duration": 37,
    "start_time": "2022-01-13T10:23:45.843Z"
   },
   {
    "duration": 23,
    "start_time": "2022-01-13T10:23:45.882Z"
   },
   {
    "duration": 8,
    "start_time": "2022-01-13T10:23:45.907Z"
   },
   {
    "duration": 24,
    "start_time": "2022-01-13T10:23:45.916Z"
   },
   {
    "duration": 11,
    "start_time": "2022-01-13T10:23:45.944Z"
   },
   {
    "duration": 27,
    "start_time": "2022-01-13T10:23:45.957Z"
   },
   {
    "duration": 13,
    "start_time": "2022-01-13T10:23:45.986Z"
   },
   {
    "duration": 23,
    "start_time": "2022-01-13T10:23:46.000Z"
   },
   {
    "duration": 48,
    "start_time": "2022-01-13T10:23:46.024Z"
   },
   {
    "duration": 18,
    "start_time": "2022-01-13T10:23:46.075Z"
   },
   {
    "duration": 25,
    "start_time": "2022-01-13T10:23:46.095Z"
   },
   {
    "duration": 27,
    "start_time": "2022-01-13T10:23:46.122Z"
   },
   {
    "duration": 7327,
    "start_time": "2022-01-13T10:23:46.151Z"
   },
   {
    "duration": -239,
    "start_time": "2022-01-13T10:23:53.721Z"
   },
   {
    "duration": -241,
    "start_time": "2022-01-13T10:23:53.724Z"
   },
   {
    "duration": -244,
    "start_time": "2022-01-13T10:23:53.728Z"
   },
   {
    "duration": -246,
    "start_time": "2022-01-13T10:23:53.731Z"
   },
   {
    "duration": -247,
    "start_time": "2022-01-13T10:23:53.733Z"
   },
   {
    "duration": -249,
    "start_time": "2022-01-13T10:23:53.736Z"
   },
   {
    "duration": -251,
    "start_time": "2022-01-13T10:23:53.739Z"
   },
   {
    "duration": -254,
    "start_time": "2022-01-13T10:23:53.742Z"
   },
   {
    "duration": -255,
    "start_time": "2022-01-13T10:23:53.744Z"
   },
   {
    "duration": -258,
    "start_time": "2022-01-13T10:23:53.748Z"
   },
   {
    "duration": -259,
    "start_time": "2022-01-13T10:23:53.750Z"
   },
   {
    "duration": -262,
    "start_time": "2022-01-13T10:23:53.753Z"
   },
   {
    "duration": -264,
    "start_time": "2022-01-13T10:23:53.756Z"
   },
   {
    "duration": -265,
    "start_time": "2022-01-13T10:23:53.758Z"
   },
   {
    "duration": -268,
    "start_time": "2022-01-13T10:23:53.762Z"
   },
   {
    "duration": -290,
    "start_time": "2022-01-13T10:23:53.785Z"
   },
   {
    "duration": -291,
    "start_time": "2022-01-13T10:23:53.787Z"
   },
   {
    "duration": -293,
    "start_time": "2022-01-13T10:23:53.790Z"
   },
   {
    "duration": -295,
    "start_time": "2022-01-13T10:23:53.792Z"
   },
   {
    "duration": -297,
    "start_time": "2022-01-13T10:23:53.795Z"
   },
   {
    "duration": -299,
    "start_time": "2022-01-13T10:23:53.798Z"
   },
   {
    "duration": -300,
    "start_time": "2022-01-13T10:23:53.800Z"
   },
   {
    "duration": -302,
    "start_time": "2022-01-13T10:23:53.803Z"
   },
   {
    "duration": -304,
    "start_time": "2022-01-13T10:23:53.806Z"
   },
   {
    "duration": -305,
    "start_time": "2022-01-13T10:23:53.808Z"
   },
   {
    "duration": -307,
    "start_time": "2022-01-13T10:23:53.811Z"
   },
   {
    "duration": -310,
    "start_time": "2022-01-13T10:23:53.814Z"
   },
   {
    "duration": -311,
    "start_time": "2022-01-13T10:23:53.816Z"
   },
   {
    "duration": -313,
    "start_time": "2022-01-13T10:23:53.819Z"
   },
   {
    "duration": -314,
    "start_time": "2022-01-13T10:23:53.821Z"
   },
   {
    "duration": -316,
    "start_time": "2022-01-13T10:23:53.824Z"
   },
   {
    "duration": -317,
    "start_time": "2022-01-13T10:23:53.826Z"
   },
   {
    "duration": -319,
    "start_time": "2022-01-13T10:23:53.829Z"
   },
   {
    "duration": -318,
    "start_time": "2022-01-13T10:23:53.831Z"
   },
   {
    "duration": -319,
    "start_time": "2022-01-13T10:23:53.833Z"
   },
   {
    "duration": -321,
    "start_time": "2022-01-13T10:23:53.836Z"
   },
   {
    "duration": -322,
    "start_time": "2022-01-13T10:23:53.838Z"
   },
   {
    "duration": -323,
    "start_time": "2022-01-13T10:23:53.840Z"
   },
   {
    "duration": -324,
    "start_time": "2022-01-13T10:23:53.842Z"
   },
   {
    "duration": -326,
    "start_time": "2022-01-13T10:23:53.845Z"
   },
   {
    "duration": -327,
    "start_time": "2022-01-13T10:23:53.847Z"
   },
   {
    "duration": -329,
    "start_time": "2022-01-13T10:23:53.849Z"
   },
   {
    "duration": -330,
    "start_time": "2022-01-13T10:23:53.851Z"
   },
   {
    "duration": -332,
    "start_time": "2022-01-13T10:23:53.854Z"
   },
   {
    "duration": -399,
    "start_time": "2022-01-13T10:23:53.921Z"
   },
   {
    "duration": -401,
    "start_time": "2022-01-13T10:23:53.924Z"
   },
   {
    "duration": -365,
    "start_time": "2022-01-13T10:23:53.926Z"
   },
   {
    "duration": -367,
    "start_time": "2022-01-13T10:23:53.929Z"
   },
   {
    "duration": -368,
    "start_time": "2022-01-13T10:23:53.931Z"
   },
   {
    "duration": -368,
    "start_time": "2022-01-13T10:23:53.933Z"
   },
   {
    "duration": -369,
    "start_time": "2022-01-13T10:23:53.935Z"
   },
   {
    "duration": -370,
    "start_time": "2022-01-13T10:23:53.937Z"
   },
   {
    "duration": -369,
    "start_time": "2022-01-13T10:23:53.940Z"
   },
   {
    "duration": -370,
    "start_time": "2022-01-13T10:23:53.942Z"
   },
   {
    "duration": -371,
    "start_time": "2022-01-13T10:23:53.944Z"
   },
   {
    "duration": 301,
    "start_time": "2022-01-13T10:24:12.397Z"
   },
   {
    "duration": 10,
    "start_time": "2022-01-13T10:24:29.511Z"
   },
   {
    "duration": 5,
    "start_time": "2022-01-13T10:24:31.222Z"
   },
   {
    "duration": 329,
    "start_time": "2022-01-13T10:26:05.445Z"
   },
   {
    "duration": 325,
    "start_time": "2022-01-13T10:26:28.665Z"
   },
   {
    "duration": 12,
    "start_time": "2022-01-13T10:26:36.202Z"
   },
   {
    "duration": 15,
    "start_time": "2022-01-13T10:26:50.908Z"
   },
   {
    "duration": 6,
    "start_time": "2022-01-13T10:26:51.685Z"
   },
   {
    "duration": 16,
    "start_time": "2022-01-13T10:27:56.849Z"
   },
   {
    "duration": 18,
    "start_time": "2022-01-13T10:28:03.340Z"
   },
   {
    "duration": 16,
    "start_time": "2022-01-13T10:28:56.932Z"
   },
   {
    "duration": 133,
    "start_time": "2022-01-13T10:29:36.722Z"
   },
   {
    "duration": 17,
    "start_time": "2022-01-13T10:29:47.824Z"
   },
   {
    "duration": 7,
    "start_time": "2022-01-13T10:35:13.105Z"
   },
   {
    "duration": 97,
    "start_time": "2022-01-13T10:35:41.370Z"
   },
   {
    "duration": 390,
    "start_time": "2022-01-13T10:35:45.600Z"
   },
   {
    "duration": 94,
    "start_time": "2022-01-13T10:35:49.581Z"
   },
   {
    "duration": 14,
    "start_time": "2022-01-13T10:35:53.026Z"
   },
   {
    "duration": 9,
    "start_time": "2022-01-13T10:35:59.886Z"
   },
   {
    "duration": 8,
    "start_time": "2022-01-13T10:36:03.118Z"
   },
   {
    "duration": 95,
    "start_time": "2022-01-13T10:36:47.186Z"
   },
   {
    "duration": 6,
    "start_time": "2022-01-13T10:36:50.324Z"
   },
   {
    "duration": 8,
    "start_time": "2022-01-13T10:36:59.249Z"
   },
   {
    "duration": 153,
    "start_time": "2022-01-13T10:37:07.305Z"
   },
   {
    "duration": 8,
    "start_time": "2022-01-13T10:37:12.681Z"
   },
   {
    "duration": 17,
    "start_time": "2022-01-13T10:38:32.654Z"
   },
   {
    "duration": 382,
    "start_time": "2022-01-13T10:39:21.219Z"
   },
   {
    "duration": 696,
    "start_time": "2022-01-13T10:39:46.999Z"
   },
   {
    "duration": 106,
    "start_time": "2022-01-13T10:40:08.305Z"
   },
   {
    "duration": 22,
    "start_time": "2022-01-13T10:40:12.033Z"
   },
   {
    "duration": 267,
    "start_time": "2022-01-13T10:42:24.276Z"
   },
   {
    "duration": 22,
    "start_time": "2022-01-13T10:44:17.334Z"
   },
   {
    "duration": 14,
    "start_time": "2022-01-13T10:44:24.722Z"
   },
   {
    "duration": 14,
    "start_time": "2022-01-13T10:44:43.676Z"
   },
   {
    "duration": 261,
    "start_time": "2022-01-13T10:45:04.245Z"
   },
   {
    "duration": 22,
    "start_time": "2022-01-13T10:45:14.954Z"
   },
   {
    "duration": 93,
    "start_time": "2022-01-13T11:07:09.358Z"
   },
   {
    "duration": 86,
    "start_time": "2022-01-13T11:07:20.901Z"
   },
   {
    "duration": 86,
    "start_time": "2022-01-13T11:07:34.359Z"
   },
   {
    "duration": 298,
    "start_time": "2022-01-13T11:07:36.830Z"
   },
   {
    "duration": 753,
    "start_time": "2022-01-13T11:07:54.419Z"
   },
   {
    "duration": 10,
    "start_time": "2022-01-13T11:07:55.176Z"
   },
   {
    "duration": 14,
    "start_time": "2022-01-13T11:07:55.188Z"
   },
   {
    "duration": 13,
    "start_time": "2022-01-13T11:07:55.204Z"
   },
   {
    "duration": 14,
    "start_time": "2022-01-13T11:07:55.219Z"
   },
   {
    "duration": 14,
    "start_time": "2022-01-13T11:07:55.261Z"
   },
   {
    "duration": 12,
    "start_time": "2022-01-13T11:07:55.277Z"
   },
   {
    "duration": 6,
    "start_time": "2022-01-13T11:07:55.293Z"
   },
   {
    "duration": 6,
    "start_time": "2022-01-13T11:07:55.302Z"
   },
   {
    "duration": 11,
    "start_time": "2022-01-13T11:07:55.310Z"
   },
   {
    "duration": 4,
    "start_time": "2022-01-13T11:07:55.323Z"
   },
   {
    "duration": 20,
    "start_time": "2022-01-13T11:07:55.329Z"
   },
   {
    "duration": 17,
    "start_time": "2022-01-13T11:07:55.361Z"
   },
   {
    "duration": 29,
    "start_time": "2022-01-13T11:07:55.381Z"
   },
   {
    "duration": 12,
    "start_time": "2022-01-13T11:07:55.412Z"
   },
   {
    "duration": 356,
    "start_time": "2022-01-13T11:07:55.426Z"
   },
   {
    "duration": -251,
    "start_time": "2022-01-13T11:07:56.039Z"
   },
   {
    "duration": -253,
    "start_time": "2022-01-13T11:07:56.043Z"
   },
   {
    "duration": -254,
    "start_time": "2022-01-13T11:07:56.046Z"
   },
   {
    "duration": -257,
    "start_time": "2022-01-13T11:07:56.050Z"
   },
   {
    "duration": -270,
    "start_time": "2022-01-13T11:07:56.064Z"
   },
   {
    "duration": -273,
    "start_time": "2022-01-13T11:07:56.068Z"
   },
   {
    "duration": -275,
    "start_time": "2022-01-13T11:07:56.071Z"
   },
   {
    "duration": -276,
    "start_time": "2022-01-13T11:07:56.073Z"
   },
   {
    "duration": -279,
    "start_time": "2022-01-13T11:07:56.077Z"
   },
   {
    "duration": -280,
    "start_time": "2022-01-13T11:07:56.080Z"
   },
   {
    "duration": -282,
    "start_time": "2022-01-13T11:07:56.083Z"
   },
   {
    "duration": -288,
    "start_time": "2022-01-13T11:07:56.089Z"
   },
   {
    "duration": -289,
    "start_time": "2022-01-13T11:07:56.092Z"
   },
   {
    "duration": -291,
    "start_time": "2022-01-13T11:07:56.095Z"
   },
   {
    "duration": -293,
    "start_time": "2022-01-13T11:07:56.098Z"
   },
   {
    "duration": -297,
    "start_time": "2022-01-13T11:07:56.103Z"
   },
   {
    "duration": -298,
    "start_time": "2022-01-13T11:07:56.105Z"
   },
   {
    "duration": -300,
    "start_time": "2022-01-13T11:07:56.108Z"
   },
   {
    "duration": -301,
    "start_time": "2022-01-13T11:07:56.110Z"
   },
   {
    "duration": -302,
    "start_time": "2022-01-13T11:07:56.112Z"
   },
   {
    "duration": -304,
    "start_time": "2022-01-13T11:07:56.115Z"
   },
   {
    "duration": -306,
    "start_time": "2022-01-13T11:07:56.118Z"
   },
   {
    "duration": -308,
    "start_time": "2022-01-13T11:07:56.121Z"
   },
   {
    "duration": -310,
    "start_time": "2022-01-13T11:07:56.124Z"
   },
   {
    "duration": -312,
    "start_time": "2022-01-13T11:07:56.127Z"
   },
   {
    "duration": -314,
    "start_time": "2022-01-13T11:07:56.130Z"
   },
   {
    "duration": -316,
    "start_time": "2022-01-13T11:07:56.133Z"
   },
   {
    "duration": -318,
    "start_time": "2022-01-13T11:07:56.136Z"
   },
   {
    "duration": -320,
    "start_time": "2022-01-13T11:07:56.139Z"
   },
   {
    "duration": -323,
    "start_time": "2022-01-13T11:07:56.143Z"
   },
   {
    "duration": -324,
    "start_time": "2022-01-13T11:07:56.145Z"
   },
   {
    "duration": -326,
    "start_time": "2022-01-13T11:07:56.148Z"
   },
   {
    "duration": -328,
    "start_time": "2022-01-13T11:07:56.151Z"
   },
   {
    "duration": -329,
    "start_time": "2022-01-13T11:07:56.153Z"
   },
   {
    "duration": -331,
    "start_time": "2022-01-13T11:07:56.156Z"
   },
   {
    "duration": -334,
    "start_time": "2022-01-13T11:07:56.160Z"
   },
   {
    "duration": -335,
    "start_time": "2022-01-13T11:07:56.162Z"
   },
   {
    "duration": -305,
    "start_time": "2022-01-13T11:07:56.165Z"
   },
   {
    "duration": -307,
    "start_time": "2022-01-13T11:07:56.168Z"
   },
   {
    "duration": -309,
    "start_time": "2022-01-13T11:07:56.171Z"
   },
   {
    "duration": -311,
    "start_time": "2022-01-13T11:07:56.175Z"
   },
   {
    "duration": -311,
    "start_time": "2022-01-13T11:07:56.178Z"
   },
   {
    "duration": -329,
    "start_time": "2022-01-13T11:07:56.199Z"
   },
   {
    "duration": -331,
    "start_time": "2022-01-13T11:07:56.202Z"
   },
   {
    "duration": -333,
    "start_time": "2022-01-13T11:07:56.205Z"
   },
   {
    "duration": -336,
    "start_time": "2022-01-13T11:07:56.209Z"
   },
   {
    "duration": -338,
    "start_time": "2022-01-13T11:07:56.212Z"
   },
   {
    "duration": -351,
    "start_time": "2022-01-13T11:07:56.227Z"
   },
   {
    "duration": -353,
    "start_time": "2022-01-13T11:07:56.230Z"
   },
   {
    "duration": -364,
    "start_time": "2022-01-13T11:07:56.242Z"
   },
   {
    "duration": -366,
    "start_time": "2022-01-13T11:07:56.245Z"
   },
   {
    "duration": -367,
    "start_time": "2022-01-13T11:07:56.247Z"
   },
   {
    "duration": -369,
    "start_time": "2022-01-13T11:07:56.250Z"
   },
   {
    "duration": -370,
    "start_time": "2022-01-13T11:07:56.253Z"
   },
   {
    "duration": -371,
    "start_time": "2022-01-13T11:07:56.256Z"
   },
   {
    "duration": 6,
    "start_time": "2022-01-13T11:15:06.703Z"
   },
   {
    "duration": 15,
    "start_time": "2022-01-13T11:15:35.753Z"
   },
   {
    "duration": 6,
    "start_time": "2022-01-13T11:16:40.389Z"
   },
   {
    "duration": 302,
    "start_time": "2022-01-13T11:26:10.208Z"
   },
   {
    "duration": 102,
    "start_time": "2022-01-13T11:26:35.892Z"
   },
   {
    "duration": 9,
    "start_time": "2022-01-13T11:29:29.299Z"
   },
   {
    "duration": 8,
    "start_time": "2022-01-13T11:29:40.439Z"
   },
   {
    "duration": 97,
    "start_time": "2022-01-13T11:29:53.922Z"
   },
   {
    "duration": 294,
    "start_time": "2022-01-13T11:29:56.810Z"
   },
   {
    "duration": 6,
    "start_time": "2022-01-13T11:30:15.785Z"
   },
   {
    "duration": 7,
    "start_time": "2022-01-13T11:31:09.250Z"
   },
   {
    "duration": 11,
    "start_time": "2022-01-13T11:31:48.744Z"
   },
   {
    "duration": 319,
    "start_time": "2022-01-13T11:35:14.277Z"
   },
   {
    "duration": 286,
    "start_time": "2022-01-13T11:35:49.633Z"
   },
   {
    "duration": 330,
    "start_time": "2022-01-13T11:36:07.058Z"
   },
   {
    "duration": 14,
    "start_time": "2022-01-13T11:36:15.715Z"
   },
   {
    "duration": 8,
    "start_time": "2022-01-13T11:36:20.031Z"
   },
   {
    "duration": 706,
    "start_time": "2022-01-13T11:36:49.236Z"
   },
   {
    "duration": 9,
    "start_time": "2022-01-13T11:36:49.944Z"
   },
   {
    "duration": 23,
    "start_time": "2022-01-13T11:36:49.955Z"
   },
   {
    "duration": 19,
    "start_time": "2022-01-13T11:36:49.980Z"
   },
   {
    "duration": 17,
    "start_time": "2022-01-13T11:36:50.001Z"
   },
   {
    "duration": 8,
    "start_time": "2022-01-13T11:36:50.021Z"
   },
   {
    "duration": 10,
    "start_time": "2022-01-13T11:36:50.031Z"
   },
   {
    "duration": 4,
    "start_time": "2022-01-13T11:36:50.064Z"
   },
   {
    "duration": 15,
    "start_time": "2022-01-13T11:36:50.070Z"
   },
   {
    "duration": 9,
    "start_time": "2022-01-13T11:36:50.088Z"
   },
   {
    "duration": 6,
    "start_time": "2022-01-13T11:36:50.099Z"
   },
   {
    "duration": 10,
    "start_time": "2022-01-13T11:36:50.107Z"
   },
   {
    "duration": 17,
    "start_time": "2022-01-13T11:36:50.119Z"
   },
   {
    "duration": 13,
    "start_time": "2022-01-13T11:36:50.138Z"
   },
   {
    "duration": 11,
    "start_time": "2022-01-13T11:36:50.161Z"
   },
   {
    "duration": 18,
    "start_time": "2022-01-13T11:36:50.176Z"
   },
   {
    "duration": 6,
    "start_time": "2022-01-13T11:36:50.196Z"
   },
   {
    "duration": 332,
    "start_time": "2022-01-13T11:36:50.204Z"
   },
   {
    "duration": -172,
    "start_time": "2022-01-13T11:36:50.712Z"
   },
   {
    "duration": -175,
    "start_time": "2022-01-13T11:36:50.716Z"
   },
   {
    "duration": -178,
    "start_time": "2022-01-13T11:36:50.720Z"
   },
   {
    "duration": -180,
    "start_time": "2022-01-13T11:36:50.722Z"
   },
   {
    "duration": -183,
    "start_time": "2022-01-13T11:36:50.726Z"
   },
   {
    "duration": -185,
    "start_time": "2022-01-13T11:36:50.729Z"
   },
   {
    "duration": -189,
    "start_time": "2022-01-13T11:36:50.734Z"
   },
   {
    "duration": -190,
    "start_time": "2022-01-13T11:36:50.736Z"
   },
   {
    "duration": -191,
    "start_time": "2022-01-13T11:36:50.739Z"
   },
   {
    "duration": -195,
    "start_time": "2022-01-13T11:36:50.743Z"
   },
   {
    "duration": -198,
    "start_time": "2022-01-13T11:36:50.747Z"
   },
   {
    "duration": -201,
    "start_time": "2022-01-13T11:36:50.751Z"
   },
   {
    "duration": -203,
    "start_time": "2022-01-13T11:36:50.754Z"
   },
   {
    "duration": -206,
    "start_time": "2022-01-13T11:36:50.758Z"
   },
   {
    "duration": -209,
    "start_time": "2022-01-13T11:36:50.762Z"
   },
   {
    "duration": -212,
    "start_time": "2022-01-13T11:36:50.766Z"
   },
   {
    "duration": -215,
    "start_time": "2022-01-13T11:36:50.770Z"
   },
   {
    "duration": -217,
    "start_time": "2022-01-13T11:36:50.773Z"
   },
   {
    "duration": -220,
    "start_time": "2022-01-13T11:36:50.777Z"
   },
   {
    "duration": -222,
    "start_time": "2022-01-13T11:36:50.780Z"
   },
   {
    "duration": -225,
    "start_time": "2022-01-13T11:36:50.784Z"
   },
   {
    "duration": -226,
    "start_time": "2022-01-13T11:36:50.787Z"
   },
   {
    "duration": -228,
    "start_time": "2022-01-13T11:36:50.790Z"
   },
   {
    "duration": -229,
    "start_time": "2022-01-13T11:36:50.793Z"
   },
   {
    "duration": -231,
    "start_time": "2022-01-13T11:36:50.796Z"
   },
   {
    "duration": -234,
    "start_time": "2022-01-13T11:36:50.800Z"
   },
   {
    "duration": -236,
    "start_time": "2022-01-13T11:36:50.803Z"
   },
   {
    "duration": -251,
    "start_time": "2022-01-13T11:36:50.820Z"
   },
   {
    "duration": -254,
    "start_time": "2022-01-13T11:36:50.824Z"
   },
   {
    "duration": -257,
    "start_time": "2022-01-13T11:36:50.828Z"
   },
   {
    "duration": -261,
    "start_time": "2022-01-13T11:36:50.833Z"
   },
   {
    "duration": -275,
    "start_time": "2022-01-13T11:36:50.848Z"
   },
   {
    "duration": -279,
    "start_time": "2022-01-13T11:36:50.853Z"
   },
   {
    "duration": -281,
    "start_time": "2022-01-13T11:36:50.856Z"
   },
   {
    "duration": -285,
    "start_time": "2022-01-13T11:36:50.860Z"
   },
   {
    "duration": -287,
    "start_time": "2022-01-13T11:36:50.863Z"
   },
   {
    "duration": -294,
    "start_time": "2022-01-13T11:36:50.870Z"
   },
   {
    "duration": -297,
    "start_time": "2022-01-13T11:36:50.874Z"
   },
   {
    "duration": -299,
    "start_time": "2022-01-13T11:36:50.877Z"
   },
   {
    "duration": -301,
    "start_time": "2022-01-13T11:36:50.879Z"
   },
   {
    "duration": -305,
    "start_time": "2022-01-13T11:36:50.884Z"
   },
   {
    "duration": -308,
    "start_time": "2022-01-13T11:36:50.887Z"
   },
   {
    "duration": -308,
    "start_time": "2022-01-13T11:36:50.891Z"
   },
   {
    "duration": -310,
    "start_time": "2022-01-13T11:36:50.894Z"
   },
   {
    "duration": -312,
    "start_time": "2022-01-13T11:36:50.898Z"
   },
   {
    "duration": -315,
    "start_time": "2022-01-13T11:36:50.902Z"
   },
   {
    "duration": -317,
    "start_time": "2022-01-13T11:36:50.905Z"
   },
   {
    "duration": -320,
    "start_time": "2022-01-13T11:36:50.909Z"
   },
   {
    "duration": -322,
    "start_time": "2022-01-13T11:36:50.913Z"
   },
   {
    "duration": -325,
    "start_time": "2022-01-13T11:36:50.917Z"
   },
   {
    "duration": -327,
    "start_time": "2022-01-13T11:36:50.920Z"
   },
   {
    "duration": -329,
    "start_time": "2022-01-13T11:36:50.923Z"
   },
   {
    "duration": -331,
    "start_time": "2022-01-13T11:36:50.926Z"
   },
   {
    "duration": 717,
    "start_time": "2022-01-13T11:40:38.276Z"
   },
   {
    "duration": 8,
    "start_time": "2022-01-13T11:40:38.997Z"
   },
   {
    "duration": 19,
    "start_time": "2022-01-13T11:40:39.008Z"
   },
   {
    "duration": 15,
    "start_time": "2022-01-13T11:40:39.029Z"
   },
   {
    "duration": 24,
    "start_time": "2022-01-13T11:40:39.046Z"
   },
   {
    "duration": 28,
    "start_time": "2022-01-13T11:40:39.072Z"
   },
   {
    "duration": 7,
    "start_time": "2022-01-13T11:40:39.102Z"
   },
   {
    "duration": 6,
    "start_time": "2022-01-13T11:40:39.111Z"
   },
   {
    "duration": 5,
    "start_time": "2022-01-13T11:40:39.119Z"
   },
   {
    "duration": 5,
    "start_time": "2022-01-13T11:40:39.126Z"
   },
   {
    "duration": 6,
    "start_time": "2022-01-13T11:40:39.133Z"
   },
   {
    "duration": 12,
    "start_time": "2022-01-13T11:40:39.141Z"
   },
   {
    "duration": 21,
    "start_time": "2022-01-13T11:40:39.155Z"
   },
   {
    "duration": 19,
    "start_time": "2022-01-13T11:40:39.179Z"
   },
   {
    "duration": 7,
    "start_time": "2022-01-13T11:40:39.200Z"
   },
   {
    "duration": 8,
    "start_time": "2022-01-13T11:40:39.209Z"
   },
   {
    "duration": 7,
    "start_time": "2022-01-13T11:40:39.219Z"
   },
   {
    "duration": 369,
    "start_time": "2022-01-13T11:40:39.228Z"
   },
   {
    "duration": -157,
    "start_time": "2022-01-13T11:40:39.758Z"
   },
   {
    "duration": -159,
    "start_time": "2022-01-13T11:40:39.761Z"
   },
   {
    "duration": -161,
    "start_time": "2022-01-13T11:40:39.764Z"
   },
   {
    "duration": -164,
    "start_time": "2022-01-13T11:40:39.768Z"
   },
   {
    "duration": -166,
    "start_time": "2022-01-13T11:40:39.770Z"
   },
   {
    "duration": -168,
    "start_time": "2022-01-13T11:40:39.773Z"
   },
   {
    "duration": -171,
    "start_time": "2022-01-13T11:40:39.777Z"
   },
   {
    "duration": -175,
    "start_time": "2022-01-13T11:40:39.782Z"
   },
   {
    "duration": -178,
    "start_time": "2022-01-13T11:40:39.786Z"
   },
   {
    "duration": -180,
    "start_time": "2022-01-13T11:40:39.789Z"
   },
   {
    "duration": -182,
    "start_time": "2022-01-13T11:40:39.792Z"
   },
   {
    "duration": -185,
    "start_time": "2022-01-13T11:40:39.795Z"
   },
   {
    "duration": -189,
    "start_time": "2022-01-13T11:40:39.800Z"
   },
   {
    "duration": -191,
    "start_time": "2022-01-13T11:40:39.803Z"
   },
   {
    "duration": -196,
    "start_time": "2022-01-13T11:40:39.810Z"
   },
   {
    "duration": -198,
    "start_time": "2022-01-13T11:40:39.813Z"
   },
   {
    "duration": -200,
    "start_time": "2022-01-13T11:40:39.816Z"
   },
   {
    "duration": -203,
    "start_time": "2022-01-13T11:40:39.820Z"
   },
   {
    "duration": -207,
    "start_time": "2022-01-13T11:40:39.824Z"
   },
   {
    "duration": -209,
    "start_time": "2022-01-13T11:40:39.827Z"
   },
   {
    "duration": -210,
    "start_time": "2022-01-13T11:40:39.829Z"
   },
   {
    "duration": -213,
    "start_time": "2022-01-13T11:40:39.833Z"
   },
   {
    "duration": -215,
    "start_time": "2022-01-13T11:40:39.836Z"
   },
   {
    "duration": -217,
    "start_time": "2022-01-13T11:40:39.839Z"
   },
   {
    "duration": -221,
    "start_time": "2022-01-13T11:40:39.843Z"
   },
   {
    "duration": -222,
    "start_time": "2022-01-13T11:40:39.845Z"
   },
   {
    "duration": -225,
    "start_time": "2022-01-13T11:40:39.849Z"
   },
   {
    "duration": -227,
    "start_time": "2022-01-13T11:40:39.852Z"
   },
   {
    "duration": -229,
    "start_time": "2022-01-13T11:40:39.855Z"
   },
   {
    "duration": -232,
    "start_time": "2022-01-13T11:40:39.859Z"
   },
   {
    "duration": -234,
    "start_time": "2022-01-13T11:40:39.862Z"
   },
   {
    "duration": -236,
    "start_time": "2022-01-13T11:40:39.865Z"
   },
   {
    "duration": -239,
    "start_time": "2022-01-13T11:40:39.869Z"
   },
   {
    "duration": -241,
    "start_time": "2022-01-13T11:40:39.871Z"
   },
   {
    "duration": -244,
    "start_time": "2022-01-13T11:40:39.875Z"
   },
   {
    "duration": -246,
    "start_time": "2022-01-13T11:40:39.878Z"
   },
   {
    "duration": -248,
    "start_time": "2022-01-13T11:40:39.881Z"
   },
   {
    "duration": -250,
    "start_time": "2022-01-13T11:40:39.884Z"
   },
   {
    "duration": -251,
    "start_time": "2022-01-13T11:40:39.887Z"
   },
   {
    "duration": -252,
    "start_time": "2022-01-13T11:40:39.890Z"
   },
   {
    "duration": -255,
    "start_time": "2022-01-13T11:40:39.893Z"
   },
   {
    "duration": -340,
    "start_time": "2022-01-13T11:40:39.979Z"
   },
   {
    "duration": -327,
    "start_time": "2022-01-13T11:40:39.993Z"
   },
   {
    "duration": -328,
    "start_time": "2022-01-13T11:40:39.996Z"
   },
   {
    "duration": -331,
    "start_time": "2022-01-13T11:40:40.000Z"
   },
   {
    "duration": -333,
    "start_time": "2022-01-13T11:40:40.003Z"
   },
   {
    "duration": -335,
    "start_time": "2022-01-13T11:40:40.006Z"
   },
   {
    "duration": -338,
    "start_time": "2022-01-13T11:40:40.010Z"
   },
   {
    "duration": -338,
    "start_time": "2022-01-13T11:40:40.013Z"
   },
   {
    "duration": -336,
    "start_time": "2022-01-13T11:40:40.016Z"
   },
   {
    "duration": -341,
    "start_time": "2022-01-13T11:40:40.023Z"
   },
   {
    "duration": -343,
    "start_time": "2022-01-13T11:40:40.026Z"
   },
   {
    "duration": -345,
    "start_time": "2022-01-13T11:40:40.029Z"
   },
   {
    "duration": 7,
    "start_time": "2022-01-13T11:43:31.156Z"
   },
   {
    "duration": 12,
    "start_time": "2022-01-13T11:46:30.777Z"
   },
   {
    "duration": 7,
    "start_time": "2022-01-13T11:48:07.809Z"
   },
   {
    "duration": 23,
    "start_time": "2022-01-13T11:53:21.125Z"
   },
   {
    "duration": 18,
    "start_time": "2022-01-13T11:53:40.524Z"
   },
   {
    "duration": 17,
    "start_time": "2022-01-13T11:53:49.403Z"
   },
   {
    "duration": 104,
    "start_time": "2022-01-13T12:18:43.614Z"
   },
   {
    "duration": 123,
    "start_time": "2022-01-13T12:19:54.103Z"
   },
   {
    "duration": 85,
    "start_time": "2022-01-13T12:19:57.585Z"
   },
   {
    "duration": 112,
    "start_time": "2022-01-13T12:20:01.945Z"
   },
   {
    "duration": 14,
    "start_time": "2022-01-13T12:20:15.977Z"
   },
   {
    "duration": 23,
    "start_time": "2022-01-13T12:20:54.581Z"
   },
   {
    "duration": 20,
    "start_time": "2022-01-13T12:21:08.327Z"
   },
   {
    "duration": 23,
    "start_time": "2022-01-13T12:23:27.821Z"
   },
   {
    "duration": 11,
    "start_time": "2022-01-13T12:23:53.199Z"
   },
   {
    "duration": 10,
    "start_time": "2022-01-13T12:24:04.825Z"
   },
   {
    "duration": 29,
    "start_time": "2022-01-13T12:24:15.052Z"
   },
   {
    "duration": 23,
    "start_time": "2022-01-13T12:24:23.604Z"
   },
   {
    "duration": 387,
    "start_time": "2022-01-13T12:32:08.338Z"
   },
   {
    "duration": 9,
    "start_time": "2022-01-13T12:32:16.214Z"
   },
   {
    "duration": 276,
    "start_time": "2022-01-13T12:32:59.448Z"
   },
   {
    "duration": 8,
    "start_time": "2022-01-13T12:33:59.597Z"
   },
   {
    "duration": 8,
    "start_time": "2022-01-13T12:34:14.886Z"
   },
   {
    "duration": 8,
    "start_time": "2022-01-13T12:35:50.922Z"
   },
   {
    "duration": 9,
    "start_time": "2022-01-13T12:37:34.970Z"
   },
   {
    "duration": 10,
    "start_time": "2022-01-13T12:37:40.280Z"
   },
   {
    "duration": 9,
    "start_time": "2022-01-13T12:43:06.281Z"
   },
   {
    "duration": 9,
    "start_time": "2022-01-13T12:43:47.006Z"
   },
   {
    "duration": 7,
    "start_time": "2022-01-13T12:44:21.727Z"
   },
   {
    "duration": 8,
    "start_time": "2022-01-13T12:44:23.446Z"
   },
   {
    "duration": 8,
    "start_time": "2022-01-13T12:45:02.078Z"
   },
   {
    "duration": 8,
    "start_time": "2022-01-13T12:45:05.807Z"
   },
   {
    "duration": 9,
    "start_time": "2022-01-13T12:45:35.556Z"
   },
   {
    "duration": 8,
    "start_time": "2022-01-13T12:45:36.678Z"
   },
   {
    "duration": 9,
    "start_time": "2022-01-13T12:46:15.009Z"
   },
   {
    "duration": 6,
    "start_time": "2022-01-13T12:46:15.395Z"
   },
   {
    "duration": 9,
    "start_time": "2022-01-13T12:49:24.009Z"
   },
   {
    "duration": 9,
    "start_time": "2022-01-13T12:49:25.325Z"
   },
   {
    "duration": 227,
    "start_time": "2022-01-13T21:37:24.365Z"
   },
   {
    "duration": 535,
    "start_time": "2022-01-13T21:37:45.947Z"
   },
   {
    "duration": 8,
    "start_time": "2022-01-13T21:37:47.141Z"
   },
   {
    "duration": 9,
    "start_time": "2022-01-13T21:37:53.457Z"
   },
   {
    "duration": 16,
    "start_time": "2022-01-13T21:38:07.229Z"
   },
   {
    "duration": 217,
    "start_time": "2022-01-14T10:12:37.686Z"
   },
   {
    "duration": 615,
    "start_time": "2022-01-14T10:12:46.797Z"
   },
   {
    "duration": 9,
    "start_time": "2022-01-14T10:12:47.414Z"
   },
   {
    "duration": 19,
    "start_time": "2022-01-14T10:12:47.425Z"
   },
   {
    "duration": 11,
    "start_time": "2022-01-14T10:12:47.447Z"
   },
   {
    "duration": 49,
    "start_time": "2022-01-14T10:12:47.460Z"
   },
   {
    "duration": 22,
    "start_time": "2022-01-14T10:12:47.511Z"
   },
   {
    "duration": 56,
    "start_time": "2022-01-14T10:12:47.535Z"
   },
   {
    "duration": -180,
    "start_time": "2022-01-14T10:12:47.775Z"
   },
   {
    "duration": -202,
    "start_time": "2022-01-14T10:12:47.799Z"
   },
   {
    "duration": -204,
    "start_time": "2022-01-14T10:12:47.802Z"
   },
   {
    "duration": -205,
    "start_time": "2022-01-14T10:12:47.805Z"
   },
   {
    "duration": -206,
    "start_time": "2022-01-14T10:12:47.807Z"
   },
   {
    "duration": -222,
    "start_time": "2022-01-14T10:12:47.824Z"
   },
   {
    "duration": -228,
    "start_time": "2022-01-14T10:12:47.832Z"
   },
   {
    "duration": -317,
    "start_time": "2022-01-14T10:12:47.922Z"
   },
   {
    "duration": -319,
    "start_time": "2022-01-14T10:12:47.926Z"
   },
   {
    "duration": -329,
    "start_time": "2022-01-14T10:12:47.937Z"
   },
   {
    "duration": -329,
    "start_time": "2022-01-14T10:12:47.939Z"
   },
   {
    "duration": -340,
    "start_time": "2022-01-14T10:12:47.951Z"
   },
   {
    "duration": -341,
    "start_time": "2022-01-14T10:12:47.954Z"
   },
   {
    "duration": -343,
    "start_time": "2022-01-14T10:12:47.957Z"
   },
   {
    "duration": -353,
    "start_time": "2022-01-14T10:12:47.968Z"
   },
   {
    "duration": -354,
    "start_time": "2022-01-14T10:12:47.971Z"
   },
   {
    "duration": -357,
    "start_time": "2022-01-14T10:12:47.975Z"
   },
   {
    "duration": -367,
    "start_time": "2022-01-14T10:12:47.987Z"
   },
   {
    "duration": -369,
    "start_time": "2022-01-14T10:12:47.990Z"
   },
   {
    "duration": -373,
    "start_time": "2022-01-14T10:12:47.994Z"
   },
   {
    "duration": -374,
    "start_time": "2022-01-14T10:12:47.997Z"
   },
   {
    "duration": -377,
    "start_time": "2022-01-14T10:12:48.000Z"
   },
   {
    "duration": -379,
    "start_time": "2022-01-14T10:12:48.003Z"
   },
   {
    "duration": -381,
    "start_time": "2022-01-14T10:12:48.006Z"
   },
   {
    "duration": -383,
    "start_time": "2022-01-14T10:12:48.009Z"
   },
   {
    "duration": -393,
    "start_time": "2022-01-14T10:12:48.020Z"
   },
   {
    "duration": -395,
    "start_time": "2022-01-14T10:12:48.023Z"
   },
   {
    "duration": -398,
    "start_time": "2022-01-14T10:12:48.027Z"
   },
   {
    "duration": -407,
    "start_time": "2022-01-14T10:12:48.037Z"
   },
   {
    "duration": -410,
    "start_time": "2022-01-14T10:12:48.041Z"
   },
   {
    "duration": -420,
    "start_time": "2022-01-14T10:12:48.051Z"
   },
   {
    "duration": -422,
    "start_time": "2022-01-14T10:12:48.054Z"
   },
   {
    "duration": -424,
    "start_time": "2022-01-14T10:12:48.057Z"
   },
   {
    "duration": -434,
    "start_time": "2022-01-14T10:12:48.068Z"
   },
   {
    "duration": -381,
    "start_time": "2022-01-14T10:12:48.071Z"
   },
   {
    "duration": -382,
    "start_time": "2022-01-14T10:12:48.074Z"
   },
   {
    "duration": -392,
    "start_time": "2022-01-14T10:12:48.085Z"
   },
   {
    "duration": -394,
    "start_time": "2022-01-14T10:12:48.087Z"
   },
   {
    "duration": -396,
    "start_time": "2022-01-14T10:12:48.090Z"
   },
   {
    "duration": -407,
    "start_time": "2022-01-14T10:12:48.102Z"
   },
   {
    "duration": -408,
    "start_time": "2022-01-14T10:12:48.104Z"
   },
   {
    "duration": -411,
    "start_time": "2022-01-14T10:12:48.108Z"
   },
   {
    "duration": -420,
    "start_time": "2022-01-14T10:12:48.119Z"
   },
   {
    "duration": -422,
    "start_time": "2022-01-14T10:12:48.122Z"
   },
   {
    "duration": -424,
    "start_time": "2022-01-14T10:12:48.125Z"
   },
   {
    "duration": -434,
    "start_time": "2022-01-14T10:12:48.136Z"
   },
   {
    "duration": -435,
    "start_time": "2022-01-14T10:12:48.138Z"
   },
   {
    "duration": -437,
    "start_time": "2022-01-14T10:12:48.141Z"
   },
   {
    "duration": -448,
    "start_time": "2022-01-14T10:12:48.152Z"
   },
   {
    "duration": -450,
    "start_time": "2022-01-14T10:12:48.155Z"
   },
   {
    "duration": -452,
    "start_time": "2022-01-14T10:12:48.158Z"
   },
   {
    "duration": -461,
    "start_time": "2022-01-14T10:12:48.168Z"
   },
   {
    "duration": -463,
    "start_time": "2022-01-14T10:12:48.171Z"
   },
   {
    "duration": -466,
    "start_time": "2022-01-14T10:12:48.175Z"
   },
   {
    "duration": -475,
    "start_time": "2022-01-14T10:12:48.185Z"
   },
   {
    "duration": -477,
    "start_time": "2022-01-14T10:12:48.188Z"
   },
   {
    "duration": -480,
    "start_time": "2022-01-14T10:12:48.192Z"
   },
   {
    "duration": -488,
    "start_time": "2022-01-14T10:12:48.201Z"
   },
   {
    "duration": -490,
    "start_time": "2022-01-14T10:12:48.204Z"
   },
   {
    "duration": -493,
    "start_time": "2022-01-14T10:12:48.208Z"
   },
   {
    "duration": 16,
    "start_time": "2022-01-14T10:13:00.160Z"
   },
   {
    "duration": 15,
    "start_time": "2022-01-14T10:13:04.516Z"
   },
   {
    "duration": 14,
    "start_time": "2022-01-14T10:13:07.548Z"
   },
   {
    "duration": 16,
    "start_time": "2022-01-14T10:13:09.796Z"
   },
   {
    "duration": 14,
    "start_time": "2022-01-14T10:13:15.471Z"
   },
   {
    "duration": 15,
    "start_time": "2022-01-14T10:13:17.497Z"
   },
   {
    "duration": 14,
    "start_time": "2022-01-14T10:13:18.732Z"
   },
   {
    "duration": 14,
    "start_time": "2022-01-14T10:13:19.730Z"
   },
   {
    "duration": 289,
    "start_time": "2022-01-14T10:13:34.651Z"
   },
   {
    "duration": 4,
    "start_time": "2022-01-14T10:13:40.455Z"
   },
   {
    "duration": 8,
    "start_time": "2022-01-14T10:38:21.653Z"
   },
   {
    "duration": 7,
    "start_time": "2022-01-14T10:38:28.759Z"
   },
   {
    "duration": 174,
    "start_time": "2022-01-14T10:43:50.422Z"
   },
   {
    "duration": 175,
    "start_time": "2022-01-14T10:44:05.694Z"
   },
   {
    "duration": 3,
    "start_time": "2022-01-14T10:44:26.404Z"
   },
   {
    "duration": 23,
    "start_time": "2022-01-14T10:44:53.281Z"
   },
   {
    "duration": 182,
    "start_time": "2022-01-14T10:48:24.252Z"
   },
   {
    "duration": 3,
    "start_time": "2022-01-14T10:48:30.770Z"
   },
   {
    "duration": 6,
    "start_time": "2022-01-14T10:48:33.185Z"
   },
   {
    "duration": 108,
    "start_time": "2022-01-14T10:48:58.847Z"
   },
   {
    "duration": 184,
    "start_time": "2022-01-14T11:01:12.816Z"
   },
   {
    "duration": 115,
    "start_time": "2022-01-14T11:01:17.567Z"
   },
   {
    "duration": 205,
    "start_time": "2022-01-14T11:07:36.641Z"
   },
   {
    "duration": 3,
    "start_time": "2022-01-14T11:07:39.950Z"
   },
   {
    "duration": 4,
    "start_time": "2022-01-14T11:07:40.680Z"
   },
   {
    "duration": 8,
    "start_time": "2022-01-14T11:07:48.807Z"
   },
   {
    "duration": 8,
    "start_time": "2022-01-14T11:08:15.718Z"
   },
   {
    "duration": 20,
    "start_time": "2022-01-14T11:10:47.278Z"
   },
   {
    "duration": 26,
    "start_time": "2022-01-14T11:11:00.994Z"
   },
   {
    "duration": 24,
    "start_time": "2022-01-14T11:11:04.240Z"
   },
   {
    "duration": 24,
    "start_time": "2022-01-14T11:11:13.262Z"
   },
   {
    "duration": 7,
    "start_time": "2022-01-14T11:16:15.310Z"
   },
   {
    "duration": 6,
    "start_time": "2022-01-14T11:16:48.755Z"
   },
   {
    "duration": 11,
    "start_time": "2022-01-14T11:16:52.892Z"
   },
   {
    "duration": 8,
    "start_time": "2022-01-14T11:16:54.966Z"
   },
   {
    "duration": 8,
    "start_time": "2022-01-14T11:17:05.188Z"
   },
   {
    "duration": 6,
    "start_time": "2022-01-14T11:17:22.670Z"
   },
   {
    "duration": 6,
    "start_time": "2022-01-14T11:22:37.046Z"
   },
   {
    "duration": 8,
    "start_time": "2022-01-14T11:22:38.414Z"
   },
   {
    "duration": 4934,
    "start_time": "2022-01-14T11:22:42.172Z"
   },
   {
    "duration": 8,
    "start_time": "2022-01-14T11:22:51.918Z"
   },
   {
    "duration": 8,
    "start_time": "2022-01-14T11:23:21.223Z"
   },
   {
    "duration": 9,
    "start_time": "2022-01-14T11:23:32.933Z"
   },
   {
    "duration": 6,
    "start_time": "2022-01-14T11:24:12.684Z"
   },
   {
    "duration": 223,
    "start_time": "2022-01-14T11:26:24.559Z"
   },
   {
    "duration": 13,
    "start_time": "2022-01-14T11:26:41.778Z"
   },
   {
    "duration": 6,
    "start_time": "2022-01-14T11:27:08.309Z"
   },
   {
    "duration": 8,
    "start_time": "2022-01-14T11:29:05.965Z"
   },
   {
    "duration": 186,
    "start_time": "2022-01-14T11:35:59.306Z"
   },
   {
    "duration": 8,
    "start_time": "2022-01-14T11:36:05.088Z"
   },
   {
    "duration": 60,
    "start_time": "2022-01-14T11:46:10.075Z"
   },
   {
    "duration": 62,
    "start_time": "2022-01-14T11:46:28.698Z"
   },
   {
    "duration": 55,
    "start_time": "2022-01-14T11:46:41.135Z"
   },
   {
    "duration": 64,
    "start_time": "2022-01-14T11:46:46.573Z"
   },
   {
    "duration": 305,
    "start_time": "2022-01-14T11:47:32.936Z"
   },
   {
    "duration": 312,
    "start_time": "2022-01-14T11:47:55.244Z"
   },
   {
    "duration": 438,
    "start_time": "2022-01-14T11:49:05.405Z"
   },
   {
    "duration": 43,
    "start_time": "2022-01-14T11:49:38.701Z"
   },
   {
    "duration": 23,
    "start_time": "2022-01-14T11:49:49.948Z"
   },
   {
    "duration": 200,
    "start_time": "2022-01-14T11:51:08.407Z"
   },
   {
    "duration": 9,
    "start_time": "2022-01-14T11:51:20.960Z"
   },
   {
    "duration": 22,
    "start_time": "2022-01-14T12:08:21.172Z"
   },
   {
    "duration": 9,
    "start_time": "2022-01-14T12:08:24.759Z"
   },
   {
    "duration": 11,
    "start_time": "2022-01-14T12:13:00.068Z"
   },
   {
    "duration": 4534,
    "start_time": "2022-01-14T12:22:42.554Z"
   },
   {
    "duration": 7,
    "start_time": "2022-01-14T12:23:05.308Z"
   },
   {
    "duration": 3,
    "start_time": "2022-01-14T12:33:09.922Z"
   },
   {
    "duration": 8,
    "start_time": "2022-01-14T12:33:11.337Z"
   },
   {
    "duration": 13,
    "start_time": "2022-01-14T12:45:52.795Z"
   },
   {
    "duration": 7,
    "start_time": "2022-01-14T12:46:50.645Z"
   },
   {
    "duration": 6,
    "start_time": "2022-01-14T12:46:58.562Z"
   },
   {
    "duration": 6,
    "start_time": "2022-01-14T12:46:59.329Z"
   },
   {
    "duration": 182,
    "start_time": "2022-01-14T12:47:15.534Z"
   },
   {
    "duration": 8,
    "start_time": "2022-01-14T12:47:25.802Z"
   },
   {
    "duration": 6,
    "start_time": "2022-01-14T12:47:28.251Z"
   },
   {
    "duration": 8,
    "start_time": "2022-01-14T12:50:19.600Z"
   },
   {
    "duration": 2,
    "start_time": "2022-01-14T12:53:29.120Z"
   },
   {
    "duration": 8,
    "start_time": "2022-01-14T12:54:20.090Z"
   },
   {
    "duration": 13,
    "start_time": "2022-01-14T12:54:49.901Z"
   },
   {
    "duration": 8,
    "start_time": "2022-01-14T12:55:01.602Z"
   },
   {
    "duration": 8,
    "start_time": "2022-01-14T12:55:05.190Z"
   },
   {
    "duration": 423,
    "start_time": "2022-01-14T13:02:15.429Z"
   },
   {
    "duration": 11,
    "start_time": "2022-01-14T13:02:23.487Z"
   },
   {
    "duration": 10,
    "start_time": "2022-01-14T13:13:23.837Z"
   },
   {
    "duration": 17,
    "start_time": "2022-01-14T13:14:42.266Z"
   },
   {
    "duration": 17,
    "start_time": "2022-01-14T13:19:06.887Z"
   },
   {
    "duration": 17,
    "start_time": "2022-01-14T13:19:19.882Z"
   },
   {
    "duration": 5,
    "start_time": "2022-01-14T13:23:26.565Z"
   },
   {
    "duration": 10,
    "start_time": "2022-01-14T13:26:02.400Z"
   },
   {
    "duration": 8,
    "start_time": "2022-01-14T13:26:06.438Z"
   },
   {
    "duration": 10,
    "start_time": "2022-01-14T13:26:43.370Z"
   },
   {
    "duration": 197,
    "start_time": "2022-01-14T13:26:54.086Z"
   },
   {
    "duration": 8,
    "start_time": "2022-01-14T13:27:15.651Z"
   },
   {
    "duration": 26,
    "start_time": "2022-01-14T13:28:07.143Z"
   },
   {
    "duration": 609,
    "start_time": "2022-01-14T13:40:17.916Z"
   },
   {
    "duration": 8,
    "start_time": "2022-01-14T13:40:18.573Z"
   },
   {
    "duration": 14,
    "start_time": "2022-01-14T13:40:18.789Z"
   },
   {
    "duration": 12,
    "start_time": "2022-01-14T13:40:19.268Z"
   },
   {
    "duration": 25,
    "start_time": "2022-01-14T13:40:20.053Z"
   },
   {
    "duration": 21,
    "start_time": "2022-01-14T13:40:23.792Z"
   },
   {
    "duration": 21,
    "start_time": "2022-01-14T13:47:20.145Z"
   },
   {
    "duration": 983,
    "start_time": "2022-01-15T11:48:01.007Z"
   },
   {
    "duration": 13,
    "start_time": "2022-01-15T11:48:05.560Z"
   },
   {
    "duration": 20,
    "start_time": "2022-01-15T11:48:12.834Z"
   },
   {
    "duration": 7,
    "start_time": "2022-01-15T11:48:55.204Z"
   },
   {
    "duration": 167,
    "start_time": "2022-01-15T11:49:15.736Z"
   },
   {
    "duration": 56,
    "start_time": "2022-01-15T11:49:19.441Z"
   },
   {
    "duration": 537,
    "start_time": "2022-01-15T11:49:29.302Z"
   },
   {
    "duration": 354,
    "start_time": "2022-01-15T11:49:39.523Z"
   },
   {
    "duration": 406,
    "start_time": "2022-01-15T11:49:46.654Z"
   },
   {
    "duration": 1397,
    "start_time": "2022-01-15T11:50:08.084Z"
   },
   {
    "duration": 1477,
    "start_time": "2022-01-15T11:50:16.709Z"
   },
   {
    "duration": 1425,
    "start_time": "2022-01-15T11:50:50.650Z"
   },
   {
    "duration": 1474,
    "start_time": "2022-01-15T11:51:29.800Z"
   },
   {
    "duration": 1674,
    "start_time": "2022-01-15T11:51:41.051Z"
   },
   {
    "duration": 1607,
    "start_time": "2022-01-15T11:52:38.935Z"
   },
   {
    "duration": 41,
    "start_time": "2022-01-15T12:09:27.922Z"
   },
   {
    "duration": 26,
    "start_time": "2022-01-15T12:09:47.417Z"
   },
   {
    "duration": 24,
    "start_time": "2022-01-15T12:10:15.714Z"
   },
   {
    "duration": 27,
    "start_time": "2022-01-15T12:11:22.128Z"
   },
   {
    "duration": 10,
    "start_time": "2022-01-15T12:12:31.931Z"
   },
   {
    "duration": 12,
    "start_time": "2022-01-15T12:13:22.869Z"
   },
   {
    "duration": 10,
    "start_time": "2022-01-15T12:19:35.923Z"
   },
   {
    "duration": 10,
    "start_time": "2022-01-15T12:19:48.177Z"
   },
   {
    "duration": 10,
    "start_time": "2022-01-15T12:19:53.067Z"
   },
   {
    "duration": 10,
    "start_time": "2022-01-15T12:21:00.441Z"
   },
   {
    "duration": 15,
    "start_time": "2022-01-15T12:21:18.365Z"
   },
   {
    "duration": 12,
    "start_time": "2022-01-15T12:21:28.980Z"
   },
   {
    "duration": 11,
    "start_time": "2022-01-15T12:21:47.893Z"
   },
   {
    "duration": 10,
    "start_time": "2022-01-15T12:22:02.276Z"
   },
   {
    "duration": 8,
    "start_time": "2022-01-15T12:26:08.837Z"
   },
   {
    "duration": 14,
    "start_time": "2022-01-15T12:26:11.831Z"
   },
   {
    "duration": 11,
    "start_time": "2022-01-15T12:26:17.394Z"
   },
   {
    "duration": 10,
    "start_time": "2022-01-15T12:26:22.712Z"
   },
   {
    "duration": 427,
    "start_time": "2022-01-15T12:31:37.634Z"
   },
   {
    "duration": 13,
    "start_time": "2022-01-15T12:33:58.208Z"
   },
   {
    "duration": 11,
    "start_time": "2022-01-15T12:34:50.542Z"
   },
   {
    "duration": 13,
    "start_time": "2022-01-15T12:35:02.540Z"
   },
   {
    "duration": 7,
    "start_time": "2022-01-15T12:35:12.688Z"
   },
   {
    "duration": 13,
    "start_time": "2022-01-15T12:35:16.960Z"
   },
   {
    "duration": 15,
    "start_time": "2022-01-15T12:35:24.858Z"
   },
   {
    "duration": 22,
    "start_time": "2022-01-15T12:35:35.674Z"
   },
   {
    "duration": 18,
    "start_time": "2022-01-15T12:35:41.890Z"
   },
   {
    "duration": 56,
    "start_time": "2022-01-15T12:35:52.764Z"
   },
   {
    "duration": 18,
    "start_time": "2022-01-15T12:36:02.683Z"
   },
   {
    "duration": 17,
    "start_time": "2022-01-15T12:36:20.328Z"
   },
   {
    "duration": 56,
    "start_time": "2022-01-15T12:36:32.744Z"
   },
   {
    "duration": 15,
    "start_time": "2022-01-15T12:36:45.960Z"
   },
   {
    "duration": 14,
    "start_time": "2022-01-15T12:36:50.294Z"
   },
   {
    "duration": 11,
    "start_time": "2022-01-15T12:37:13.511Z"
   },
   {
    "duration": 6,
    "start_time": "2022-01-15T12:37:22.914Z"
   },
   {
    "duration": 10,
    "start_time": "2022-01-15T12:37:24.748Z"
   },
   {
    "duration": 22,
    "start_time": "2022-01-15T12:38:51.700Z"
   },
   {
    "duration": 24,
    "start_time": "2022-01-15T12:38:57.279Z"
   },
   {
    "duration": 23,
    "start_time": "2022-01-15T12:38:58.833Z"
   },
   {
    "duration": 385,
    "start_time": "2022-01-15T12:44:23.434Z"
   },
   {
    "duration": 133,
    "start_time": "2022-01-15T12:44:33.925Z"
   },
   {
    "duration": 119,
    "start_time": "2022-01-15T12:44:40.019Z"
   },
   {
    "duration": 292,
    "start_time": "2022-01-15T12:44:44.357Z"
   },
   {
    "duration": 374,
    "start_time": "2022-01-15T12:45:25.910Z"
   },
   {
    "duration": 406,
    "start_time": "2022-01-15T12:45:45.344Z"
   },
   {
    "duration": 520,
    "start_time": "2022-01-15T12:45:49.619Z"
   },
   {
    "duration": 11537,
    "start_time": "2022-01-15T12:45:56.548Z"
   },
   {
    "duration": 3612,
    "start_time": "2022-01-15T12:46:11.963Z"
   },
   {
    "duration": 656,
    "start_time": "2022-01-15T12:46:23.082Z"
   },
   {
    "duration": 459,
    "start_time": "2022-01-15T12:46:27.083Z"
   },
   {
    "duration": 436,
    "start_time": "2022-01-15T12:46:36.883Z"
   },
   {
    "duration": 440,
    "start_time": "2022-01-15T12:46:45.174Z"
   },
   {
    "duration": 519,
    "start_time": "2022-01-15T12:46:59.967Z"
   },
   {
    "duration": 444,
    "start_time": "2022-01-15T12:47:03.638Z"
   },
   {
    "duration": 420,
    "start_time": "2022-01-15T12:47:06.935Z"
   },
   {
    "duration": 388,
    "start_time": "2022-01-15T12:47:10.580Z"
   },
   {
    "duration": 1119,
    "start_time": "2022-01-15T12:47:13.307Z"
   },
   {
    "duration": 360,
    "start_time": "2022-01-15T12:47:16.062Z"
   },
   {
    "duration": 325,
    "start_time": "2022-01-15T12:47:20.515Z"
   },
   {
    "duration": 398,
    "start_time": "2022-01-15T12:48:09.249Z"
   },
   {
    "duration": 370,
    "start_time": "2022-01-15T12:48:16.767Z"
   },
   {
    "duration": 33,
    "start_time": "2022-01-15T12:48:18.853Z"
   },
   {
    "duration": 481,
    "start_time": "2022-01-15T12:48:27.430Z"
   },
   {
    "duration": 117,
    "start_time": "2022-01-15T12:48:32.711Z"
   },
   {
    "duration": 30,
    "start_time": "2022-01-15T12:48:40.167Z"
   },
   {
    "duration": 17931,
    "start_time": "2022-01-15T12:56:38.484Z"
   },
   {
    "duration": 349,
    "start_time": "2022-01-15T12:56:58.885Z"
   },
   {
    "duration": 15,
    "start_time": "2022-01-15T12:58:24.274Z"
   },
   {
    "duration": 34,
    "start_time": "2022-01-15T12:58:32.282Z"
   },
   {
    "duration": 13,
    "start_time": "2022-01-15T12:58:32.634Z"
   },
   {
    "duration": 16,
    "start_time": "2022-01-15T12:58:33.404Z"
   },
   {
    "duration": 13,
    "start_time": "2022-01-15T13:00:27.836Z"
   },
   {
    "duration": 363,
    "start_time": "2022-01-15T13:03:33.045Z"
   },
   {
    "duration": 608,
    "start_time": "2022-01-15T13:03:41.653Z"
   },
   {
    "duration": 953,
    "start_time": "2022-01-15T13:04:04.856Z"
   },
   {
    "duration": 7,
    "start_time": "2022-01-15T13:04:05.812Z"
   },
   {
    "duration": 21,
    "start_time": "2022-01-15T13:04:05.822Z"
   },
   {
    "duration": 36,
    "start_time": "2022-01-15T13:04:05.846Z"
   },
   {
    "duration": 33,
    "start_time": "2022-01-15T13:04:05.885Z"
   },
   {
    "duration": 46,
    "start_time": "2022-01-15T13:04:05.921Z"
   },
   {
    "duration": 128,
    "start_time": "2022-01-15T13:04:05.970Z"
   },
   {
    "duration": -321,
    "start_time": "2022-01-15T13:04:06.426Z"
   },
   {
    "duration": -329,
    "start_time": "2022-01-15T13:04:06.436Z"
   },
   {
    "duration": -330,
    "start_time": "2022-01-15T13:04:06.439Z"
   },
   {
    "duration": -331,
    "start_time": "2022-01-15T13:04:06.442Z"
   },
   {
    "duration": -338,
    "start_time": "2022-01-15T13:04:06.451Z"
   },
   {
    "duration": -339,
    "start_time": "2022-01-15T13:04:06.454Z"
   },
   {
    "duration": -339,
    "start_time": "2022-01-15T13:04:06.457Z"
   },
   {
    "duration": -340,
    "start_time": "2022-01-15T13:04:06.460Z"
   },
   {
    "duration": -347,
    "start_time": "2022-01-15T13:04:06.469Z"
   },
   {
    "duration": -369,
    "start_time": "2022-01-15T13:04:06.493Z"
   },
   {
    "duration": -376,
    "start_time": "2022-01-15T13:04:06.502Z"
   },
   {
    "duration": -376,
    "start_time": "2022-01-15T13:04:06.505Z"
   },
   {
    "duration": -377,
    "start_time": "2022-01-15T13:04:06.508Z"
   },
   {
    "duration": -378,
    "start_time": "2022-01-15T13:04:06.511Z"
   },
   {
    "duration": -380,
    "start_time": "2022-01-15T13:04:06.515Z"
   },
   {
    "duration": -381,
    "start_time": "2022-01-15T13:04:06.518Z"
   },
   {
    "duration": -381,
    "start_time": "2022-01-15T13:04:06.521Z"
   },
   {
    "duration": -381,
    "start_time": "2022-01-15T13:04:06.523Z"
   },
   {
    "duration": -382,
    "start_time": "2022-01-15T13:04:06.526Z"
   },
   {
    "duration": -384,
    "start_time": "2022-01-15T13:04:06.529Z"
   },
   {
    "duration": -373,
    "start_time": "2022-01-15T13:04:06.532Z"
   },
   {
    "duration": -374,
    "start_time": "2022-01-15T13:04:06.535Z"
   },
   {
    "duration": -374,
    "start_time": "2022-01-15T13:04:06.537Z"
   },
   {
    "duration": -385,
    "start_time": "2022-01-15T13:04:06.550Z"
   },
   {
    "duration": -387,
    "start_time": "2022-01-15T13:04:06.555Z"
   },
   {
    "duration": -388,
    "start_time": "2022-01-15T13:04:06.558Z"
   },
   {
    "duration": -389,
    "start_time": "2022-01-15T13:04:06.561Z"
   },
   {
    "duration": -390,
    "start_time": "2022-01-15T13:04:06.564Z"
   },
   {
    "duration": -392,
    "start_time": "2022-01-15T13:04:06.568Z"
   },
   {
    "duration": -393,
    "start_time": "2022-01-15T13:04:06.571Z"
   },
   {
    "duration": -393,
    "start_time": "2022-01-15T13:04:06.574Z"
   },
   {
    "duration": -432,
    "start_time": "2022-01-15T13:04:06.615Z"
   },
   {
    "duration": -434,
    "start_time": "2022-01-15T13:04:06.619Z"
   },
   {
    "duration": -437,
    "start_time": "2022-01-15T13:04:06.624Z"
   },
   {
    "duration": -439,
    "start_time": "2022-01-15T13:04:06.628Z"
   },
   {
    "duration": -440,
    "start_time": "2022-01-15T13:04:06.631Z"
   },
   {
    "duration": -442,
    "start_time": "2022-01-15T13:04:06.635Z"
   },
   {
    "duration": -443,
    "start_time": "2022-01-15T13:04:06.638Z"
   },
   {
    "duration": -446,
    "start_time": "2022-01-15T13:04:06.642Z"
   },
   {
    "duration": -383,
    "start_time": "2022-01-15T13:04:06.645Z"
   },
   {
    "duration": -385,
    "start_time": "2022-01-15T13:04:06.649Z"
   },
   {
    "duration": -386,
    "start_time": "2022-01-15T13:04:06.651Z"
   },
   {
    "duration": -387,
    "start_time": "2022-01-15T13:04:06.654Z"
   },
   {
    "duration": -389,
    "start_time": "2022-01-15T13:04:06.657Z"
   },
   {
    "duration": -390,
    "start_time": "2022-01-15T13:04:06.660Z"
   },
   {
    "duration": -391,
    "start_time": "2022-01-15T13:04:06.662Z"
   },
   {
    "duration": -393,
    "start_time": "2022-01-15T13:04:06.665Z"
   },
   {
    "duration": -396,
    "start_time": "2022-01-15T13:04:06.669Z"
   },
   {
    "duration": -481,
    "start_time": "2022-01-15T13:04:06.756Z"
   },
   {
    "duration": -481,
    "start_time": "2022-01-15T13:04:06.758Z"
   },
   {
    "duration": -483,
    "start_time": "2022-01-15T13:04:06.761Z"
   },
   {
    "duration": -484,
    "start_time": "2022-01-15T13:04:06.763Z"
   },
   {
    "duration": -484,
    "start_time": "2022-01-15T13:04:06.765Z"
   },
   {
    "duration": -486,
    "start_time": "2022-01-15T13:04:06.768Z"
   },
   {
    "duration": -487,
    "start_time": "2022-01-15T13:04:06.770Z"
   },
   {
    "duration": -487,
    "start_time": "2022-01-15T13:04:06.772Z"
   },
   {
    "duration": -488,
    "start_time": "2022-01-15T13:04:06.774Z"
   },
   {
    "duration": -489,
    "start_time": "2022-01-15T13:04:06.777Z"
   },
   {
    "duration": -491,
    "start_time": "2022-01-15T13:04:06.780Z"
   },
   {
    "duration": -492,
    "start_time": "2022-01-15T13:04:06.783Z"
   },
   {
    "duration": -500,
    "start_time": "2022-01-15T13:04:06.792Z"
   },
   {
    "duration": -507,
    "start_time": "2022-01-15T13:04:06.801Z"
   },
   {
    "duration": -446,
    "start_time": "2022-01-15T13:04:06.806Z"
   },
   {
    "duration": 641,
    "start_time": "2022-01-15T13:04:14.790Z"
   },
   {
    "duration": 6,
    "start_time": "2022-01-15T13:04:31.473Z"
   },
   {
    "duration": 8,
    "start_time": "2022-01-15T13:04:37.201Z"
   },
   {
    "duration": 444,
    "start_time": "2022-01-15T13:04:54.342Z"
   },
   {
    "duration": 124,
    "start_time": "2022-01-15T13:05:08.973Z"
   },
   {
    "duration": 3,
    "start_time": "2022-01-15T13:05:13.025Z"
   },
   {
    "duration": 12,
    "start_time": "2022-01-15T13:05:14.796Z"
   },
   {
    "duration": 987,
    "start_time": "2022-01-15T13:05:26.677Z"
   },
   {
    "duration": 7,
    "start_time": "2022-01-15T13:05:27.667Z"
   },
   {
    "duration": 20,
    "start_time": "2022-01-15T13:05:27.676Z"
   },
   {
    "duration": 26,
    "start_time": "2022-01-15T13:05:27.699Z"
   },
   {
    "duration": 65,
    "start_time": "2022-01-15T13:05:27.728Z"
   },
   {
    "duration": 11,
    "start_time": "2022-01-15T13:05:27.795Z"
   },
   {
    "duration": 4,
    "start_time": "2022-01-15T13:05:27.809Z"
   },
   {
    "duration": 49,
    "start_time": "2022-01-15T13:05:27.817Z"
   },
   {
    "duration": 9,
    "start_time": "2022-01-15T13:05:27.869Z"
   },
   {
    "duration": 11,
    "start_time": "2022-01-15T13:05:27.880Z"
   },
   {
    "duration": 11,
    "start_time": "2022-01-15T13:05:27.893Z"
   },
   {
    "duration": 10,
    "start_time": "2022-01-15T13:05:27.907Z"
   },
   {
    "duration": 53,
    "start_time": "2022-01-15T13:05:27.919Z"
   },
   {
    "duration": 16,
    "start_time": "2022-01-15T13:05:27.974Z"
   },
   {
    "duration": 19,
    "start_time": "2022-01-15T13:05:27.992Z"
   },
   {
    "duration": 19,
    "start_time": "2022-01-15T13:05:28.014Z"
   },
   {
    "duration": 5,
    "start_time": "2022-01-15T13:05:28.036Z"
   },
   {
    "duration": 8,
    "start_time": "2022-01-15T13:05:28.061Z"
   },
   {
    "duration": 3,
    "start_time": "2022-01-15T13:05:28.071Z"
   },
   {
    "duration": 7,
    "start_time": "2022-01-15T13:05:28.077Z"
   },
   {
    "duration": 23,
    "start_time": "2022-01-15T13:05:28.086Z"
   },
   {
    "duration": 12,
    "start_time": "2022-01-15T13:05:28.111Z"
   },
   {
    "duration": 8,
    "start_time": "2022-01-15T13:05:28.163Z"
   },
   {
    "duration": 9,
    "start_time": "2022-01-15T13:05:28.175Z"
   },
   {
    "duration": 14,
    "start_time": "2022-01-15T13:05:28.186Z"
   },
   {
    "duration": 15,
    "start_time": "2022-01-15T13:05:28.203Z"
   },
   {
    "duration": 40,
    "start_time": "2022-01-15T13:05:28.221Z"
   },
   {
    "duration": 10,
    "start_time": "2022-01-15T13:05:28.264Z"
   },
   {
    "duration": 28,
    "start_time": "2022-01-15T13:05:28.276Z"
   },
   {
    "duration": 59,
    "start_time": "2022-01-15T13:05:28.308Z"
   },
   {
    "duration": 31,
    "start_time": "2022-01-15T13:05:28.371Z"
   },
   {
    "duration": 6,
    "start_time": "2022-01-15T13:05:28.404Z"
   },
   {
    "duration": 6,
    "start_time": "2022-01-15T13:05:28.412Z"
   },
   {
    "duration": 403,
    "start_time": "2022-01-15T13:05:28.420Z"
   },
   {
    "duration": 4,
    "start_time": "2022-01-15T13:05:28.826Z"
   },
   {
    "duration": 16,
    "start_time": "2022-01-15T13:05:28.832Z"
   },
   {
    "duration": 18,
    "start_time": "2022-01-15T13:05:28.860Z"
   },
   {
    "duration": 89,
    "start_time": "2022-01-15T13:05:28.880Z"
   },
   {
    "duration": 102,
    "start_time": "2022-01-15T13:05:28.973Z"
   },
   {
    "duration": 59,
    "start_time": "2022-01-15T13:05:29.080Z"
   },
   {
    "duration": 581,
    "start_time": "2022-01-15T13:05:29.155Z"
   },
   {
    "duration": 23,
    "start_time": "2022-01-15T13:05:29.738Z"
   },
   {
    "duration": 8,
    "start_time": "2022-01-15T13:05:29.764Z"
   },
   {
    "duration": 22,
    "start_time": "2022-01-15T13:05:29.775Z"
   },
   {
    "duration": 59,
    "start_time": "2022-01-15T13:05:29.800Z"
   },
   {
    "duration": 14,
    "start_time": "2022-01-15T13:05:29.862Z"
   },
   {
    "duration": 395,
    "start_time": "2022-01-15T13:05:29.878Z"
   },
   {
    "duration": 14,
    "start_time": "2022-01-15T13:05:30.276Z"
   },
   {
    "duration": 23,
    "start_time": "2022-01-15T13:05:30.292Z"
   },
   {
    "duration": 24,
    "start_time": "2022-01-15T13:05:30.318Z"
   },
   {
    "duration": 26,
    "start_time": "2022-01-15T13:05:30.345Z"
   },
   {
    "duration": 23,
    "start_time": "2022-01-15T13:05:30.373Z"
   },
   {
    "duration": 11,
    "start_time": "2022-01-15T13:05:30.399Z"
   },
   {
    "duration": 23,
    "start_time": "2022-01-15T13:05:30.412Z"
   },
   {
    "duration": 18,
    "start_time": "2022-01-15T13:05:30.438Z"
   },
   {
    "duration": 9,
    "start_time": "2022-01-15T13:05:30.459Z"
   },
   {
    "duration": 18,
    "start_time": "2022-01-15T13:05:30.471Z"
   },
   {
    "duration": 50,
    "start_time": "2022-01-15T13:05:30.491Z"
   },
   {
    "duration": 15,
    "start_time": "2022-01-15T13:05:30.543Z"
   },
   {
    "duration": 22,
    "start_time": "2022-01-15T13:05:30.561Z"
   },
   {
    "duration": 3,
    "start_time": "2022-01-15T13:05:30.585Z"
   },
   {
    "duration": 21,
    "start_time": "2022-01-15T13:05:30.591Z"
   },
   {
    "duration": 5,
    "start_time": "2022-01-15T13:05:30.614Z"
   },
   {
    "duration": 37,
    "start_time": "2022-01-15T13:05:30.622Z"
   },
   {
    "duration": 10,
    "start_time": "2022-01-15T13:05:30.661Z"
   },
   {
    "duration": 26,
    "start_time": "2022-01-15T13:05:30.673Z"
   },
   {
    "duration": 7,
    "start_time": "2022-01-15T13:05:30.701Z"
   },
   {
    "duration": 53,
    "start_time": "2022-01-15T13:05:30.718Z"
   },
   {
    "duration": 25,
    "start_time": "2022-01-15T13:05:30.774Z"
   },
   {
    "duration": 4,
    "start_time": "2022-01-15T13:05:30.801Z"
   },
   {
    "duration": 19,
    "start_time": "2022-01-15T13:06:22.557Z"
   },
   {
    "duration": 421,
    "start_time": "2022-01-15T13:06:48.843Z"
   },
   {
    "duration": 533,
    "start_time": "2022-01-15T13:07:53.807Z"
   },
   {
    "duration": 607,
    "start_time": "2022-01-15T13:08:01.314Z"
   },
   {
    "duration": 16,
    "start_time": "2022-01-15T13:08:03.865Z"
   },
   {
    "duration": 10,
    "start_time": "2022-01-15T13:18:45.491Z"
   },
   {
    "duration": 389,
    "start_time": "2022-01-15T16:01:52.665Z"
   },
   {
    "duration": 717,
    "start_time": "2022-01-15T16:02:00.040Z"
   },
   {
    "duration": 4,
    "start_time": "2022-01-15T16:02:00.759Z"
   },
   {
    "duration": 13,
    "start_time": "2022-01-15T16:02:00.765Z"
   },
   {
    "duration": 15,
    "start_time": "2022-01-15T16:02:00.780Z"
   },
   {
    "duration": 32,
    "start_time": "2022-01-15T16:02:00.796Z"
   },
   {
    "duration": 9,
    "start_time": "2022-01-15T16:02:00.832Z"
   },
   {
    "duration": 4,
    "start_time": "2022-01-15T16:02:00.843Z"
   },
   {
    "duration": 9,
    "start_time": "2022-01-15T16:02:00.848Z"
   },
   {
    "duration": 6,
    "start_time": "2022-01-15T16:02:00.859Z"
   },
   {
    "duration": 14,
    "start_time": "2022-01-15T16:02:00.867Z"
   },
   {
    "duration": 18,
    "start_time": "2022-01-15T16:02:00.882Z"
   },
   {
    "duration": 30,
    "start_time": "2022-01-15T16:02:00.901Z"
   },
   {
    "duration": 29,
    "start_time": "2022-01-15T16:02:00.933Z"
   },
   {
    "duration": 12,
    "start_time": "2022-01-15T16:02:00.963Z"
   },
   {
    "duration": 9,
    "start_time": "2022-01-15T16:02:00.977Z"
   },
   {
    "duration": 11,
    "start_time": "2022-01-15T16:02:00.987Z"
   },
   {
    "duration": 9,
    "start_time": "2022-01-15T16:02:00.999Z"
   },
   {
    "duration": 10,
    "start_time": "2022-01-15T16:02:01.009Z"
   },
   {
    "duration": 4,
    "start_time": "2022-01-15T16:02:01.020Z"
   },
   {
    "duration": 20,
    "start_time": "2022-01-15T16:02:01.025Z"
   },
   {
    "duration": 18,
    "start_time": "2022-01-15T16:02:01.047Z"
   },
   {
    "duration": 4,
    "start_time": "2022-01-15T16:02:01.067Z"
   },
   {
    "duration": 5,
    "start_time": "2022-01-15T16:02:01.073Z"
   },
   {
    "duration": 7,
    "start_time": "2022-01-15T16:02:01.080Z"
   },
   {
    "duration": 10,
    "start_time": "2022-01-15T16:02:01.089Z"
   },
   {
    "duration": 8,
    "start_time": "2022-01-15T16:02:01.100Z"
   },
   {
    "duration": 6,
    "start_time": "2022-01-15T16:02:01.111Z"
   },
   {
    "duration": 9,
    "start_time": "2022-01-15T16:02:01.119Z"
   },
   {
    "duration": 24,
    "start_time": "2022-01-15T16:02:01.132Z"
   },
   {
    "duration": 14,
    "start_time": "2022-01-15T16:02:01.157Z"
   },
   {
    "duration": 14,
    "start_time": "2022-01-15T16:02:01.173Z"
   },
   {
    "duration": 12,
    "start_time": "2022-01-15T16:02:01.189Z"
   },
   {
    "duration": 9,
    "start_time": "2022-01-15T16:02:01.202Z"
   },
   {
    "duration": 196,
    "start_time": "2022-01-15T16:02:01.212Z"
   },
   {
    "duration": 3,
    "start_time": "2022-01-15T16:02:01.409Z"
   },
   {
    "duration": 12,
    "start_time": "2022-01-15T16:02:01.413Z"
   },
   {
    "duration": 24,
    "start_time": "2022-01-15T16:02:01.427Z"
   },
   {
    "duration": 15,
    "start_time": "2022-01-15T16:02:01.453Z"
   },
   {
    "duration": 42,
    "start_time": "2022-01-15T16:02:01.470Z"
   },
   {
    "duration": 5,
    "start_time": "2022-01-15T16:02:01.513Z"
   },
   {
    "duration": 9,
    "start_time": "2022-01-15T16:02:01.520Z"
   },
   {
    "duration": 213,
    "start_time": "2022-01-15T16:02:01.536Z"
   },
   {
    "duration": 9,
    "start_time": "2022-01-15T16:02:01.751Z"
   },
   {
    "duration": 8,
    "start_time": "2022-01-15T16:02:01.761Z"
   },
   {
    "duration": 16,
    "start_time": "2022-01-15T16:02:01.771Z"
   },
   {
    "duration": 27,
    "start_time": "2022-01-15T16:02:01.788Z"
   },
   {
    "duration": 21,
    "start_time": "2022-01-15T16:02:01.817Z"
   },
   {
    "duration": 224,
    "start_time": "2022-01-15T16:02:01.840Z"
   },
   {
    "duration": 10,
    "start_time": "2022-01-15T16:02:02.066Z"
   },
   {
    "duration": 3,
    "start_time": "2022-01-15T16:02:02.077Z"
   },
   {
    "duration": 5,
    "start_time": "2022-01-15T16:02:02.081Z"
   },
   {
    "duration": 5,
    "start_time": "2022-01-15T16:02:02.088Z"
   },
   {
    "duration": 9,
    "start_time": "2022-01-15T16:02:02.095Z"
   },
   {
    "duration": 5,
    "start_time": "2022-01-15T16:02:02.106Z"
   },
   {
    "duration": 22,
    "start_time": "2022-01-15T16:02:02.112Z"
   },
   {
    "duration": 2,
    "start_time": "2022-01-15T16:02:02.136Z"
   },
   {
    "duration": 9,
    "start_time": "2022-01-15T16:02:02.140Z"
   },
   {
    "duration": 12,
    "start_time": "2022-01-15T16:02:02.150Z"
   },
   {
    "duration": 9,
    "start_time": "2022-01-15T16:02:02.163Z"
   },
   {
    "duration": 8,
    "start_time": "2022-01-15T16:02:02.173Z"
   },
   {
    "duration": 455,
    "start_time": "2022-01-15T16:02:02.183Z"
   },
   {
    "duration": -85,
    "start_time": "2022-01-15T16:02:02.725Z"
   },
   {
    "duration": -88,
    "start_time": "2022-01-15T16:02:02.729Z"
   },
   {
    "duration": -90,
    "start_time": "2022-01-15T16:02:02.732Z"
   },
   {
    "duration": -125,
    "start_time": "2022-01-15T16:02:02.768Z"
   },
   {
    "duration": -127,
    "start_time": "2022-01-15T16:02:02.771Z"
   },
   {
    "duration": -129,
    "start_time": "2022-01-15T16:02:02.774Z"
   },
   {
    "duration": -131,
    "start_time": "2022-01-15T16:02:02.777Z"
   },
   {
    "duration": -140,
    "start_time": "2022-01-15T16:02:02.787Z"
   },
   {
    "duration": -142,
    "start_time": "2022-01-15T16:02:02.790Z"
   },
   {
    "duration": -143,
    "start_time": "2022-01-15T16:02:02.793Z"
   },
   {
    "duration": 216,
    "start_time": "2022-01-15T16:03:24.169Z"
   },
   {
    "duration": 603,
    "start_time": "2022-01-15T16:03:30.547Z"
   },
   {
    "duration": 40,
    "start_time": "2022-01-15T16:21:53.339Z"
   },
   {
    "duration": 590,
    "start_time": "2022-01-15T16:23:06.782Z"
   },
   {
    "duration": 1169,
    "start_time": "2022-01-15T16:23:47.671Z"
   },
   {
    "duration": 43,
    "start_time": "2022-01-15T16:23:48.842Z"
   },
   {
    "duration": 5,
    "start_time": "2022-01-15T16:23:48.887Z"
   },
   {
    "duration": 13,
    "start_time": "2022-01-15T16:23:48.894Z"
   },
   {
    "duration": 29,
    "start_time": "2022-01-15T16:23:48.908Z"
   },
   {
    "duration": 20,
    "start_time": "2022-01-15T16:23:48.939Z"
   },
   {
    "duration": 7,
    "start_time": "2022-01-15T16:23:48.961Z"
   },
   {
    "duration": 2,
    "start_time": "2022-01-15T16:23:48.971Z"
   },
   {
    "duration": 7,
    "start_time": "2022-01-15T16:23:48.975Z"
   },
   {
    "duration": 6,
    "start_time": "2022-01-15T16:23:48.984Z"
   },
   {
    "duration": 41,
    "start_time": "2022-01-15T16:23:48.991Z"
   },
   {
    "duration": 7,
    "start_time": "2022-01-15T16:23:49.033Z"
   },
   {
    "duration": 6,
    "start_time": "2022-01-15T16:23:49.041Z"
   },
   {
    "duration": 9,
    "start_time": "2022-01-15T16:23:49.049Z"
   },
   {
    "duration": 9,
    "start_time": "2022-01-15T16:23:49.060Z"
   },
   {
    "duration": 6,
    "start_time": "2022-01-15T16:23:49.071Z"
   },
   {
    "duration": 8,
    "start_time": "2022-01-15T16:23:49.079Z"
   },
   {
    "duration": 4,
    "start_time": "2022-01-15T16:23:49.088Z"
   },
   {
    "duration": 40,
    "start_time": "2022-01-15T16:23:49.093Z"
   },
   {
    "duration": 2,
    "start_time": "2022-01-15T16:23:49.135Z"
   },
   {
    "duration": 3,
    "start_time": "2022-01-15T16:23:49.139Z"
   },
   {
    "duration": 14,
    "start_time": "2022-01-15T16:23:49.144Z"
   },
   {
    "duration": 5,
    "start_time": "2022-01-15T16:23:49.162Z"
   },
   {
    "duration": 7,
    "start_time": "2022-01-15T16:23:49.170Z"
   },
   {
    "duration": 6,
    "start_time": "2022-01-15T16:23:49.178Z"
   },
   {
    "duration": 12,
    "start_time": "2022-01-15T16:23:49.226Z"
   },
   {
    "duration": 4,
    "start_time": "2022-01-15T16:23:49.239Z"
   },
   {
    "duration": 8,
    "start_time": "2022-01-15T16:23:49.245Z"
   },
   {
    "duration": 6,
    "start_time": "2022-01-15T16:23:49.254Z"
   },
   {
    "duration": 16,
    "start_time": "2022-01-15T16:23:49.262Z"
   },
   {
    "duration": 14,
    "start_time": "2022-01-15T16:23:49.279Z"
   },
   {
    "duration": 42,
    "start_time": "2022-01-15T16:23:49.294Z"
   },
   {
    "duration": 3,
    "start_time": "2022-01-15T16:23:49.337Z"
   },
   {
    "duration": 4,
    "start_time": "2022-01-15T16:23:49.341Z"
   },
   {
    "duration": 190,
    "start_time": "2022-01-15T16:23:49.347Z"
   },
   {
    "duration": 2,
    "start_time": "2022-01-15T16:23:49.539Z"
   },
   {
    "duration": 23,
    "start_time": "2022-01-15T16:23:49.542Z"
   },
   {
    "duration": 8,
    "start_time": "2022-01-15T16:23:49.567Z"
   },
   {
    "duration": 9,
    "start_time": "2022-01-15T16:23:49.576Z"
   },
   {
    "duration": 30,
    "start_time": "2022-01-15T16:23:49.587Z"
   },
   {
    "duration": 5,
    "start_time": "2022-01-15T16:23:49.618Z"
   },
   {
    "duration": 63,
    "start_time": "2022-01-15T16:23:49.624Z"
   },
   {
    "duration": 1620,
    "start_time": "2022-01-15T16:23:49.689Z"
   },
   {
    "duration": -97,
    "start_time": "2022-01-15T16:23:51.408Z"
   },
   {
    "duration": -101,
    "start_time": "2022-01-15T16:23:51.413Z"
   },
   {
    "duration": -157,
    "start_time": "2022-01-15T16:23:51.470Z"
   },
   {
    "duration": -160,
    "start_time": "2022-01-15T16:23:51.473Z"
   },
   {
    "duration": -162,
    "start_time": "2022-01-15T16:23:51.476Z"
   },
   {
    "duration": -165,
    "start_time": "2022-01-15T16:23:51.480Z"
   },
   {
    "duration": -175,
    "start_time": "2022-01-15T16:23:51.491Z"
   },
   {
    "duration": -178,
    "start_time": "2022-01-15T16:23:51.495Z"
   },
   {
    "duration": -182,
    "start_time": "2022-01-15T16:23:51.499Z"
   },
   {
    "duration": -193,
    "start_time": "2022-01-15T16:23:51.511Z"
   },
   {
    "duration": -196,
    "start_time": "2022-01-15T16:23:51.515Z"
   },
   {
    "duration": -207,
    "start_time": "2022-01-15T16:23:51.527Z"
   },
   {
    "duration": -210,
    "start_time": "2022-01-15T16:23:51.531Z"
   },
   {
    "duration": -220,
    "start_time": "2022-01-15T16:23:51.542Z"
   },
   {
    "duration": -222,
    "start_time": "2022-01-15T16:23:51.545Z"
   },
   {
    "duration": -233,
    "start_time": "2022-01-15T16:23:51.557Z"
   },
   {
    "duration": -235,
    "start_time": "2022-01-15T16:23:51.560Z"
   },
   {
    "duration": -269,
    "start_time": "2022-01-15T16:23:51.596Z"
   },
   {
    "duration": -293,
    "start_time": "2022-01-15T16:23:51.620Z"
   },
   {
    "duration": -295,
    "start_time": "2022-01-15T16:23:51.623Z"
   },
   {
    "duration": -296,
    "start_time": "2022-01-15T16:23:51.625Z"
   },
   {
    "duration": -298,
    "start_time": "2022-01-15T16:23:51.628Z"
   },
   {
    "duration": -307,
    "start_time": "2022-01-15T16:23:51.638Z"
   },
   {
    "duration": -309,
    "start_time": "2022-01-15T16:23:51.641Z"
   },
   {
    "duration": -310,
    "start_time": "2022-01-15T16:23:51.643Z"
   },
   {
    "duration": -312,
    "start_time": "2022-01-15T16:23:51.646Z"
   },
   {
    "duration": -314,
    "start_time": "2022-01-15T16:23:51.649Z"
   },
   {
    "duration": -316,
    "start_time": "2022-01-15T16:23:51.652Z"
   },
   {
    "duration": -318,
    "start_time": "2022-01-15T16:23:51.655Z"
   },
   {
    "duration": -319,
    "start_time": "2022-01-15T16:23:51.657Z"
   },
   {
    "duration": 8,
    "start_time": "2022-01-15T16:23:59.704Z"
   },
   {
    "duration": 4,
    "start_time": "2022-01-15T16:25:14.445Z"
   },
   {
    "duration": 5,
    "start_time": "2022-01-15T16:30:25.126Z"
   },
   {
    "duration": 4,
    "start_time": "2022-01-15T16:42:46.608Z"
   },
   {
    "duration": 1596,
    "start_time": "2022-01-15T16:42:47.665Z"
   },
   {
    "duration": 104,
    "start_time": "2022-01-15T16:42:55.484Z"
   },
   {
    "duration": 104,
    "start_time": "2022-01-15T16:43:03.394Z"
   },
   {
    "duration": 308,
    "start_time": "2022-01-15T16:43:09.341Z"
   },
   {
    "duration": 2,
    "start_time": "2022-01-15T16:43:16.383Z"
   },
   {
    "duration": 5,
    "start_time": "2022-01-15T16:43:18.854Z"
   },
   {
    "duration": 1581,
    "start_time": "2022-01-15T16:43:19.935Z"
   },
   {
    "duration": 5,
    "start_time": "2022-01-15T16:43:38.646Z"
   },
   {
    "duration": 1734,
    "start_time": "2022-01-15T16:43:39.294Z"
   },
   {
    "duration": 3,
    "start_time": "2022-01-15T16:45:29.317Z"
   },
   {
    "duration": 4,
    "start_time": "2022-01-15T16:45:29.747Z"
   },
   {
    "duration": 1602,
    "start_time": "2022-01-15T16:45:30.418Z"
   },
   {
    "duration": 5,
    "start_time": "2022-01-15T16:45:55.568Z"
   },
   {
    "duration": 3,
    "start_time": "2022-01-15T16:49:06.533Z"
   },
   {
    "duration": 4,
    "start_time": "2022-01-15T16:49:07.814Z"
   },
   {
    "duration": 1667,
    "start_time": "2022-01-15T16:49:08.384Z"
   },
   {
    "duration": 3,
    "start_time": "2022-01-15T16:49:22.185Z"
   },
   {
    "duration": 4,
    "start_time": "2022-01-15T16:49:22.873Z"
   },
   {
    "duration": 1731,
    "start_time": "2022-01-15T16:49:23.470Z"
   },
   {
    "duration": 3,
    "start_time": "2022-01-15T16:49:38.348Z"
   },
   {
    "duration": 5,
    "start_time": "2022-01-15T16:49:38.801Z"
   },
   {
    "duration": 1605,
    "start_time": "2022-01-15T16:49:39.254Z"
   },
   {
    "duration": 3,
    "start_time": "2022-01-15T16:49:54.365Z"
   },
   {
    "duration": 4,
    "start_time": "2022-01-15T16:49:54.873Z"
   },
   {
    "duration": 1564,
    "start_time": "2022-01-15T16:49:55.137Z"
   },
   {
    "duration": 3,
    "start_time": "2022-01-15T16:50:02.052Z"
   },
   {
    "duration": 4,
    "start_time": "2022-01-15T16:50:02.444Z"
   },
   {
    "duration": 1596,
    "start_time": "2022-01-15T16:50:02.660Z"
   },
   {
    "duration": 8576,
    "start_time": "2022-01-15T16:50:27.309Z"
   },
   {
    "duration": 9,
    "start_time": "2022-01-15T16:50:57.332Z"
   },
   {
    "duration": 4,
    "start_time": "2022-01-15T16:57:14.893Z"
   },
   {
    "duration": 3,
    "start_time": "2022-01-15T16:57:38.892Z"
   },
   {
    "duration": 344,
    "start_time": "2022-01-15T16:57:39.309Z"
   },
   {
    "duration": 7737,
    "start_time": "2022-01-15T16:57:40.069Z"
   },
   {
    "duration": 3,
    "start_time": "2022-01-15T16:57:50.217Z"
   },
   {
    "duration": 9,
    "start_time": "2022-01-15T16:57:50.407Z"
   },
   {
    "duration": 7,
    "start_time": "2022-01-15T16:57:51.302Z"
   },
   {
    "duration": 12,
    "start_time": "2022-01-15T16:59:16.743Z"
   },
   {
    "duration": 10,
    "start_time": "2022-01-15T16:59:29.239Z"
   },
   {
    "duration": 337,
    "start_time": "2022-01-15T16:59:45.470Z"
   },
   {
    "duration": 9,
    "start_time": "2022-01-15T16:59:55.770Z"
   },
   {
    "duration": 10,
    "start_time": "2022-01-15T17:00:35.912Z"
   },
   {
    "duration": 3,
    "start_time": "2022-01-15T17:18:16.922Z"
   },
   {
    "duration": 42,
    "start_time": "2022-01-15T17:18:19.061Z"
   },
   {
    "duration": 4,
    "start_time": "2022-01-15T17:21:15.503Z"
   },
   {
    "duration": 4,
    "start_time": "2022-01-15T17:30:27.699Z"
   },
   {
    "duration": 12,
    "start_time": "2022-01-15T17:30:28.369Z"
   },
   {
    "duration": 17,
    "start_time": "2022-01-15T17:30:40.077Z"
   },
   {
    "duration": 15,
    "start_time": "2022-01-15T17:30:48.264Z"
   },
   {
    "duration": 19,
    "start_time": "2022-01-15T17:31:12.013Z"
   },
   {
    "duration": 20,
    "start_time": "2022-01-15T17:31:51.309Z"
   },
   {
    "duration": 7,
    "start_time": "2022-01-15T17:31:57.493Z"
   },
   {
    "duration": 114,
    "start_time": "2022-01-15T17:34:55.588Z"
   },
   {
    "duration": 5,
    "start_time": "2022-01-15T17:35:14.266Z"
   },
   {
    "duration": 7,
    "start_time": "2022-01-15T17:45:15.840Z"
   },
   {
    "duration": 7,
    "start_time": "2022-01-15T17:46:42.648Z"
   },
   {
    "duration": 7,
    "start_time": "2022-01-15T17:47:56.073Z"
   },
   {
    "duration": 7,
    "start_time": "2022-01-15T17:47:58.777Z"
   },
   {
    "duration": 6,
    "start_time": "2022-01-15T18:03:48.749Z"
   },
   {
    "duration": 10,
    "start_time": "2022-01-15T18:05:43.657Z"
   },
   {
    "duration": 7,
    "start_time": "2022-01-15T18:05:51.346Z"
   },
   {
    "duration": 5,
    "start_time": "2022-01-15T18:06:03.216Z"
   },
   {
    "duration": 7,
    "start_time": "2022-01-15T18:07:10.179Z"
   },
   {
    "duration": 8,
    "start_time": "2022-01-15T18:07:25.706Z"
   },
   {
    "duration": 8,
    "start_time": "2022-01-15T18:07:39.596Z"
   },
   {
    "duration": 4,
    "start_time": "2022-01-15T18:07:40.468Z"
   },
   {
    "duration": 4,
    "start_time": "2022-01-15T18:08:12.935Z"
   },
   {
    "duration": 6,
    "start_time": "2022-01-15T18:08:14.120Z"
   },
   {
    "duration": 4,
    "start_time": "2022-01-15T18:08:23.261Z"
   },
   {
    "duration": 6,
    "start_time": "2022-01-15T18:08:23.592Z"
   },
   {
    "duration": 8,
    "start_time": "2022-01-15T18:13:10.660Z"
   },
   {
    "duration": 4,
    "start_time": "2022-01-15T18:13:11.009Z"
   },
   {
    "duration": 6,
    "start_time": "2022-01-15T18:13:11.688Z"
   },
   {
    "duration": 170,
    "start_time": "2022-01-15T18:13:25.913Z"
   },
   {
    "duration": 344,
    "start_time": "2022-01-15T18:13:35.891Z"
   },
   {
    "duration": 150,
    "start_time": "2022-01-15T18:14:03.469Z"
   },
   {
    "duration": 200,
    "start_time": "2022-01-15T18:14:09.549Z"
   },
   {
    "duration": 334,
    "start_time": "2022-01-15T18:16:08.775Z"
   },
   {
    "duration": 319,
    "start_time": "2022-01-15T18:16:20.424Z"
   },
   {
    "duration": 323,
    "start_time": "2022-01-15T18:16:43.709Z"
   },
   {
    "duration": 5,
    "start_time": "2022-01-15T18:17:07.135Z"
   },
   {
    "duration": 10,
    "start_time": "2022-01-15T18:17:09.851Z"
   },
   {
    "duration": 6,
    "start_time": "2022-01-15T18:18:48.881Z"
   },
   {
    "duration": 10,
    "start_time": "2022-01-15T18:18:49.281Z"
   },
   {
    "duration": 8,
    "start_time": "2022-01-15T18:18:49.441Z"
   },
   {
    "duration": 5,
    "start_time": "2022-01-15T18:18:49.822Z"
   },
   {
    "duration": 8,
    "start_time": "2022-01-15T18:18:50.495Z"
   },
   {
    "duration": 3,
    "start_time": "2022-01-15T18:18:50.748Z"
   },
   {
    "duration": 5,
    "start_time": "2022-01-15T18:18:50.976Z"
   },
   {
    "duration": 7813,
    "start_time": "2022-01-15T18:18:51.482Z"
   },
   {
    "duration": -148,
    "start_time": "2022-01-15T18:18:59.445Z"
   },
   {
    "duration": -151,
    "start_time": "2022-01-15T18:18:59.450Z"
   },
   {
    "duration": -152,
    "start_time": "2022-01-15T18:18:59.452Z"
   },
   {
    "duration": 1221,
    "start_time": "2022-01-15T18:19:11.502Z"
   },
   {
    "duration": 42,
    "start_time": "2022-01-15T18:19:12.724Z"
   },
   {
    "duration": 4,
    "start_time": "2022-01-15T18:19:12.768Z"
   },
   {
    "duration": 13,
    "start_time": "2022-01-15T18:19:12.774Z"
   },
   {
    "duration": 11,
    "start_time": "2022-01-15T18:19:12.788Z"
   },
   {
    "duration": 27,
    "start_time": "2022-01-15T18:19:12.801Z"
   },
   {
    "duration": 6,
    "start_time": "2022-01-15T18:19:12.829Z"
   },
   {
    "duration": 4,
    "start_time": "2022-01-15T18:19:12.836Z"
   },
   {
    "duration": 9,
    "start_time": "2022-01-15T18:19:12.842Z"
   },
   {
    "duration": 5,
    "start_time": "2022-01-15T18:19:12.853Z"
   },
   {
    "duration": 7,
    "start_time": "2022-01-15T18:19:12.859Z"
   },
   {
    "duration": 5,
    "start_time": "2022-01-15T18:19:12.868Z"
   },
   {
    "duration": 6,
    "start_time": "2022-01-15T18:19:12.875Z"
   },
   {
    "duration": 9,
    "start_time": "2022-01-15T18:19:12.882Z"
   },
   {
    "duration": 39,
    "start_time": "2022-01-15T18:19:12.893Z"
   },
   {
    "duration": 6,
    "start_time": "2022-01-15T18:19:12.933Z"
   },
   {
    "duration": 9,
    "start_time": "2022-01-15T18:19:12.941Z"
   },
   {
    "duration": 4,
    "start_time": "2022-01-15T18:19:12.952Z"
   },
   {
    "duration": 6,
    "start_time": "2022-01-15T18:19:12.958Z"
   },
   {
    "duration": 230,
    "start_time": "2022-01-15T18:19:12.966Z"
   },
   {
    "duration": 6,
    "start_time": "2022-01-15T18:19:13.198Z"
   },
   {
    "duration": 24,
    "start_time": "2022-01-15T18:19:13.205Z"
   },
   {
    "duration": 6,
    "start_time": "2022-01-15T18:19:13.231Z"
   },
   {
    "duration": 7,
    "start_time": "2022-01-15T18:19:13.238Z"
   },
   {
    "duration": 6,
    "start_time": "2022-01-15T18:19:13.246Z"
   },
   {
    "duration": 8,
    "start_time": "2022-01-15T18:19:13.253Z"
   },
   {
    "duration": 2,
    "start_time": "2022-01-15T18:19:13.355Z"
   },
   {
    "duration": 7,
    "start_time": "2022-01-15T18:19:13.359Z"
   },
   {
    "duration": 6,
    "start_time": "2022-01-15T18:19:13.368Z"
   },
   {
    "duration": 15,
    "start_time": "2022-01-15T18:19:13.375Z"
   },
   {
    "duration": 12,
    "start_time": "2022-01-15T18:19:13.391Z"
   },
   {
    "duration": 28,
    "start_time": "2022-01-15T18:19:13.405Z"
   },
   {
    "duration": 3,
    "start_time": "2022-01-15T18:19:13.434Z"
   },
   {
    "duration": 4,
    "start_time": "2022-01-15T18:19:13.438Z"
   },
   {
    "duration": 185,
    "start_time": "2022-01-15T18:19:13.444Z"
   },
   {
    "duration": 3,
    "start_time": "2022-01-15T18:19:13.630Z"
   },
   {
    "duration": 7,
    "start_time": "2022-01-15T18:19:13.634Z"
   },
   {
    "duration": 9,
    "start_time": "2022-01-15T18:19:13.642Z"
   },
   {
    "duration": 8,
    "start_time": "2022-01-15T18:19:13.653Z"
   },
   {
    "duration": 27,
    "start_time": "2022-01-15T18:19:13.662Z"
   },
   {
    "duration": 4,
    "start_time": "2022-01-15T18:19:13.691Z"
   },
   {
    "duration": 254,
    "start_time": "2022-01-15T18:19:13.697Z"
   },
   {
    "duration": 7,
    "start_time": "2022-01-15T18:19:13.953Z"
   },
   {
    "duration": 4,
    "start_time": "2022-01-15T18:19:13.961Z"
   },
   {
    "duration": 7,
    "start_time": "2022-01-15T18:19:13.966Z"
   },
   {
    "duration": 21,
    "start_time": "2022-01-15T18:19:13.974Z"
   },
   {
    "duration": 34,
    "start_time": "2022-01-15T18:19:13.996Z"
   },
   {
    "duration": 302,
    "start_time": "2022-01-15T18:19:14.032Z"
   },
   {
    "duration": 13,
    "start_time": "2022-01-15T18:19:14.336Z"
   },
   {
    "duration": 2,
    "start_time": "2022-01-15T18:19:14.351Z"
   },
   {
    "duration": 5,
    "start_time": "2022-01-15T18:19:14.355Z"
   },
   {
    "duration": 4,
    "start_time": "2022-01-15T18:19:14.361Z"
   },
   {
    "duration": 5,
    "start_time": "2022-01-15T18:19:14.366Z"
   },
   {
    "duration": 5,
    "start_time": "2022-01-15T18:19:14.372Z"
   },
   {
    "duration": 5,
    "start_time": "2022-01-15T18:19:14.378Z"
   },
   {
    "duration": 4,
    "start_time": "2022-01-15T18:19:14.384Z"
   },
   {
    "duration": 3,
    "start_time": "2022-01-15T18:19:14.390Z"
   },
   {
    "duration": 8,
    "start_time": "2022-01-15T18:19:14.394Z"
   },
   {
    "duration": 3,
    "start_time": "2022-01-15T18:19:14.427Z"
   },
   {
    "duration": 10,
    "start_time": "2022-01-15T18:19:14.431Z"
   },
   {
    "duration": 2901,
    "start_time": "2022-01-15T18:19:14.442Z"
   },
   {
    "duration": 2,
    "start_time": "2022-01-15T18:19:17.344Z"
   },
   {
    "duration": 10,
    "start_time": "2022-01-15T18:19:17.347Z"
   },
   {
    "duration": 3,
    "start_time": "2022-01-15T18:19:17.358Z"
   },
   {
    "duration": 11,
    "start_time": "2022-01-15T18:19:17.362Z"
   },
   {
    "duration": 5,
    "start_time": "2022-01-15T18:19:17.375Z"
   },
   {
    "duration": 13,
    "start_time": "2022-01-15T18:19:17.381Z"
   },
   {
    "duration": 34,
    "start_time": "2022-01-15T18:19:17.396Z"
   },
   {
    "duration": 9,
    "start_time": "2022-01-15T18:19:17.432Z"
   },
   {
    "duration": 10,
    "start_time": "2022-01-15T18:19:17.442Z"
   },
   {
    "duration": 9,
    "start_time": "2022-01-15T18:19:17.453Z"
   },
   {
    "duration": 7,
    "start_time": "2022-01-15T18:21:36.693Z"
   },
   {
    "duration": 188,
    "start_time": "2022-01-15T18:21:39.658Z"
   },
   {
    "duration": 7,
    "start_time": "2022-01-15T18:22:32.150Z"
   },
   {
    "duration": 6,
    "start_time": "2022-01-15T18:22:32.998Z"
   },
   {
    "duration": 11,
    "start_time": "2022-01-15T18:22:42.077Z"
   },
   {
    "duration": 8,
    "start_time": "2022-01-15T18:23:09.111Z"
   },
   {
    "duration": 9,
    "start_time": "2022-01-15T18:23:34.555Z"
   },
   {
    "duration": 7,
    "start_time": "2022-01-15T18:23:42.824Z"
   },
   {
    "duration": 7,
    "start_time": "2022-01-15T18:23:59.865Z"
   },
   {
    "duration": 7,
    "start_time": "2022-01-15T18:24:15.703Z"
   },
   {
    "duration": 16,
    "start_time": "2022-01-15T18:25:00.647Z"
   },
   {
    "duration": 17,
    "start_time": "2022-01-15T18:25:01.283Z"
   },
   {
    "duration": 16,
    "start_time": "2022-01-15T18:25:02.316Z"
   },
   {
    "duration": 3,
    "start_time": "2022-01-15T18:25:06.089Z"
   },
   {
    "duration": 3,
    "start_time": "2022-01-15T18:33:36.586Z"
   },
   {
    "duration": 24,
    "start_time": "2022-01-15T18:34:30.629Z"
   },
   {
    "duration": 190,
    "start_time": "2022-01-15T18:37:53.991Z"
   },
   {
    "duration": 638,
    "start_time": "2022-01-15T18:37:58.649Z"
   },
   {
    "duration": 195,
    "start_time": "2022-01-15T18:38:01.674Z"
   },
   {
    "duration": 9,
    "start_time": "2022-01-15T18:42:28.673Z"
   },
   {
    "duration": 11,
    "start_time": "2022-01-15T18:42:29.439Z"
   },
   {
    "duration": 6,
    "start_time": "2022-01-15T18:42:30.032Z"
   },
   {
    "duration": 7622,
    "start_time": "2022-01-15T18:43:13.742Z"
   },
   {
    "duration": 20,
    "start_time": "2022-01-15T18:43:21.366Z"
   },
   {
    "duration": 8858,
    "start_time": "2022-01-15T18:43:37.622Z"
   },
   {
    "duration": -190,
    "start_time": "2022-01-15T18:43:46.672Z"
   },
   {
    "duration": -174,
    "start_time": "2022-01-15T18:44:21.693Z"
   },
   {
    "duration": -182,
    "start_time": "2022-01-15T18:44:21.702Z"
   },
   {
    "duration": 20,
    "start_time": "2022-01-15T18:44:25.130Z"
   },
   {
    "duration": 201,
    "start_time": "2022-01-15T18:44:27.097Z"
   },
   {
    "duration": 1157,
    "start_time": "2022-01-15T18:44:58.475Z"
   },
   {
    "duration": 43,
    "start_time": "2022-01-15T18:44:59.634Z"
   },
   {
    "duration": 4,
    "start_time": "2022-01-15T18:44:59.679Z"
   },
   {
    "duration": 12,
    "start_time": "2022-01-15T18:44:59.685Z"
   },
   {
    "duration": 9,
    "start_time": "2022-01-15T18:44:59.699Z"
   },
   {
    "duration": 27,
    "start_time": "2022-01-15T18:44:59.709Z"
   },
   {
    "duration": 6,
    "start_time": "2022-01-15T18:44:59.737Z"
   },
   {
    "duration": 4,
    "start_time": "2022-01-15T18:44:59.745Z"
   },
   {
    "duration": 6,
    "start_time": "2022-01-15T18:44:59.751Z"
   },
   {
    "duration": 6,
    "start_time": "2022-01-15T18:44:59.758Z"
   },
   {
    "duration": 14,
    "start_time": "2022-01-15T18:44:59.766Z"
   },
   {
    "duration": 6,
    "start_time": "2022-01-15T18:44:59.781Z"
   },
   {
    "duration": 37,
    "start_time": "2022-01-15T18:44:59.789Z"
   },
   {
    "duration": 9,
    "start_time": "2022-01-15T18:44:59.828Z"
   },
   {
    "duration": 8,
    "start_time": "2022-01-15T18:44:59.838Z"
   },
   {
    "duration": 4,
    "start_time": "2022-01-15T18:44:59.848Z"
   },
   {
    "duration": 8,
    "start_time": "2022-01-15T18:44:59.854Z"
   },
   {
    "duration": 4,
    "start_time": "2022-01-15T18:44:59.863Z"
   },
   {
    "duration": 6,
    "start_time": "2022-01-15T18:44:59.868Z"
   },
   {
    "duration": 241,
    "start_time": "2022-01-15T18:44:59.876Z"
   },
   {
    "duration": 11,
    "start_time": "2022-01-15T18:45:00.118Z"
   },
   {
    "duration": 14,
    "start_time": "2022-01-15T18:45:00.131Z"
   },
   {
    "duration": 4,
    "start_time": "2022-01-15T18:45:00.149Z"
   },
   {
    "duration": 6,
    "start_time": "2022-01-15T18:45:00.156Z"
   },
   {
    "duration": 5,
    "start_time": "2022-01-15T18:45:00.164Z"
   },
   {
    "duration": 8,
    "start_time": "2022-01-15T18:45:00.171Z"
   },
   {
    "duration": 7,
    "start_time": "2022-01-15T18:45:00.180Z"
   },
   {
    "duration": 8,
    "start_time": "2022-01-15T18:45:00.188Z"
   },
   {
    "duration": 98,
    "start_time": "2022-01-15T18:45:00.197Z"
   },
   {
    "duration": 12,
    "start_time": "2022-01-15T18:45:00.297Z"
   },
   {
    "duration": 27,
    "start_time": "2022-01-15T18:45:00.311Z"
   },
   {
    "duration": 3,
    "start_time": "2022-01-15T18:45:00.340Z"
   },
   {
    "duration": 6,
    "start_time": "2022-01-15T18:45:00.344Z"
   },
   {
    "duration": 8,
    "start_time": "2022-01-15T18:45:00.351Z"
   },
   {
    "duration": 12,
    "start_time": "2022-01-15T18:45:00.361Z"
   },
   {
    "duration": 12,
    "start_time": "2022-01-15T18:45:00.374Z"
   },
   {
    "duration": 40,
    "start_time": "2022-01-15T18:45:00.387Z"
   },
   {
    "duration": 185,
    "start_time": "2022-01-15T18:45:00.428Z"
   },
   {
    "duration": 16,
    "start_time": "2022-01-15T18:45:00.615Z"
   },
   {
    "duration": 4,
    "start_time": "2022-01-15T18:45:00.632Z"
   },
   {
    "duration": 9,
    "start_time": "2022-01-15T18:45:00.638Z"
   },
   {
    "duration": 23,
    "start_time": "2022-01-15T18:45:00.649Z"
   },
   {
    "duration": 8,
    "start_time": "2022-01-15T18:45:00.673Z"
   },
   {
    "duration": 210,
    "start_time": "2022-01-15T18:45:00.682Z"
   },
   {
    "duration": 10,
    "start_time": "2022-01-15T18:45:00.893Z"
   },
   {
    "duration": 4,
    "start_time": "2022-01-15T18:45:00.905Z"
   },
   {
    "duration": 7,
    "start_time": "2022-01-15T18:45:00.911Z"
   },
   {
    "duration": 5,
    "start_time": "2022-01-15T18:45:00.928Z"
   },
   {
    "duration": 5,
    "start_time": "2022-01-15T18:45:00.934Z"
   },
   {
    "duration": 5,
    "start_time": "2022-01-15T18:45:00.940Z"
   },
   {
    "duration": 5,
    "start_time": "2022-01-15T18:45:00.947Z"
   },
   {
    "duration": 5,
    "start_time": "2022-01-15T18:45:00.954Z"
   },
   {
    "duration": 6,
    "start_time": "2022-01-15T18:45:00.961Z"
   },
   {
    "duration": 8,
    "start_time": "2022-01-15T18:45:00.968Z"
   },
   {
    "duration": 3,
    "start_time": "2022-01-15T18:45:00.977Z"
   },
   {
    "duration": 4,
    "start_time": "2022-01-15T18:45:00.982Z"
   },
   {
    "duration": 2880,
    "start_time": "2022-01-15T18:45:00.988Z"
   },
   {
    "duration": 2,
    "start_time": "2022-01-15T18:45:03.870Z"
   },
   {
    "duration": 9,
    "start_time": "2022-01-15T18:45:03.873Z"
   },
   {
    "duration": 3,
    "start_time": "2022-01-15T18:45:03.884Z"
   },
   {
    "duration": 11,
    "start_time": "2022-01-15T18:45:03.888Z"
   },
   {
    "duration": 6,
    "start_time": "2022-01-15T18:45:03.900Z"
   },
   {
    "duration": 11,
    "start_time": "2022-01-15T18:45:03.927Z"
   },
   {
    "duration": 3,
    "start_time": "2022-01-15T18:45:03.939Z"
   },
   {
    "duration": 10,
    "start_time": "2022-01-15T18:45:03.944Z"
   },
   {
    "duration": 8,
    "start_time": "2022-01-15T18:45:03.955Z"
   },
   {
    "duration": 7,
    "start_time": "2022-01-15T18:45:03.965Z"
   },
   {
    "duration": 8,
    "start_time": "2022-01-15T18:45:10.393Z"
   },
   {
    "duration": 11,
    "start_time": "2022-01-15T18:45:22.216Z"
   },
   {
    "duration": 7979,
    "start_time": "2022-01-15T18:45:32.948Z"
   },
   {
    "duration": 20,
    "start_time": "2022-01-15T18:45:40.928Z"
   },
   {
    "duration": 8896,
    "start_time": "2022-01-15T18:45:47.421Z"
   },
   {
    "duration": -139,
    "start_time": "2022-01-15T18:45:56.459Z"
   },
   {
    "duration": 1160,
    "start_time": "2022-01-15T18:46:11.163Z"
   },
   {
    "duration": 42,
    "start_time": "2022-01-15T18:46:12.324Z"
   },
   {
    "duration": 5,
    "start_time": "2022-01-15T18:46:12.368Z"
   },
   {
    "duration": 24,
    "start_time": "2022-01-15T18:46:12.374Z"
   },
   {
    "duration": 12,
    "start_time": "2022-01-15T18:46:12.399Z"
   },
   {
    "duration": 22,
    "start_time": "2022-01-15T18:46:12.413Z"
   },
   {
    "duration": 7,
    "start_time": "2022-01-15T18:46:12.437Z"
   },
   {
    "duration": 4,
    "start_time": "2022-01-15T18:46:12.445Z"
   },
   {
    "duration": 15,
    "start_time": "2022-01-15T18:46:12.451Z"
   },
   {
    "duration": 8,
    "start_time": "2022-01-15T18:46:12.467Z"
   },
   {
    "duration": 27,
    "start_time": "2022-01-15T18:46:12.477Z"
   },
   {
    "duration": 16,
    "start_time": "2022-01-15T18:46:12.506Z"
   },
   {
    "duration": 15,
    "start_time": "2022-01-15T18:46:12.524Z"
   },
   {
    "duration": 23,
    "start_time": "2022-01-15T18:46:12.541Z"
   },
   {
    "duration": 8,
    "start_time": "2022-01-15T18:46:12.566Z"
   },
   {
    "duration": 5,
    "start_time": "2022-01-15T18:46:12.576Z"
   },
   {
    "duration": 7,
    "start_time": "2022-01-15T18:46:12.583Z"
   },
   {
    "duration": 7,
    "start_time": "2022-01-15T18:46:12.591Z"
   },
   {
    "duration": 11,
    "start_time": "2022-01-15T18:46:12.599Z"
   },
   {
    "duration": 208,
    "start_time": "2022-01-15T18:46:12.611Z"
   },
   {
    "duration": 6,
    "start_time": "2022-01-15T18:46:12.821Z"
   },
   {
    "duration": 11,
    "start_time": "2022-01-15T18:46:12.829Z"
   },
   {
    "duration": 5,
    "start_time": "2022-01-15T18:46:12.841Z"
   },
   {
    "duration": 6,
    "start_time": "2022-01-15T18:46:12.848Z"
   },
   {
    "duration": 7,
    "start_time": "2022-01-15T18:46:12.855Z"
   },
   {
    "duration": 15,
    "start_time": "2022-01-15T18:46:12.863Z"
   },
   {
    "duration": 6,
    "start_time": "2022-01-15T18:46:12.949Z"
   },
   {
    "duration": 8,
    "start_time": "2022-01-15T18:46:12.957Z"
   },
   {
    "duration": 16,
    "start_time": "2022-01-15T18:46:12.966Z"
   },
   {
    "duration": 12,
    "start_time": "2022-01-15T18:46:12.984Z"
   },
   {
    "duration": 32,
    "start_time": "2022-01-15T18:46:12.998Z"
   },
   {
    "duration": 3,
    "start_time": "2022-01-15T18:46:13.032Z"
   },
   {
    "duration": 3,
    "start_time": "2022-01-15T18:46:13.037Z"
   },
   {
    "duration": 8,
    "start_time": "2022-01-15T18:46:13.042Z"
   },
   {
    "duration": 9,
    "start_time": "2022-01-15T18:46:13.051Z"
   },
   {
    "duration": 7,
    "start_time": "2022-01-15T18:46:13.061Z"
   },
   {
    "duration": 24,
    "start_time": "2022-01-15T18:46:13.070Z"
   },
   {
    "duration": 218,
    "start_time": "2022-01-15T18:46:13.095Z"
   },
   {
    "duration": 16,
    "start_time": "2022-01-15T18:46:13.314Z"
   },
   {
    "duration": 4,
    "start_time": "2022-01-15T18:46:13.332Z"
   },
   {
    "duration": 7,
    "start_time": "2022-01-15T18:46:13.337Z"
   },
   {
    "duration": 20,
    "start_time": "2022-01-15T18:46:13.346Z"
   },
   {
    "duration": 9,
    "start_time": "2022-01-15T18:46:13.367Z"
   },
   {
    "duration": 10,
    "start_time": "2022-01-15T18:46:13.377Z"
   },
   {
    "duration": 40,
    "start_time": "2022-01-15T18:46:13.389Z"
   },
   {
    "duration": 4,
    "start_time": "2022-01-15T18:46:13.431Z"
   },
   {
    "duration": 4,
    "start_time": "2022-01-15T18:46:13.437Z"
   },
   {
    "duration": 5,
    "start_time": "2022-01-15T18:46:13.442Z"
   },
   {
    "duration": 6,
    "start_time": "2022-01-15T18:46:13.448Z"
   },
   {
    "duration": 4,
    "start_time": "2022-01-15T18:46:13.455Z"
   },
   {
    "duration": 4,
    "start_time": "2022-01-15T18:46:13.461Z"
   },
   {
    "duration": 4,
    "start_time": "2022-01-15T18:46:13.466Z"
   },
   {
    "duration": 4,
    "start_time": "2022-01-15T18:46:13.472Z"
   },
   {
    "duration": 7,
    "start_time": "2022-01-15T18:46:13.477Z"
   },
   {
    "duration": 3,
    "start_time": "2022-01-15T18:46:13.486Z"
   },
   {
    "duration": 38,
    "start_time": "2022-01-15T18:46:13.490Z"
   },
   {
    "duration": 2870,
    "start_time": "2022-01-15T18:46:13.529Z"
   },
   {
    "duration": 3,
    "start_time": "2022-01-15T18:46:16.401Z"
   },
   {
    "duration": 22,
    "start_time": "2022-01-15T18:46:16.406Z"
   },
   {
    "duration": 3,
    "start_time": "2022-01-15T18:46:16.430Z"
   },
   {
    "duration": 9,
    "start_time": "2022-01-15T18:46:16.435Z"
   },
   {
    "duration": 6,
    "start_time": "2022-01-15T18:46:16.446Z"
   },
   {
    "duration": 13,
    "start_time": "2022-01-15T18:46:16.454Z"
   },
   {
    "duration": 4,
    "start_time": "2022-01-15T18:46:16.468Z"
   },
   {
    "duration": 10,
    "start_time": "2022-01-15T18:46:16.473Z"
   },
   {
    "duration": 43,
    "start_time": "2022-01-15T18:46:16.484Z"
   },
   {
    "duration": 10,
    "start_time": "2022-01-15T18:46:16.528Z"
   },
   {
    "duration": 1325,
    "start_time": "2022-01-15T18:47:13.209Z"
   },
   {
    "duration": 44,
    "start_time": "2022-01-15T18:47:14.536Z"
   },
   {
    "duration": 5,
    "start_time": "2022-01-15T18:47:14.581Z"
   },
   {
    "duration": 30,
    "start_time": "2022-01-15T18:47:14.587Z"
   },
   {
    "duration": 12,
    "start_time": "2022-01-15T18:47:14.618Z"
   },
   {
    "duration": 23,
    "start_time": "2022-01-15T18:47:14.632Z"
   },
   {
    "duration": 8,
    "start_time": "2022-01-15T18:47:14.656Z"
   },
   {
    "duration": 4,
    "start_time": "2022-01-15T18:47:14.665Z"
   },
   {
    "duration": 15,
    "start_time": "2022-01-15T18:47:14.672Z"
   },
   {
    "duration": 9,
    "start_time": "2022-01-15T18:47:14.689Z"
   },
   {
    "duration": 8,
    "start_time": "2022-01-15T18:47:14.699Z"
   },
   {
    "duration": 23,
    "start_time": "2022-01-15T18:47:14.708Z"
   },
   {
    "duration": 7,
    "start_time": "2022-01-15T18:47:14.733Z"
   },
   {
    "duration": 12,
    "start_time": "2022-01-15T18:47:14.741Z"
   },
   {
    "duration": 8,
    "start_time": "2022-01-15T18:47:14.754Z"
   },
   {
    "duration": 6,
    "start_time": "2022-01-15T18:47:14.764Z"
   },
   {
    "duration": 7,
    "start_time": "2022-01-15T18:47:14.771Z"
   },
   {
    "duration": 7,
    "start_time": "2022-01-15T18:47:14.779Z"
   },
   {
    "duration": 6,
    "start_time": "2022-01-15T18:47:14.787Z"
   },
   {
    "duration": 209,
    "start_time": "2022-01-15T18:47:14.827Z"
   },
   {
    "duration": 6,
    "start_time": "2022-01-15T18:47:15.038Z"
   },
   {
    "duration": 24,
    "start_time": "2022-01-15T18:47:15.045Z"
   },
   {
    "duration": 4,
    "start_time": "2022-01-15T18:47:15.071Z"
   },
   {
    "duration": 7,
    "start_time": "2022-01-15T18:47:15.077Z"
   },
   {
    "duration": 9,
    "start_time": "2022-01-15T18:47:15.085Z"
   },
   {
    "duration": 10,
    "start_time": "2022-01-15T18:47:15.095Z"
   },
   {
    "duration": 5,
    "start_time": "2022-01-15T18:47:15.175Z"
   },
   {
    "duration": 7,
    "start_time": "2022-01-15T18:47:15.182Z"
   },
   {
    "duration": 16,
    "start_time": "2022-01-15T18:47:15.191Z"
   },
   {
    "duration": 25,
    "start_time": "2022-01-15T18:47:15.209Z"
   },
   {
    "duration": 12,
    "start_time": "2022-01-15T18:47:15.236Z"
   },
   {
    "duration": 3,
    "start_time": "2022-01-15T18:47:15.249Z"
   },
   {
    "duration": 4,
    "start_time": "2022-01-15T18:47:15.254Z"
   },
   {
    "duration": 6,
    "start_time": "2022-01-15T18:47:15.259Z"
   },
   {
    "duration": 11,
    "start_time": "2022-01-15T18:47:15.266Z"
   },
   {
    "duration": 12,
    "start_time": "2022-01-15T18:47:15.279Z"
   },
   {
    "duration": 46,
    "start_time": "2022-01-15T18:47:15.293Z"
   },
   {
    "duration": 189,
    "start_time": "2022-01-15T18:47:15.341Z"
   },
   {
    "duration": 7,
    "start_time": "2022-01-15T18:47:15.531Z"
   },
   {
    "duration": 3,
    "start_time": "2022-01-15T18:47:15.540Z"
   },
   {
    "duration": 5,
    "start_time": "2022-01-15T18:47:15.545Z"
   },
   {
    "duration": 18,
    "start_time": "2022-01-15T18:47:15.552Z"
   },
   {
    "duration": 6,
    "start_time": "2022-01-15T18:47:15.572Z"
   },
   {
    "duration": 13,
    "start_time": "2022-01-15T18:47:15.580Z"
   },
   {
    "duration": 37,
    "start_time": "2022-01-15T18:47:15.594Z"
   },
   {
    "duration": 2,
    "start_time": "2022-01-15T18:47:15.632Z"
   },
   {
    "duration": 4,
    "start_time": "2022-01-15T18:47:15.636Z"
   },
   {
    "duration": 4,
    "start_time": "2022-01-15T18:47:15.641Z"
   },
   {
    "duration": 4,
    "start_time": "2022-01-15T18:47:15.646Z"
   },
   {
    "duration": 4,
    "start_time": "2022-01-15T18:47:15.652Z"
   },
   {
    "duration": 9,
    "start_time": "2022-01-15T18:47:15.658Z"
   },
   {
    "duration": 5,
    "start_time": "2022-01-15T18:47:15.669Z"
   },
   {
    "duration": 4,
    "start_time": "2022-01-15T18:47:15.675Z"
   },
   {
    "duration": 7,
    "start_time": "2022-01-15T18:47:15.680Z"
   },
   {
    "duration": 3,
    "start_time": "2022-01-15T18:47:15.688Z"
   },
   {
    "duration": 7,
    "start_time": "2022-01-15T18:47:15.692Z"
   },
   {
    "duration": 2869,
    "start_time": "2022-01-15T18:47:15.700Z"
   },
   {
    "duration": 2,
    "start_time": "2022-01-15T18:47:18.571Z"
   },
   {
    "duration": 10,
    "start_time": "2022-01-15T18:47:18.574Z"
   },
   {
    "duration": 3,
    "start_time": "2022-01-15T18:47:18.585Z"
   },
   {
    "duration": 11,
    "start_time": "2022-01-15T18:47:18.590Z"
   },
   {
    "duration": 24,
    "start_time": "2022-01-15T18:47:18.603Z"
   },
   {
    "duration": 10,
    "start_time": "2022-01-15T18:47:18.629Z"
   },
   {
    "duration": 4,
    "start_time": "2022-01-15T18:47:18.640Z"
   },
   {
    "duration": 12,
    "start_time": "2022-01-15T18:47:18.645Z"
   },
   {
    "duration": 8,
    "start_time": "2022-01-15T18:47:18.658Z"
   },
   {
    "duration": 9,
    "start_time": "2022-01-15T18:47:18.667Z"
   },
   {
    "duration": 5,
    "start_time": "2022-01-15T18:52:52.559Z"
   },
   {
    "duration": 5,
    "start_time": "2022-01-15T18:53:01.299Z"
   },
   {
    "duration": 2,
    "start_time": "2022-01-15T18:53:02.465Z"
   },
   {
    "duration": 4,
    "start_time": "2022-01-15T18:56:20.419Z"
   },
   {
    "duration": 1636,
    "start_time": "2022-01-15T18:56:21.650Z"
   },
   {
    "duration": 105,
    "start_time": "2022-01-15T18:58:54.036Z"
   },
   {
    "duration": 3,
    "start_time": "2022-01-15T19:00:12.654Z"
   },
   {
    "duration": 8,
    "start_time": "2022-01-15T19:00:18.190Z"
   },
   {
    "duration": 8,
    "start_time": "2022-01-15T19:00:20.908Z"
   },
   {
    "duration": 9,
    "start_time": "2022-01-15T19:00:44.045Z"
   },
   {
    "duration": 9,
    "start_time": "2022-01-15T19:03:35.023Z"
   },
   {
    "duration": 10,
    "start_time": "2022-01-15T19:03:50.062Z"
   },
   {
    "duration": 10,
    "start_time": "2022-01-15T19:05:52.122Z"
   },
   {
    "duration": 430,
    "start_time": "2022-01-15T19:06:38.305Z"
   },
   {
    "duration": 10,
    "start_time": "2022-01-15T19:06:45.155Z"
   },
   {
    "duration": 13,
    "start_time": "2022-01-15T19:10:44.080Z"
   },
   {
    "duration": 10,
    "start_time": "2022-01-15T19:10:56.539Z"
   },
   {
    "duration": 426,
    "start_time": "2022-01-15T19:11:08.382Z"
   },
   {
    "duration": 500,
    "start_time": "2022-01-15T19:11:16.827Z"
   },
   {
    "duration": 11,
    "start_time": "2022-01-15T19:11:20.347Z"
   },
   {
    "duration": 1195,
    "start_time": "2022-01-15T19:45:42.025Z"
   },
   {
    "duration": 44,
    "start_time": "2022-01-15T19:45:43.221Z"
   },
   {
    "duration": 5,
    "start_time": "2022-01-15T19:45:46.469Z"
   },
   {
    "duration": 16,
    "start_time": "2022-01-15T19:45:47.261Z"
   },
   {
    "duration": 11,
    "start_time": "2022-01-15T19:45:54.021Z"
   },
   {
    "duration": 19,
    "start_time": "2022-01-15T19:45:56.669Z"
   },
   {
    "duration": 7,
    "start_time": "2022-01-15T19:46:01.051Z"
   },
   {
    "duration": 5,
    "start_time": "2022-01-15T19:46:02.364Z"
   },
   {
    "duration": 7,
    "start_time": "2022-01-15T19:46:07.005Z"
   },
   {
    "duration": 7,
    "start_time": "2022-01-15T19:46:13.526Z"
   },
   {
    "duration": 7,
    "start_time": "2022-01-15T19:46:15.357Z"
   },
   {
    "duration": 6,
    "start_time": "2022-01-15T19:46:15.723Z"
   },
   {
    "duration": 6,
    "start_time": "2022-01-15T19:46:33.550Z"
   },
   {
    "duration": 10,
    "start_time": "2022-01-15T19:46:36.013Z"
   },
   {
    "duration": 6,
    "start_time": "2022-01-15T19:46:40.277Z"
   },
   {
    "duration": 5,
    "start_time": "2022-01-15T19:46:42.054Z"
   },
   {
    "duration": 8,
    "start_time": "2022-01-15T19:46:44.802Z"
   },
   {
    "duration": 7,
    "start_time": "2022-01-15T19:46:48.024Z"
   },
   {
    "duration": 4,
    "start_time": "2022-01-15T19:46:48.658Z"
   },
   {
    "duration": 5,
    "start_time": "2022-01-15T19:46:49.627Z"
   },
   {
    "duration": 212,
    "start_time": "2022-01-15T19:46:53.979Z"
   },
   {
    "duration": 6,
    "start_time": "2022-01-15T19:46:57.278Z"
   },
   {
    "duration": 487,
    "start_time": "2022-01-15T19:47:30.912Z"
   },
   {
    "duration": 370,
    "start_time": "2022-01-15T19:48:01.220Z"
   },
   {
    "duration": 433,
    "start_time": "2022-01-15T19:48:10.588Z"
   },
   {
    "duration": 10,
    "start_time": "2022-01-15T19:48:26.952Z"
   },
   {
    "duration": 5,
    "start_time": "2022-01-15T19:48:38.791Z"
   },
   {
    "duration": 5,
    "start_time": "2022-01-15T19:48:47.375Z"
   },
   {
    "duration": 8,
    "start_time": "2022-01-15T19:48:50.670Z"
   },
   {
    "duration": 6,
    "start_time": "2022-01-15T19:48:55.144Z"
   },
   {
    "duration": 7,
    "start_time": "2022-01-15T19:48:56.974Z"
   },
   {
    "duration": 71,
    "start_time": "2022-01-15T19:49:02.238Z"
   },
   {
    "duration": 14,
    "start_time": "2022-01-15T19:49:03.024Z"
   },
   {
    "duration": 13,
    "start_time": "2022-01-15T19:49:04.170Z"
   },
   {
    "duration": 3,
    "start_time": "2022-01-15T19:49:04.851Z"
   },
   {
    "duration": 4,
    "start_time": "2022-01-15T19:49:13.348Z"
   },
   {
    "duration": 5,
    "start_time": "2022-01-15T19:49:13.589Z"
   },
   {
    "duration": 7,
    "start_time": "2022-01-15T19:49:13.804Z"
   },
   {
    "duration": 9,
    "start_time": "2022-01-15T19:49:14.014Z"
   },
   {
    "duration": 26,
    "start_time": "2022-01-15T19:49:14.738Z"
   },
   {
    "duration": 189,
    "start_time": "2022-01-15T19:49:15.587Z"
   },
   {
    "duration": 8,
    "start_time": "2022-01-15T19:49:17.627Z"
   },
   {
    "duration": 5,
    "start_time": "2022-01-15T19:49:18.290Z"
   },
   {
    "duration": 6,
    "start_time": "2022-01-15T19:49:20.266Z"
   },
   {
    "duration": 20,
    "start_time": "2022-01-15T19:49:22.130Z"
   },
   {
    "duration": 8,
    "start_time": "2022-01-15T19:49:22.432Z"
   },
   {
    "duration": 11,
    "start_time": "2022-01-15T19:49:22.784Z"
   },
   {
    "duration": 5,
    "start_time": "2022-01-15T19:49:30.626Z"
   },
   {
    "duration": 3,
    "start_time": "2022-01-15T19:49:31.352Z"
   },
   {
    "duration": 4,
    "start_time": "2022-01-15T19:49:32.988Z"
   },
   {
    "duration": 2887,
    "start_time": "2022-01-15T19:49:33.397Z"
   },
   {
    "duration": 8,
    "start_time": "2022-01-15T19:49:36.286Z"
   },
   {
    "duration": 3,
    "start_time": "2022-01-15T19:49:38.413Z"
   },
   {
    "duration": 9,
    "start_time": "2022-01-15T19:49:39.874Z"
   },
   {
    "duration": 7,
    "start_time": "2022-01-15T19:49:40.324Z"
   },
   {
    "duration": 11,
    "start_time": "2022-01-15T19:49:43.571Z"
   },
   {
    "duration": 10,
    "start_time": "2022-01-15T19:49:44.233Z"
   },
   {
    "duration": 10,
    "start_time": "2022-01-15T19:49:44.903Z"
   },
   {
    "duration": 10,
    "start_time": "2022-01-15T19:49:46.396Z"
   },
   {
    "duration": 3502,
    "start_time": "2022-01-16T16:39:42.297Z"
   },
   {
    "duration": 283,
    "start_time": "2022-01-16T16:39:45.802Z"
   },
   {
    "duration": 7,
    "start_time": "2022-01-16T16:39:46.088Z"
   },
   {
    "duration": 22,
    "start_time": "2022-01-16T16:39:46.097Z"
   },
   {
    "duration": 50,
    "start_time": "2022-01-16T16:39:46.121Z"
   },
   {
    "duration": 31,
    "start_time": "2022-01-16T16:39:46.174Z"
   },
   {
    "duration": 11,
    "start_time": "2022-01-16T16:39:46.207Z"
   },
   {
    "duration": 43,
    "start_time": "2022-01-16T16:39:46.223Z"
   },
   {
    "duration": 10,
    "start_time": "2022-01-16T16:39:46.270Z"
   },
   {
    "duration": 8,
    "start_time": "2022-01-16T16:39:46.283Z"
   },
   {
    "duration": 12,
    "start_time": "2022-01-16T16:39:46.294Z"
   },
   {
    "duration": 60,
    "start_time": "2022-01-16T16:39:46.309Z"
   },
   {
    "duration": 8,
    "start_time": "2022-01-16T16:39:46.372Z"
   },
   {
    "duration": 14,
    "start_time": "2022-01-16T16:39:46.383Z"
   },
   {
    "duration": 11,
    "start_time": "2022-01-16T16:39:46.401Z"
   },
   {
    "duration": 54,
    "start_time": "2022-01-16T16:39:46.415Z"
   },
   {
    "duration": 13,
    "start_time": "2022-01-16T16:39:46.473Z"
   },
   {
    "duration": 6,
    "start_time": "2022-01-16T16:39:46.489Z"
   },
   {
    "duration": 13,
    "start_time": "2022-01-16T16:39:46.497Z"
   },
   {
    "duration": 772,
    "start_time": "2022-01-16T16:39:46.514Z"
   },
   {
    "duration": 21,
    "start_time": "2022-01-16T16:39:47.289Z"
   },
   {
    "duration": 49,
    "start_time": "2022-01-16T16:39:47.313Z"
   },
   {
    "duration": 32,
    "start_time": "2022-01-16T16:39:47.402Z"
   },
   {
    "duration": 28,
    "start_time": "2022-01-16T16:39:47.450Z"
   },
   {
    "duration": 32,
    "start_time": "2022-01-16T16:39:47.494Z"
   },
   {
    "duration": 39,
    "start_time": "2022-01-16T16:39:47.542Z"
   },
   {
    "duration": 41,
    "start_time": "2022-01-16T16:39:47.585Z"
   },
   {
    "duration": 28,
    "start_time": "2022-01-16T16:39:47.630Z"
   },
   {
    "duration": 72,
    "start_time": "2022-01-16T16:39:47.662Z"
   },
   {
    "duration": 73,
    "start_time": "2022-01-16T16:39:47.737Z"
   },
   {
    "duration": 41,
    "start_time": "2022-01-16T16:39:47.814Z"
   },
   {
    "duration": 17,
    "start_time": "2022-01-16T16:39:47.859Z"
   },
   {
    "duration": 6,
    "start_time": "2022-01-16T16:39:47.880Z"
   },
   {
    "duration": 9,
    "start_time": "2022-01-16T16:39:47.888Z"
   },
   {
    "duration": 13,
    "start_time": "2022-01-16T16:39:47.900Z"
   },
   {
    "duration": 9,
    "start_time": "2022-01-16T16:39:47.916Z"
   },
   {
    "duration": 69,
    "start_time": "2022-01-16T16:39:47.927Z"
   },
   {
    "duration": 400,
    "start_time": "2022-01-16T16:39:47.998Z"
   },
   {
    "duration": 14,
    "start_time": "2022-01-16T16:39:48.400Z"
   },
   {
    "duration": 8,
    "start_time": "2022-01-16T16:39:48.416Z"
   },
   {
    "duration": 43,
    "start_time": "2022-01-16T16:39:48.427Z"
   },
   {
    "duration": 31,
    "start_time": "2022-01-16T16:39:48.473Z"
   },
   {
    "duration": 17,
    "start_time": "2022-01-16T16:39:48.507Z"
   },
   {
    "duration": 50,
    "start_time": "2022-01-16T16:39:48.527Z"
   },
   {
    "duration": 9,
    "start_time": "2022-01-16T16:39:48.581Z"
   },
   {
    "duration": 6,
    "start_time": "2022-01-16T16:39:48.593Z"
   },
   {
    "duration": 8,
    "start_time": "2022-01-16T16:39:48.602Z"
   },
   {
    "duration": 7256,
    "start_time": "2022-01-16T16:39:48.613Z"
   },
   {
    "duration": 13,
    "start_time": "2022-01-16T16:39:55.872Z"
   },
   {
    "duration": 6,
    "start_time": "2022-01-16T16:39:55.888Z"
   },
   {
    "duration": 22,
    "start_time": "2022-01-16T16:39:55.897Z"
   },
   {
    "duration": 44,
    "start_time": "2022-01-16T16:39:55.922Z"
   },
   {
    "duration": 16,
    "start_time": "2022-01-16T16:39:55.968Z"
   },
   {
    "duration": 16,
    "start_time": "2022-01-16T16:39:55.987Z"
   },
   {
    "duration": 13,
    "start_time": "2022-01-16T16:39:56.005Z"
   },
   {
    "duration": 14,
    "start_time": "2022-01-16T16:39:56.063Z"
   },
   {
    "duration": 26,
    "start_time": "2022-01-16T18:02:19.506Z"
   },
   {
    "duration": 4,
    "start_time": "2022-01-16T18:02:22.852Z"
   },
   {
    "duration": 65,
    "start_time": "2022-01-16T18:02:22.859Z"
   },
   {
    "duration": 6,
    "start_time": "2022-01-16T18:02:22.927Z"
   },
   {
    "duration": 30,
    "start_time": "2022-01-16T18:02:22.936Z"
   },
   {
    "duration": 23,
    "start_time": "2022-01-16T18:02:22.969Z"
   },
   {
    "duration": 32,
    "start_time": "2022-01-16T18:02:22.994Z"
   },
   {
    "duration": 14,
    "start_time": "2022-01-16T18:02:23.062Z"
   },
   {
    "duration": 8,
    "start_time": "2022-01-16T18:02:23.080Z"
   },
   {
    "duration": 18,
    "start_time": "2022-01-16T18:02:23.093Z"
   },
   {
    "duration": 19,
    "start_time": "2022-01-16T18:02:23.114Z"
   },
   {
    "duration": 24,
    "start_time": "2022-01-16T18:02:24.750Z"
   },
   {
    "duration": 968,
    "start_time": "2022-01-16T18:11:11.617Z"
   },
   {
    "duration": 1182,
    "start_time": "2022-01-16T18:11:35.718Z"
   },
   {
    "duration": 625,
    "start_time": "2022-01-16T18:14:51.194Z"
   },
   {
    "duration": 24,
    "start_time": "2022-01-16T18:14:55.064Z"
   },
   {
    "duration": 6,
    "start_time": "2022-01-16T18:15:45.464Z"
   },
   {
    "duration": 102,
    "start_time": "2022-01-16T18:15:45.474Z"
   },
   {
    "duration": 5,
    "start_time": "2022-01-16T18:15:45.579Z"
   },
   {
    "duration": 29,
    "start_time": "2022-01-16T18:15:45.587Z"
   },
   {
    "duration": 55,
    "start_time": "2022-01-16T18:15:45.619Z"
   },
   {
    "duration": 46,
    "start_time": "2022-01-16T18:15:45.677Z"
   },
   {
    "duration": 36,
    "start_time": "2022-01-16T18:15:45.727Z"
   },
   {
    "duration": 8,
    "start_time": "2022-01-16T18:15:45.769Z"
   },
   {
    "duration": 14,
    "start_time": "2022-01-16T18:15:45.780Z"
   },
   {
    "duration": 10,
    "start_time": "2022-01-16T18:15:45.796Z"
   },
   {
    "duration": 61,
    "start_time": "2022-01-16T18:15:45.809Z"
   },
   {
    "duration": 10,
    "start_time": "2022-01-16T18:15:45.873Z"
   },
   {
    "duration": 8,
    "start_time": "2022-01-16T18:15:45.885Z"
   },
   {
    "duration": 10,
    "start_time": "2022-01-16T18:15:45.895Z"
   },
   {
    "duration": 58,
    "start_time": "2022-01-16T18:15:45.907Z"
   },
   {
    "duration": 10,
    "start_time": "2022-01-16T18:15:45.968Z"
   },
   {
    "duration": 7,
    "start_time": "2022-01-16T18:15:45.980Z"
   },
   {
    "duration": 10,
    "start_time": "2022-01-16T18:15:45.989Z"
   },
   {
    "duration": 5,
    "start_time": "2022-01-16T18:15:46.002Z"
   },
   {
    "duration": 54,
    "start_time": "2022-01-16T18:15:46.010Z"
   },
   {
    "duration": 459,
    "start_time": "2022-01-16T18:15:46.067Z"
   },
   {
    "duration": 7,
    "start_time": "2022-01-16T18:15:46.529Z"
   },
   {
    "duration": 35,
    "start_time": "2022-01-16T18:15:46.544Z"
   },
   {
    "duration": 8,
    "start_time": "2022-01-16T18:15:46.584Z"
   },
   {
    "duration": 8,
    "start_time": "2022-01-16T18:15:46.595Z"
   },
   {
    "duration": 9,
    "start_time": "2022-01-16T18:15:46.607Z"
   },
   {
    "duration": 54,
    "start_time": "2022-01-16T18:15:46.620Z"
   },
   {
    "duration": 9,
    "start_time": "2022-01-16T18:15:46.676Z"
   },
   {
    "duration": 12,
    "start_time": "2022-01-16T18:15:46.687Z"
   },
   {
    "duration": 24,
    "start_time": "2022-01-16T18:15:46.702Z"
   },
   {
    "duration": 58,
    "start_time": "2022-01-16T18:15:46.728Z"
   },
   {
    "duration": 23,
    "start_time": "2022-01-16T18:15:46.789Z"
   },
   {
    "duration": 6,
    "start_time": "2022-01-16T18:15:46.814Z"
   },
   {
    "duration": 40,
    "start_time": "2022-01-16T18:15:46.822Z"
   },
   {
    "duration": 5,
    "start_time": "2022-01-16T18:15:46.865Z"
   },
   {
    "duration": 15,
    "start_time": "2022-01-16T18:15:46.872Z"
   },
   {
    "duration": 9,
    "start_time": "2022-01-16T18:15:46.889Z"
   },
   {
    "duration": 216,
    "start_time": "2022-01-16T18:15:46.900Z"
   },
   {
    "duration": 382,
    "start_time": "2022-01-16T18:15:47.119Z"
   },
   {
    "duration": 12,
    "start_time": "2022-01-16T18:15:47.503Z"
   },
   {
    "duration": 6,
    "start_time": "2022-01-16T18:15:47.517Z"
   },
   {
    "duration": 9,
    "start_time": "2022-01-16T18:15:47.526Z"
   },
   {
    "duration": 26,
    "start_time": "2022-01-16T18:15:47.564Z"
   },
   {
    "duration": 16,
    "start_time": "2022-01-16T18:15:47.592Z"
   },
   {
    "duration": 53,
    "start_time": "2022-01-16T18:15:47.611Z"
   },
   {
    "duration": 8,
    "start_time": "2022-01-16T18:15:47.667Z"
   },
   {
    "duration": 4,
    "start_time": "2022-01-16T18:15:47.678Z"
   },
   {
    "duration": 1620,
    "start_time": "2022-01-16T18:15:47.685Z"
   },
   {
    "duration": 7,
    "start_time": "2022-01-16T18:15:49.307Z"
   },
   {
    "duration": 3274,
    "start_time": "2022-01-16T18:15:49.317Z"
   },
   {
    "duration": 10,
    "start_time": "2022-01-16T18:15:52.593Z"
   },
   {
    "duration": 5,
    "start_time": "2022-01-16T18:15:52.606Z"
   },
   {
    "duration": 14,
    "start_time": "2022-01-16T18:15:52.613Z"
   },
   {
    "duration": 37,
    "start_time": "2022-01-16T18:15:52.630Z"
   },
   {
    "duration": 14,
    "start_time": "2022-01-16T18:15:52.670Z"
   },
   {
    "duration": 16,
    "start_time": "2022-01-16T18:15:52.686Z"
   },
   {
    "duration": 14,
    "start_time": "2022-01-16T18:15:52.705Z"
   },
   {
    "duration": 55,
    "start_time": "2022-01-16T18:15:52.721Z"
   },
   {
    "duration": 13,
    "start_time": "2022-01-16T18:15:52.778Z"
   },
   {
    "duration": 554,
    "start_time": "2022-01-23T11:45:30.807Z"
   },
   {
    "duration": 1760,
    "start_time": "2022-01-23T11:45:43.667Z"
   },
   {
    "duration": 57,
    "start_time": "2022-01-23T11:45:45.430Z"
   },
   {
    "duration": 8,
    "start_time": "2022-01-23T11:45:45.491Z"
   },
   {
    "duration": 26,
    "start_time": "2022-01-23T11:45:45.503Z"
   },
   {
    "duration": 48,
    "start_time": "2022-01-23T11:45:45.532Z"
   },
   {
    "duration": 35,
    "start_time": "2022-01-23T11:45:45.583Z"
   },
   {
    "duration": 42,
    "start_time": "2022-01-23T11:45:45.620Z"
   },
   {
    "duration": 6,
    "start_time": "2022-01-23T11:45:45.664Z"
   },
   {
    "duration": 15,
    "start_time": "2022-01-23T11:45:45.674Z"
   },
   {
    "duration": 11,
    "start_time": "2022-01-23T11:45:45.692Z"
   },
   {
    "duration": 62,
    "start_time": "2022-01-23T11:45:45.705Z"
   },
   {
    "duration": 9,
    "start_time": "2022-01-23T11:45:45.770Z"
   },
   {
    "duration": 16,
    "start_time": "2022-01-23T11:45:45.781Z"
   },
   {
    "duration": 10,
    "start_time": "2022-01-23T11:45:45.799Z"
   },
   {
    "duration": 53,
    "start_time": "2022-01-23T11:45:45.812Z"
   },
   {
    "duration": 14,
    "start_time": "2022-01-23T11:45:45.867Z"
   },
   {
    "duration": 8,
    "start_time": "2022-01-23T11:45:45.884Z"
   },
   {
    "duration": 13,
    "start_time": "2022-01-23T11:45:45.895Z"
   },
   {
    "duration": 6,
    "start_time": "2022-01-23T11:45:45.910Z"
   },
   {
    "duration": 8,
    "start_time": "2022-01-23T11:45:45.960Z"
   },
   {
    "duration": 662,
    "start_time": "2022-01-23T11:45:45.972Z"
   },
   {
    "duration": 9,
    "start_time": "2022-01-23T11:45:46.637Z"
   },
   {
    "duration": 14,
    "start_time": "2022-01-23T11:45:46.660Z"
   },
   {
    "duration": 6,
    "start_time": "2022-01-23T11:45:46.676Z"
   },
   {
    "duration": 12,
    "start_time": "2022-01-23T11:45:46.684Z"
   },
   {
    "duration": 11,
    "start_time": "2022-01-23T11:45:46.698Z"
   },
   {
    "duration": 56,
    "start_time": "2022-01-23T11:45:46.715Z"
   },
   {
    "duration": 10,
    "start_time": "2022-01-23T11:45:46.774Z"
   },
   {
    "duration": 11,
    "start_time": "2022-01-23T11:45:46.787Z"
   },
   {
    "duration": 26,
    "start_time": "2022-01-23T11:45:46.800Z"
   },
   {
    "duration": 59,
    "start_time": "2022-01-23T11:45:46.828Z"
   },
   {
    "duration": 20,
    "start_time": "2022-01-23T11:45:46.890Z"
   },
   {
    "duration": 5,
    "start_time": "2022-01-23T11:45:46.912Z"
   },
   {
    "duration": 6,
    "start_time": "2022-01-23T11:45:46.925Z"
   },
   {
    "duration": 40,
    "start_time": "2022-01-23T11:45:46.933Z"
   },
   {
    "duration": 85,
    "start_time": "2022-01-23T11:45:46.976Z"
   },
   {
    "duration": 10,
    "start_time": "2022-01-23T11:45:47.063Z"
   },
   {
    "duration": 34,
    "start_time": "2022-01-23T11:45:47.076Z"
   },
   {
    "duration": 380,
    "start_time": "2022-01-23T11:45:47.113Z"
   },
   {
    "duration": 12,
    "start_time": "2022-01-23T11:45:47.496Z"
   },
   {
    "duration": 6,
    "start_time": "2022-01-23T11:45:47.510Z"
   },
   {
    "duration": 42,
    "start_time": "2022-01-23T11:45:47.519Z"
   },
   {
    "duration": 43,
    "start_time": "2022-01-23T11:45:47.563Z"
   },
   {
    "duration": 13,
    "start_time": "2022-01-23T11:45:47.608Z"
   },
   {
    "duration": 44,
    "start_time": "2022-01-23T11:45:47.623Z"
   },
   {
    "duration": 7,
    "start_time": "2022-01-23T11:45:47.670Z"
   },
   {
    "duration": 4,
    "start_time": "2022-01-23T11:45:47.679Z"
   },
   {
    "duration": 1239,
    "start_time": "2022-01-23T11:45:47.685Z"
   },
   {
    "duration": 7,
    "start_time": "2022-01-23T11:45:48.927Z"
   },
   {
    "duration": 6343,
    "start_time": "2022-01-23T11:45:48.937Z"
   },
   {
    "duration": 13,
    "start_time": "2022-01-23T11:45:55.283Z"
   },
   {
    "duration": 5,
    "start_time": "2022-01-23T11:45:55.299Z"
   },
   {
    "duration": 17,
    "start_time": "2022-01-23T11:45:55.306Z"
   },
   {
    "duration": 48,
    "start_time": "2022-01-23T11:45:55.325Z"
   },
   {
    "duration": 602,
    "start_time": "2022-01-23T11:45:55.376Z"
   },
   {
    "duration": -228,
    "start_time": "2022-01-23T11:45:56.210Z"
   },
   {
    "duration": -229,
    "start_time": "2022-01-23T11:45:56.212Z"
   },
   {
    "duration": -229,
    "start_time": "2022-01-23T11:45:56.215Z"
   },
   {
    "duration": -235,
    "start_time": "2022-01-23T11:45:56.223Z"
   },
   {
    "duration": -235,
    "start_time": "2022-01-23T11:45:56.225Z"
   },
   {
    "duration": 508,
    "start_time": "2022-01-23T11:46:49.485Z"
   },
   {
    "duration": 408,
    "start_time": "2022-01-23T11:47:32.818Z"
   },
   {
    "duration": 13,
    "start_time": "2022-01-23T11:50:37.052Z"
   },
   {
    "duration": 14,
    "start_time": "2022-01-23T11:51:07.109Z"
   },
   {
    "duration": 10040,
    "start_time": "2022-01-23T11:55:29.244Z"
   },
   {
    "duration": 1663,
    "start_time": "2022-01-23T11:55:56.771Z"
   },
   {
    "duration": 56,
    "start_time": "2022-01-23T11:55:58.437Z"
   },
   {
    "duration": 7,
    "start_time": "2022-01-23T11:55:58.496Z"
   },
   {
    "duration": 20,
    "start_time": "2022-01-23T11:55:58.506Z"
   },
   {
    "duration": 37,
    "start_time": "2022-01-23T11:55:58.528Z"
   },
   {
    "duration": 32,
    "start_time": "2022-01-23T11:55:58.568Z"
   },
   {
    "duration": 10,
    "start_time": "2022-01-23T11:55:58.602Z"
   },
   {
    "duration": 6,
    "start_time": "2022-01-23T11:55:58.616Z"
   },
   {
    "duration": 11,
    "start_time": "2022-01-23T11:55:58.662Z"
   },
   {
    "duration": 9,
    "start_time": "2022-01-23T11:55:58.676Z"
   },
   {
    "duration": 28,
    "start_time": "2022-01-23T11:55:58.688Z"
   },
   {
    "duration": 44,
    "start_time": "2022-01-23T11:55:58.718Z"
   },
   {
    "duration": 10,
    "start_time": "2022-01-23T11:55:58.765Z"
   },
   {
    "duration": 14,
    "start_time": "2022-01-23T11:55:58.778Z"
   },
   {
    "duration": 14,
    "start_time": "2022-01-23T11:55:58.795Z"
   },
   {
    "duration": 10,
    "start_time": "2022-01-23T11:55:58.811Z"
   },
   {
    "duration": 7,
    "start_time": "2022-01-23T11:55:58.861Z"
   },
   {
    "duration": 13,
    "start_time": "2022-01-23T11:55:58.871Z"
   },
   {
    "duration": 5,
    "start_time": "2022-01-23T11:55:58.886Z"
   },
   {
    "duration": 11,
    "start_time": "2022-01-23T11:55:58.894Z"
   },
   {
    "duration": 495,
    "start_time": "2022-01-23T11:55:58.908Z"
   },
   {
    "duration": 7,
    "start_time": "2022-01-23T11:55:59.406Z"
   },
   {
    "duration": 15,
    "start_time": "2022-01-23T11:55:59.419Z"
   },
   {
    "duration": 8,
    "start_time": "2022-01-23T11:55:59.460Z"
   },
   {
    "duration": 8,
    "start_time": "2022-01-23T11:55:59.471Z"
   },
   {
    "duration": 10,
    "start_time": "2022-01-23T11:55:59.481Z"
   },
   {
    "duration": 13,
    "start_time": "2022-01-23T11:55:59.494Z"
   },
   {
    "duration": 9,
    "start_time": "2022-01-23T11:55:59.509Z"
   },
   {
    "duration": 9,
    "start_time": "2022-01-23T11:55:59.560Z"
   },
   {
    "duration": 23,
    "start_time": "2022-01-23T11:55:59.571Z"
   },
   {
    "duration": 23,
    "start_time": "2022-01-23T11:55:59.597Z"
   },
   {
    "duration": 54,
    "start_time": "2022-01-23T11:55:59.623Z"
   },
   {
    "duration": 5,
    "start_time": "2022-01-23T11:55:59.679Z"
   },
   {
    "duration": 5,
    "start_time": "2022-01-23T11:55:59.686Z"
   },
   {
    "duration": 104,
    "start_time": "2022-01-23T11:55:59.694Z"
   },
   {
    "duration": 13,
    "start_time": "2022-01-23T11:55:59.801Z"
   },
   {
    "duration": 10,
    "start_time": "2022-01-23T11:55:59.816Z"
   },
   {
    "duration": 61,
    "start_time": "2022-01-23T11:55:59.829Z"
   },
   {
    "duration": 371,
    "start_time": "2022-01-23T11:55:59.893Z"
   },
   {
    "duration": 12,
    "start_time": "2022-01-23T11:56:00.266Z"
   },
   {
    "duration": 6,
    "start_time": "2022-01-23T11:56:00.280Z"
   },
   {
    "duration": 11,
    "start_time": "2022-01-23T11:56:00.288Z"
   },
   {
    "duration": 68,
    "start_time": "2022-01-23T11:56:00.301Z"
   },
   {
    "duration": 11,
    "start_time": "2022-01-23T11:56:00.371Z"
   },
   {
    "duration": 22,
    "start_time": "2022-01-23T11:56:00.385Z"
   },
   {
    "duration": 7,
    "start_time": "2022-01-23T11:56:00.410Z"
   },
   {
    "duration": 39,
    "start_time": "2022-01-23T11:56:00.420Z"
   },
   {
    "duration": 1297,
    "start_time": "2022-01-23T11:56:00.462Z"
   },
   {
    "duration": 7,
    "start_time": "2022-01-23T11:56:01.761Z"
   },
   {
    "duration": 5430,
    "start_time": "2022-01-23T11:56:01.771Z"
   },
   {
    "duration": 11,
    "start_time": "2022-01-23T11:56:07.203Z"
   },
   {
    "duration": 5,
    "start_time": "2022-01-23T11:56:07.216Z"
   },
   {
    "duration": 43,
    "start_time": "2022-01-23T11:56:07.224Z"
   },
   {
    "duration": 13,
    "start_time": "2022-01-23T11:56:07.269Z"
   },
   {
    "duration": 14,
    "start_time": "2022-01-23T11:56:07.285Z"
   },
   {
    "duration": 13,
    "start_time": "2022-01-23T11:56:07.302Z"
   },
   {
    "duration": 19,
    "start_time": "2022-01-23T11:56:07.360Z"
   },
   {
    "duration": 20,
    "start_time": "2022-01-23T11:56:07.381Z"
   },
   {
    "duration": 16,
    "start_time": "2022-01-23T11:56:07.403Z"
   },
   {
    "duration": 50,
    "start_time": "2022-01-23T11:56:07.421Z"
   },
   {
    "duration": 14,
    "start_time": "2022-01-23T11:56:07.473Z"
   },
   {
    "duration": 1606,
    "start_time": "2022-01-23T14:32:27.012Z"
   },
   {
    "duration": 262,
    "start_time": "2022-01-23T14:32:28.621Z"
   },
   {
    "duration": 7,
    "start_time": "2022-01-23T14:32:28.885Z"
   },
   {
    "duration": 19,
    "start_time": "2022-01-23T14:32:28.895Z"
   },
   {
    "duration": 15,
    "start_time": "2022-01-23T14:32:28.916Z"
   },
   {
    "duration": 60,
    "start_time": "2022-01-23T14:32:28.933Z"
   },
   {
    "duration": 9,
    "start_time": "2022-01-23T14:32:28.996Z"
   },
   {
    "duration": 6,
    "start_time": "2022-01-23T14:32:29.009Z"
   },
   {
    "duration": 49,
    "start_time": "2022-01-23T14:32:29.018Z"
   },
   {
    "duration": 11,
    "start_time": "2022-01-23T14:32:29.070Z"
   },
   {
    "duration": 29,
    "start_time": "2022-01-23T14:32:29.083Z"
   },
   {
    "duration": 10,
    "start_time": "2022-01-23T14:32:29.114Z"
   },
   {
    "duration": 9,
    "start_time": "2022-01-23T14:32:29.160Z"
   },
   {
    "duration": 10,
    "start_time": "2022-01-23T14:32:29.171Z"
   },
   {
    "duration": 16,
    "start_time": "2022-01-23T14:32:29.183Z"
   },
   {
    "duration": 12,
    "start_time": "2022-01-23T14:32:29.201Z"
   },
   {
    "duration": 44,
    "start_time": "2022-01-23T14:32:29.215Z"
   },
   {
    "duration": 12,
    "start_time": "2022-01-23T14:32:29.261Z"
   },
   {
    "duration": 5,
    "start_time": "2022-01-23T14:32:29.275Z"
   },
   {
    "duration": 10,
    "start_time": "2022-01-23T14:32:29.282Z"
   },
   {
    "duration": 438,
    "start_time": "2022-01-23T14:32:29.294Z"
   },
   {
    "duration": 7,
    "start_time": "2022-01-23T14:32:29.734Z"
   },
   {
    "duration": 15,
    "start_time": "2022-01-23T14:32:29.760Z"
   },
   {
    "duration": 8,
    "start_time": "2022-01-23T14:32:29.778Z"
   },
   {
    "duration": 9,
    "start_time": "2022-01-23T14:32:29.790Z"
   },
   {
    "duration": 10,
    "start_time": "2022-01-23T14:32:29.802Z"
   },
   {
    "duration": 14,
    "start_time": "2022-01-23T14:32:29.858Z"
   },
   {
    "duration": 12,
    "start_time": "2022-01-23T14:32:29.875Z"
   },
   {
    "duration": 10,
    "start_time": "2022-01-23T14:32:29.890Z"
   },
   {
    "duration": 70,
    "start_time": "2022-01-23T14:32:29.903Z"
   },
   {
    "duration": 23,
    "start_time": "2022-01-23T14:32:29.976Z"
   },
   {
    "duration": 26,
    "start_time": "2022-01-23T14:32:30.002Z"
   },
   {
    "duration": 30,
    "start_time": "2022-01-23T14:32:30.031Z"
   },
   {
    "duration": 6,
    "start_time": "2022-01-23T14:32:30.064Z"
   },
   {
    "duration": 101,
    "start_time": "2022-01-23T14:32:30.072Z"
   },
   {
    "duration": 16,
    "start_time": "2022-01-23T14:32:30.177Z"
   },
   {
    "duration": 13,
    "start_time": "2022-01-23T14:32:30.196Z"
   },
   {
    "duration": 62,
    "start_time": "2022-01-23T14:32:30.212Z"
   },
   {
    "duration": 367,
    "start_time": "2022-01-23T14:32:30.277Z"
   },
   {
    "duration": 18,
    "start_time": "2022-01-23T14:32:30.647Z"
   },
   {
    "duration": 6,
    "start_time": "2022-01-23T14:32:30.667Z"
   },
   {
    "duration": 11,
    "start_time": "2022-01-23T14:32:30.676Z"
   },
   {
    "duration": 33,
    "start_time": "2022-01-23T14:32:30.689Z"
   },
   {
    "duration": 43,
    "start_time": "2022-01-23T14:32:30.725Z"
   },
   {
    "duration": 18,
    "start_time": "2022-01-23T14:32:30.771Z"
   },
   {
    "duration": 7,
    "start_time": "2022-01-23T14:32:30.791Z"
   },
   {
    "duration": 13,
    "start_time": "2022-01-23T14:32:30.800Z"
   },
   {
    "duration": 1195,
    "start_time": "2022-01-23T14:32:30.816Z"
   },
   {
    "duration": 6,
    "start_time": "2022-01-23T14:32:32.013Z"
   },
   {
    "duration": 5838,
    "start_time": "2022-01-23T14:32:32.022Z"
   },
   {
    "duration": 13,
    "start_time": "2022-01-23T14:32:37.863Z"
   },
   {
    "duration": 5,
    "start_time": "2022-01-23T14:32:37.879Z"
   },
   {
    "duration": 16,
    "start_time": "2022-01-23T14:32:37.887Z"
   },
   {
    "duration": 12,
    "start_time": "2022-01-23T14:32:37.905Z"
   },
   {
    "duration": 15,
    "start_time": "2022-01-23T14:32:37.960Z"
   },
   {
    "duration": 14,
    "start_time": "2022-01-23T14:32:37.978Z"
   },
   {
    "duration": 19,
    "start_time": "2022-01-23T14:32:37.994Z"
   },
   {
    "duration": 59,
    "start_time": "2022-01-23T14:32:38.015Z"
   },
   {
    "duration": 14,
    "start_time": "2022-01-23T14:32:38.077Z"
   },
   {
    "duration": 13,
    "start_time": "2022-01-23T14:32:38.093Z"
   },
   {
    "duration": 14,
    "start_time": "2022-01-23T14:32:38.108Z"
   }
  ],
  "kernelspec": {
   "display_name": "Python 3",
   "language": "python",
   "name": "python3"
  },
  "language_info": {
   "codemirror_mode": {
    "name": "ipython",
    "version": 3
   },
   "file_extension": ".py",
   "mimetype": "text/x-python",
   "name": "python",
   "nbconvert_exporter": "python",
   "pygments_lexer": "ipython3",
   "version": "3.8.8"
  },
  "toc": {
   "base_numbering": 1,
   "nav_menu": {},
   "number_sections": true,
   "sideBar": true,
   "skip_h1_title": true,
   "title_cell": "Table of Contents",
   "title_sidebar": "Contents",
   "toc_cell": false,
   "toc_position": {
    "height": "calc(100% - 180px)",
    "left": "10px",
    "top": "150px",
    "width": "229.81px"
   },
   "toc_section_display": true,
   "toc_window_display": true
  }
 },
 "nbformat": 4,
 "nbformat_minor": 2
}
